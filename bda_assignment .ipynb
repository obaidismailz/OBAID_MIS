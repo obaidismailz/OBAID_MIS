{
  "nbformat": 4,
  "nbformat_minor": 0,
  "metadata": {
    "colab": {
      "provenance": []
    },
    "kernelspec": {
      "name": "python3",
      "display_name": "Python 3"
    },
    "language_info": {
      "name": "python"
    }
  },
  "cells": [
    {
      "cell_type": "code",
      "execution_count": 1,
      "metadata": {
        "colab": {
          "base_uri": "https://localhost:8080/"
        },
        "id": "evhFvWS1arSb",
        "outputId": "e6c466e3-5ce0-4f35-f06d-1313c6dd2c43"
      },
      "outputs": [
        {
          "output_type": "stream",
          "name": "stdout",
          "text": [
            "/content\n",
            "sample_data\n",
            "java-1.11.0-openjdk-amd64  java-11-openjdk-amd64\n"
          ]
        }
      ],
      "source": [
        "# print working directory\n",
        "!pwd\n",
        "\n",
        "# List files and folders\n",
        "!ls\n",
        "\n",
        "# Check the open jdk version on colab\n",
        "!ls /usr/lib/jvm/"
      ]
    },
    {
      "cell_type": "code",
      "source": [
        "# Download and install Java 8\n",
        "!apt-get update\n",
        "!apt-get install openjdk-8-jdk-headless -qq > /dev/null"
      ],
      "metadata": {
        "colab": {
          "base_uri": "https://localhost:8080/"
        },
        "id": "hKW_obfnbCT7",
        "outputId": "f3ac7b6e-bf97-4c60-d4c1-e72f88b03eb0"
      },
      "execution_count": 2,
      "outputs": [
        {
          "output_type": "stream",
          "name": "stdout",
          "text": [
            "\r0% [Working]\r            \rHit:1 http://archive.ubuntu.com/ubuntu focal InRelease\n",
            "\r0% [Connecting to security.ubuntu.com (185.125.190.39)] [Connected to cloud.r-p\r                                                                               \rGet:2 http://archive.ubuntu.com/ubuntu focal-updates InRelease [114 kB]\n",
            "\r0% [2 InRelease 15.6 kB/114 kB 14%] [Waiting for headers] [Waiting for headers]\r                                                                               \rGet:3 https://cloud.r-project.org/bin/linux/ubuntu focal-cran40/ InRelease [3,622 B]\n",
            "\r0% [2 InRelease 15.6 kB/114 kB 14%] [Waiting for headers] [3 InRelease 3,622 B/\r0% [2 InRelease 15.6 kB/114 kB 14%] [Waiting for headers] [Connecting to ppa.la\r                                                                               \rHit:4 https://developer.download.nvidia.com/compute/cuda/repos/ubuntu2004/x86_64  InRelease\n",
            "Get:5 http://security.ubuntu.com/ubuntu focal-security InRelease [114 kB]\n",
            "Get:6 http://archive.ubuntu.com/ubuntu focal-backports InRelease [108 kB]\n",
            "Hit:7 http://ppa.launchpad.net/c2d4u.team/c2d4u4.0+/ubuntu focal InRelease\n",
            "Hit:8 http://ppa.launchpad.net/cran/libgit2/ubuntu focal InRelease\n",
            "Hit:9 http://ppa.launchpad.net/deadsnakes/ppa/ubuntu focal InRelease\n",
            "Get:10 http://archive.ubuntu.com/ubuntu focal-updates/universe amd64 Packages [1,344 kB]\n",
            "Hit:11 http://ppa.launchpad.net/graphics-drivers/ppa/ubuntu focal InRelease\n",
            "Get:12 http://archive.ubuntu.com/ubuntu focal-updates/main amd64 Packages [3,175 kB]\n",
            "Hit:13 http://ppa.launchpad.net/ubuntugis/ppa/ubuntu focal InRelease\n",
            "Get:14 http://security.ubuntu.com/ubuntu focal-security/main amd64 Packages [2,699 kB]\n",
            "Get:15 http://security.ubuntu.com/ubuntu focal-security/restricted amd64 Packages [2,240 kB]\n",
            "Get:16 http://security.ubuntu.com/ubuntu focal-security/universe amd64 Packages [1,049 kB]\n",
            "Fetched 10.8 MB in 2s (4,638 kB/s)\n",
            "Reading package lists... Done\n"
          ]
        }
      ]
    },
    {
      "cell_type": "code",
      "source": [
        "# Check if we have java 8 or not\n",
        "!ls /usr/lib/jvm/\n"
      ],
      "metadata": {
        "colab": {
          "base_uri": "https://localhost:8080/"
        },
        "id": "-DphvHrhbJuv",
        "outputId": "0df9efd3-3b20-45ea-86a9-c3940c1d3996"
      },
      "execution_count": 3,
      "outputs": [
        {
          "output_type": "stream",
          "name": "stdout",
          "text": [
            "java-1.11.0-openjdk-amd64  java-1.8.0-openjdk-amd64\n",
            "java-11-openjdk-amd64\t   java-8-openjdk-amd64\n"
          ]
        }
      ]
    },
    {
      "cell_type": "code",
      "source": [
        "# Download Apache Spark binary: This link can change based on the version. Update this link with the latest version before using\n",
        "!wget -q https://dlcdn.apache.org/spark/spark-3.4.0/spark-3.4.0-bin-hadoop3.tgz\n",
        "\n",
        "# Unzip file\n",
        "!tar -xvzf spark-3.4.0-bin-hadoop3.tgz"
      ],
      "metadata": {
        "colab": {
          "base_uri": "https://localhost:8080/"
        },
        "id": "UMHcbjljbObA",
        "outputId": "9cb8c3c9-0b4f-4862-ab89-ecc1100a72ce"
      },
      "execution_count": 5,
      "outputs": [
        {
          "output_type": "stream",
          "name": "stdout",
          "text": [
            "spark-3.4.0-bin-hadoop3/\n",
            "spark-3.4.0-bin-hadoop3/data/\n",
            "spark-3.4.0-bin-hadoop3/data/streaming/\n",
            "spark-3.4.0-bin-hadoop3/data/streaming/AFINN-111.txt\n",
            "spark-3.4.0-bin-hadoop3/data/graphx/\n",
            "spark-3.4.0-bin-hadoop3/data/graphx/followers.txt\n",
            "spark-3.4.0-bin-hadoop3/data/graphx/users.txt\n",
            "spark-3.4.0-bin-hadoop3/data/mllib/\n",
            "spark-3.4.0-bin-hadoop3/data/mllib/als/\n",
            "spark-3.4.0-bin-hadoop3/data/mllib/als/test.data\n",
            "spark-3.4.0-bin-hadoop3/data/mllib/als/sample_movielens_ratings.txt\n",
            "spark-3.4.0-bin-hadoop3/data/mllib/gmm_data.txt\n",
            "spark-3.4.0-bin-hadoop3/data/mllib/sample_libsvm_data.txt\n",
            "spark-3.4.0-bin-hadoop3/data/mllib/sample_svm_data.txt\n",
            "spark-3.4.0-bin-hadoop3/data/mllib/sample_fpgrowth.txt\n",
            "spark-3.4.0-bin-hadoop3/data/mllib/kmeans_data.txt\n",
            "spark-3.4.0-bin-hadoop3/data/mllib/pic_data.txt\n",
            "spark-3.4.0-bin-hadoop3/data/mllib/streaming_kmeans_data_test.txt\n",
            "spark-3.4.0-bin-hadoop3/data/mllib/sample_linear_regression_data.txt\n",
            "spark-3.4.0-bin-hadoop3/data/mllib/ridge-data/\n",
            "spark-3.4.0-bin-hadoop3/data/mllib/ridge-data/lpsa.data\n",
            "spark-3.4.0-bin-hadoop3/data/mllib/sample_binary_classification_data.txt\n",
            "spark-3.4.0-bin-hadoop3/data/mllib/pagerank_data.txt\n",
            "spark-3.4.0-bin-hadoop3/data/mllib/sample_isotonic_regression_libsvm_data.txt\n",
            "spark-3.4.0-bin-hadoop3/data/mllib/sample_kmeans_data.txt\n",
            "spark-3.4.0-bin-hadoop3/data/mllib/sample_lda_libsvm_data.txt\n",
            "spark-3.4.0-bin-hadoop3/data/mllib/images/\n",
            "spark-3.4.0-bin-hadoop3/data/mllib/images/license.txt\n",
            "spark-3.4.0-bin-hadoop3/data/mllib/images/origin/\n",
            "spark-3.4.0-bin-hadoop3/data/mllib/images/origin/multi-channel/\n",
            "spark-3.4.0-bin-hadoop3/data/mllib/images/origin/multi-channel/chr30.4.184.jpg\n",
            "spark-3.4.0-bin-hadoop3/data/mllib/images/origin/multi-channel/BGRA_alpha_60.png\n",
            "spark-3.4.0-bin-hadoop3/data/mllib/images/origin/multi-channel/grayscale.jpg\n",
            "spark-3.4.0-bin-hadoop3/data/mllib/images/origin/multi-channel/BGRA.png\n",
            "spark-3.4.0-bin-hadoop3/data/mllib/images/origin/license.txt\n",
            "spark-3.4.0-bin-hadoop3/data/mllib/images/origin/kittens/\n",
            "spark-3.4.0-bin-hadoop3/data/mllib/images/origin/kittens/DP802813.jpg\n",
            "spark-3.4.0-bin-hadoop3/data/mllib/images/origin/kittens/54893.jpg\n",
            "spark-3.4.0-bin-hadoop3/data/mllib/images/origin/kittens/not-image.txt\n",
            "spark-3.4.0-bin-hadoop3/data/mllib/images/origin/kittens/DP153539.jpg\n",
            "spark-3.4.0-bin-hadoop3/data/mllib/images/origin/kittens/29.5.a_b_EGDP022204.jpg\n",
            "spark-3.4.0-bin-hadoop3/data/mllib/sample_lda_data.txt\n",
            "spark-3.4.0-bin-hadoop3/data/mllib/sample_movielens_data.txt\n",
            "spark-3.4.0-bin-hadoop3/data/mllib/sample_multiclass_classification_data.txt\n",
            "spark-3.4.0-bin-hadoop3/LICENSE\n",
            "spark-3.4.0-bin-hadoop3/jars/\n",
            "spark-3.4.0-bin-hadoop3/jars/zookeeper-jute-3.6.3.jar\n",
            "spark-3.4.0-bin-hadoop3/jars/derby-10.14.2.0.jar\n",
            "spark-3.4.0-bin-hadoop3/jars/hive-shims-0.23-2.3.9.jar\n",
            "spark-3.4.0-bin-hadoop3/jars/oro-2.0.8.jar\n",
            "spark-3.4.0-bin-hadoop3/jars/jline-2.14.6.jar\n",
            "spark-3.4.0-bin-hadoop3/jars/netty-buffer-4.1.87.Final.jar\n",
            "spark-3.4.0-bin-hadoop3/jars/libthrift-0.12.0.jar\n",
            "spark-3.4.0-bin-hadoop3/jars/json-1.8.jar\n",
            "spark-3.4.0-bin-hadoop3/jars/kubernetes-model-events-6.4.1.jar\n",
            "spark-3.4.0-bin-hadoop3/jars/avro-ipc-1.11.1.jar\n",
            "spark-3.4.0-bin-hadoop3/jars/jodd-core-3.5.2.jar\n",
            "spark-3.4.0-bin-hadoop3/jars/jackson-dataformat-yaml-2.14.2.jar\n",
            "spark-3.4.0-bin-hadoop3/jars/kubernetes-model-node-6.4.1.jar\n",
            "spark-3.4.0-bin-hadoop3/jars/spark-graphx_2.12-3.4.0.jar\n",
            "spark-3.4.0-bin-hadoop3/jars/commons-compiler-3.1.9.jar\n",
            "spark-3.4.0-bin-hadoop3/jars/javolution-5.5.1.jar\n",
            "spark-3.4.0-bin-hadoop3/jars/jersey-hk2-2.36.jar\n",
            "spark-3.4.0-bin-hadoop3/jars/netty-transport-native-epoll-4.1.87.Final-linux-x86_64.jar\n",
            "spark-3.4.0-bin-hadoop3/jars/opencsv-2.3.jar\n",
            "spark-3.4.0-bin-hadoop3/jars/orc-core-1.8.3-shaded-protobuf.jar\n",
            "spark-3.4.0-bin-hadoop3/jars/netty-transport-native-epoll-4.1.87.Final-linux-aarch_64.jar\n",
            "spark-3.4.0-bin-hadoop3/jars/zjsonpatch-0.3.0.jar\n",
            "spark-3.4.0-bin-hadoop3/jars/commons-collections-3.2.2.jar\n",
            "spark-3.4.0-bin-hadoop3/jars/json4s-scalap_2.12-3.7.0-M11.jar\n",
            "spark-3.4.0-bin-hadoop3/jars/jackson-core-asl-1.9.13.jar\n",
            "spark-3.4.0-bin-hadoop3/jars/jersey-container-servlet-2.36.jar\n",
            "spark-3.4.0-bin-hadoop3/jars/jackson-annotations-2.14.2.jar\n",
            "spark-3.4.0-bin-hadoop3/jars/JLargeArrays-1.5.jar\n",
            "spark-3.4.0-bin-hadoop3/jars/antlr-runtime-3.5.2.jar\n",
            "spark-3.4.0-bin-hadoop3/jars/arpack-3.0.3.jar\n",
            "spark-3.4.0-bin-hadoop3/jars/annotations-17.0.0.jar\n",
            "spark-3.4.0-bin-hadoop3/jars/spark-mllib-local_2.12-3.4.0.jar\n",
            "spark-3.4.0-bin-hadoop3/jars/jul-to-slf4j-2.0.6.jar\n",
            "spark-3.4.0-bin-hadoop3/jars/guava-14.0.1.jar\n",
            "spark-3.4.0-bin-hadoop3/jars/mesos-1.4.3-shaded-protobuf.jar\n",
            "spark-3.4.0-bin-hadoop3/jars/orc-shims-1.8.3.jar\n",
            "spark-3.4.0-bin-hadoop3/jars/hive-storage-api-2.8.1.jar\n",
            "spark-3.4.0-bin-hadoop3/jars/jackson-datatype-jsr310-2.14.2.jar\n",
            "spark-3.4.0-bin-hadoop3/jars/xbean-asm9-shaded-4.22.jar\n",
            "spark-3.4.0-bin-hadoop3/jars/breeze_2.12-2.1.0.jar\n",
            "spark-3.4.0-bin-hadoop3/jars/zookeeper-3.6.3.jar\n",
            "spark-3.4.0-bin-hadoop3/jars/parquet-column-1.12.3.jar\n",
            "spark-3.4.0-bin-hadoop3/jars/spark-mllib_2.12-3.4.0.jar\n",
            "spark-3.4.0-bin-hadoop3/jars/spire-macros_2.12-0.17.0.jar\n",
            "spark-3.4.0-bin-hadoop3/jars/commons-compress-1.22.jar\n",
            "spark-3.4.0-bin-hadoop3/jars/ST4-4.0.4.jar\n",
            "spark-3.4.0-bin-hadoop3/jars/hadoop-client-api-3.3.4.jar\n",
            "spark-3.4.0-bin-hadoop3/jars/arrow-vector-11.0.0.jar\n",
            "spark-3.4.0-bin-hadoop3/jars/curator-framework-2.13.0.jar\n",
            "spark-3.4.0-bin-hadoop3/jars/antlr4-runtime-4.9.3.jar\n",
            "spark-3.4.0-bin-hadoop3/jars/log4j-slf4j2-impl-2.19.0.jar\n",
            "spark-3.4.0-bin-hadoop3/jars/jersey-client-2.36.jar\n",
            "spark-3.4.0-bin-hadoop3/jars/jackson-databind-2.14.2.jar\n",
            "spark-3.4.0-bin-hadoop3/jars/scala-library-2.12.17.jar\n",
            "spark-3.4.0-bin-hadoop3/jars/kubernetes-model-networking-6.4.1.jar\n",
            "spark-3.4.0-bin-hadoop3/jars/hive-llap-common-2.3.9.jar\n",
            "spark-3.4.0-bin-hadoop3/jars/scala-compiler-2.12.17.jar\n",
            "spark-3.4.0-bin-hadoop3/jars/bonecp-0.8.0.RELEASE.jar\n",
            "spark-3.4.0-bin-hadoop3/jars/spark-mesos_2.12-3.4.0.jar\n",
            "spark-3.4.0-bin-hadoop3/jars/snappy-java-1.1.9.1.jar\n",
            "spark-3.4.0-bin-hadoop3/jars/netty-codec-http2-4.1.87.Final.jar\n",
            "spark-3.4.0-bin-hadoop3/jars/netty-common-4.1.87.Final.jar\n",
            "spark-3.4.0-bin-hadoop3/jars/spire-platform_2.12-0.17.0.jar\n",
            "spark-3.4.0-bin-hadoop3/jars/parquet-jackson-1.12.3.jar\n",
            "spark-3.4.0-bin-hadoop3/jars/lz4-java-1.8.0.jar\n",
            "spark-3.4.0-bin-hadoop3/jars/curator-client-2.13.0.jar\n",
            "spark-3.4.0-bin-hadoop3/jars/jdo-api-3.0.1.jar\n",
            "spark-3.4.0-bin-hadoop3/jars/hive-serde-2.3.9.jar\n",
            "spark-3.4.0-bin-hadoop3/jars/httpcore-4.4.16.jar\n",
            "spark-3.4.0-bin-hadoop3/jars/transaction-api-1.1.jar\n",
            "spark-3.4.0-bin-hadoop3/jars/netty-handler-proxy-4.1.87.Final.jar\n",
            "spark-3.4.0-bin-hadoop3/jars/univocity-parsers-2.9.1.jar\n",
            "spark-3.4.0-bin-hadoop3/jars/kubernetes-model-flowcontrol-6.4.1.jar\n",
            "spark-3.4.0-bin-hadoop3/jars/commons-lang-2.6.jar\n",
            "spark-3.4.0-bin-hadoop3/jars/commons-collections4-4.4.jar\n",
            "spark-3.4.0-bin-hadoop3/jars/spark-sketch_2.12-3.4.0.jar\n",
            "spark-3.4.0-bin-hadoop3/jars/netty-transport-native-kqueue-4.1.87.Final-osx-x86_64.jar\n",
            "spark-3.4.0-bin-hadoop3/jars/metrics-jvm-4.2.15.jar\n",
            "spark-3.4.0-bin-hadoop3/jars/jsr305-3.0.0.jar\n",
            "spark-3.4.0-bin-hadoop3/jars/spark-network-shuffle_2.12-3.4.0.jar\n",
            "spark-3.4.0-bin-hadoop3/jars/py4j-0.10.9.7.jar\n",
            "spark-3.4.0-bin-hadoop3/jars/jta-1.1.jar\n",
            "spark-3.4.0-bin-hadoop3/jars/HikariCP-2.5.1.jar\n",
            "spark-3.4.0-bin-hadoop3/jars/spark-catalyst_2.12-3.4.0.jar\n",
            "spark-3.4.0-bin-hadoop3/jars/scala-reflect-2.12.17.jar\n",
            "spark-3.4.0-bin-hadoop3/jars/commons-pool-1.5.4.jar\n",
            "spark-3.4.0-bin-hadoop3/jars/JTransforms-3.1.jar\n",
            "spark-3.4.0-bin-hadoop3/jars/commons-math3-3.6.1.jar\n",
            "spark-3.4.0-bin-hadoop3/jars/flatbuffers-java-1.12.0.jar\n",
            "spark-3.4.0-bin-hadoop3/jars/rocksdbjni-7.9.2.jar\n",
            "spark-3.4.0-bin-hadoop3/jars/okio-1.15.0.jar\n",
            "spark-3.4.0-bin-hadoop3/jars/jersey-server-2.36.jar\n",
            "spark-3.4.0-bin-hadoop3/jars/json4s-core_2.12-3.7.0-M11.jar\n",
            "spark-3.4.0-bin-hadoop3/jars/datanucleus-core-4.1.17.jar\n",
            "spark-3.4.0-bin-hadoop3/jars/threeten-extra-1.7.1.jar\n",
            "spark-3.4.0-bin-hadoop3/jars/spire_2.12-0.17.0.jar\n",
            "spark-3.4.0-bin-hadoop3/jars/jackson-core-2.14.2.jar\n",
            "spark-3.4.0-bin-hadoop3/jars/hadoop-client-runtime-3.3.4.jar\n",
            "spark-3.4.0-bin-hadoop3/jars/osgi-resource-locator-1.0.3.jar\n",
            "spark-3.4.0-bin-hadoop3/jars/cats-kernel_2.12-2.1.1.jar\n",
            "spark-3.4.0-bin-hadoop3/jars/paranamer-2.8.jar\n",
            "spark-3.4.0-bin-hadoop3/jars/pickle-1.3.jar\n",
            "spark-3.4.0-bin-hadoop3/jars/netty-all-4.1.87.Final.jar\n",
            "spark-3.4.0-bin-hadoop3/jars/spark-streaming_2.12-3.4.0.jar\n",
            "spark-3.4.0-bin-hadoop3/jars/spire-util_2.12-0.17.0.jar\n",
            "spark-3.4.0-bin-hadoop3/jars/janino-3.1.9.jar\n",
            "spark-3.4.0-bin-hadoop3/jars/curator-recipes-2.13.0.jar\n",
            "spark-3.4.0-bin-hadoop3/jars/jersey-common-2.36.jar\n",
            "spark-3.4.0-bin-hadoop3/jars/hive-common-2.3.9.jar\n",
            "spark-3.4.0-bin-hadoop3/jars/hk2-locator-2.6.1.jar\n",
            "spark-3.4.0-bin-hadoop3/jars/jakarta.annotation-api-1.3.5.jar\n",
            "spark-3.4.0-bin-hadoop3/jars/jpam-1.1.jar\n",
            "spark-3.4.0-bin-hadoop3/jars/netty-transport-native-kqueue-4.1.87.Final-osx-aarch_64.jar\n",
            "spark-3.4.0-bin-hadoop3/jars/kubernetes-client-6.4.1.jar\n",
            "spark-3.4.0-bin-hadoop3/jars/orc-mapreduce-1.8.3-shaded-protobuf.jar\n",
            "spark-3.4.0-bin-hadoop3/jars/metrics-core-4.2.15.jar\n",
            "spark-3.4.0-bin-hadoop3/jars/datanucleus-rdbms-4.1.19.jar\n",
            "spark-3.4.0-bin-hadoop3/jars/spark-repl_2.12-3.4.0.jar\n",
            "spark-3.4.0-bin-hadoop3/jars/jakarta.inject-2.6.1.jar\n",
            "spark-3.4.0-bin-hadoop3/jars/snakeyaml-1.33.jar\n",
            "spark-3.4.0-bin-hadoop3/jars/minlog-1.3.0.jar\n",
            "spark-3.4.0-bin-hadoop3/jars/httpclient-4.5.14.jar\n",
            "spark-3.4.0-bin-hadoop3/jars/parquet-format-structures-1.12.3.jar\n",
            "spark-3.4.0-bin-hadoop3/jars/hk2-utils-2.6.1.jar\n",
            "spark-3.4.0-bin-hadoop3/jars/hive-cli-2.3.9.jar\n",
            "spark-3.4.0-bin-hadoop3/jars/netty-codec-http-4.1.87.Final.jar\n",
            "spark-3.4.0-bin-hadoop3/jars/kubernetes-httpclient-okhttp-6.4.1.jar\n",
            "spark-3.4.0-bin-hadoop3/jars/jackson-module-scala_2.12-2.14.2.jar\n",
            "spark-3.4.0-bin-hadoop3/jars/audience-annotations-0.5.0.jar\n",
            "spark-3.4.0-bin-hadoop3/jars/arrow-memory-netty-11.0.0.jar\n",
            "spark-3.4.0-bin-hadoop3/jars/kubernetes-model-common-6.4.1.jar\n",
            "spark-3.4.0-bin-hadoop3/jars/netty-transport-classes-epoll-4.1.87.Final.jar\n",
            "spark-3.4.0-bin-hadoop3/jars/kubernetes-model-certificates-6.4.1.jar\n",
            "spark-3.4.0-bin-hadoop3/jars/parquet-hadoop-1.12.3.jar\n",
            "spark-3.4.0-bin-hadoop3/jars/kubernetes-model-core-6.4.1.jar\n",
            "spark-3.4.0-bin-hadoop3/jars/hive-service-rpc-3.1.3.jar\n",
            "spark-3.4.0-bin-hadoop3/jars/spark-kubernetes_2.12-3.4.0.jar\n",
            "spark-3.4.0-bin-hadoop3/jars/kubernetes-model-admissionregistration-6.4.1.jar\n",
            "spark-3.4.0-bin-hadoop3/jars/commons-codec-1.15.jar\n",
            "spark-3.4.0-bin-hadoop3/jars/objenesis-3.2.jar\n",
            "spark-3.4.0-bin-hadoop3/jars/jackson-mapper-asl-1.9.13.jar\n",
            "spark-3.4.0-bin-hadoop3/jars/commons-crypto-1.1.0.jar\n",
            "spark-3.4.0-bin-hadoop3/jars/spark-network-common_2.12-3.4.0.jar\n",
            "spark-3.4.0-bin-hadoop3/jars/hive-shims-2.3.9.jar\n",
            "spark-3.4.0-bin-hadoop3/jars/aircompressor-0.21.jar\n",
            "spark-3.4.0-bin-hadoop3/jars/xz-1.9.jar\n",
            "spark-3.4.0-bin-hadoop3/jars/kubernetes-model-policy-6.4.1.jar\n",
            "spark-3.4.0-bin-hadoop3/jars/kubernetes-model-rbac-6.4.1.jar\n",
            "spark-3.4.0-bin-hadoop3/jars/scala-parser-combinators_2.12-2.1.1.jar\n",
            "spark-3.4.0-bin-hadoop3/jars/arrow-memory-core-11.0.0.jar\n",
            "spark-3.4.0-bin-hadoop3/jars/kubernetes-model-apiextensions-6.4.1.jar\n",
            "spark-3.4.0-bin-hadoop3/jars/jersey-container-servlet-core-2.36.jar\n",
            "spark-3.4.0-bin-hadoop3/jars/protobuf-java-2.5.0.jar\n",
            "spark-3.4.0-bin-hadoop3/jars/commons-logging-1.1.3.jar\n",
            "spark-3.4.0-bin-hadoop3/jars/commons-cli-1.5.0.jar\n",
            "spark-3.4.0-bin-hadoop3/jars/spark-unsafe_2.12-3.4.0.jar\n",
            "spark-3.4.0-bin-hadoop3/jars/log4j-1.2-api-2.19.0.jar\n",
            "spark-3.4.0-bin-hadoop3/jars/jakarta.validation-api-2.0.2.jar\n",
            "spark-3.4.0-bin-hadoop3/jars/spark-kvstore_2.12-3.4.0.jar\n",
            "spark-3.4.0-bin-hadoop3/jars/blas-3.0.3.jar\n",
            "spark-3.4.0-bin-hadoop3/jars/stax-api-1.0.1.jar\n",
            "spark-3.4.0-bin-hadoop3/jars/kubernetes-model-autoscaling-6.4.1.jar\n",
            "spark-3.4.0-bin-hadoop3/jars/commons-dbcp-1.4.jar\n",
            "spark-3.4.0-bin-hadoop3/jars/RoaringBitmap-0.9.38.jar\n",
            "spark-3.4.0-bin-hadoop3/jars/slf4j-api-2.0.6.jar\n",
            "spark-3.4.0-bin-hadoop3/jars/parquet-encoding-1.12.3.jar\n",
            "spark-3.4.0-bin-hadoop3/jars/netty-codec-4.1.87.Final.jar\n",
            "spark-3.4.0-bin-hadoop3/jars/kubernetes-model-batch-6.4.1.jar\n",
            "spark-3.4.0-bin-hadoop3/jars/activation-1.1.1.jar\n",
            "spark-3.4.0-bin-hadoop3/jars/aopalliance-repackaged-2.6.1.jar\n",
            "spark-3.4.0-bin-hadoop3/jars/metrics-jmx-4.2.15.jar\n",
            "spark-3.4.0-bin-hadoop3/jars/ivy-2.5.1.jar\n",
            "spark-3.4.0-bin-hadoop3/jars/spark-sql_2.12-3.4.0.jar\n",
            "spark-3.4.0-bin-hadoop3/jars/jakarta.servlet-api-4.0.3.jar\n",
            "spark-3.4.0-bin-hadoop3/jars/kubernetes-model-extensions-6.4.1.jar\n",
            "spark-3.4.0-bin-hadoop3/jars/hive-metastore-2.3.9.jar\n",
            "spark-3.4.0-bin-hadoop3/jars/tink-1.7.0.jar\n",
            "spark-3.4.0-bin-hadoop3/jars/gson-2.2.4.jar\n",
            "spark-3.4.0-bin-hadoop3/jars/zstd-jni-1.5.2-5.jar\n",
            "spark-3.4.0-bin-hadoop3/jars/hive-shims-scheduler-2.3.9.jar\n",
            "spark-3.4.0-bin-hadoop3/jars/spark-core_2.12-3.4.0.jar\n",
            "spark-3.4.0-bin-hadoop3/jars/netty-transport-native-unix-common-4.1.87.Final.jar\n",
            "spark-3.4.0-bin-hadoop3/jars/hadoop-shaded-guava-1.1.1.jar\n",
            "spark-3.4.0-bin-hadoop3/jars/compress-lzf-1.1.2.jar\n",
            "spark-3.4.0-bin-hadoop3/jars/arrow-format-11.0.0.jar\n",
            "spark-3.4.0-bin-hadoop3/jars/logging-interceptor-3.12.12.jar\n",
            "spark-3.4.0-bin-hadoop3/jars/hive-beeline-2.3.9.jar\n",
            "spark-3.4.0-bin-hadoop3/jars/spark-launcher_2.12-3.4.0.jar\n",
            "spark-3.4.0-bin-hadoop3/jars/jakarta.ws.rs-api-2.1.6.jar\n",
            "spark-3.4.0-bin-hadoop3/jars/kubernetes-model-apps-6.4.1.jar\n",
            "spark-3.4.0-bin-hadoop3/jars/json4s-jackson_2.12-3.7.0-M11.jar\n",
            "spark-3.4.0-bin-hadoop3/jars/spark-tags_2.12-3.4.0.jar\n",
            "spark-3.4.0-bin-hadoop3/jars/okhttp-3.12.12.jar\n",
            "spark-3.4.0-bin-hadoop3/jars/jcl-over-slf4j-2.0.6.jar\n",
            "spark-3.4.0-bin-hadoop3/jars/kubernetes-model-metrics-6.4.1.jar\n",
            "spark-3.4.0-bin-hadoop3/jars/istack-commons-runtime-3.0.8.jar\n",
            "spark-3.4.0-bin-hadoop3/jars/hive-jdbc-2.3.9.jar\n",
            "spark-3.4.0-bin-hadoop3/jars/log4j-api-2.19.0.jar\n",
            "spark-3.4.0-bin-hadoop3/jars/javax.jdo-3.2.0-m3.jar\n",
            "spark-3.4.0-bin-hadoop3/jars/netty-codec-socks-4.1.87.Final.jar\n",
            "spark-3.4.0-bin-hadoop3/jars/leveldbjni-all-1.8.jar\n",
            "spark-3.4.0-bin-hadoop3/jars/stream-2.9.6.jar\n",
            "spark-3.4.0-bin-hadoop3/jars/avro-mapred-1.11.1.jar\n",
            "spark-3.4.0-bin-hadoop3/jars/avro-1.11.1.jar\n",
            "spark-3.4.0-bin-hadoop3/jars/libfb303-0.9.3.jar\n",
            "spark-3.4.0-bin-hadoop3/jars/super-csv-2.2.0.jar\n",
            "spark-3.4.0-bin-hadoop3/jars/kubernetes-model-storageclass-6.4.1.jar\n",
            "spark-3.4.0-bin-hadoop3/jars/netty-transport-4.1.87.Final.jar\n",
            "spark-3.4.0-bin-hadoop3/jars/netty-resolver-4.1.87.Final.jar\n",
            "spark-3.4.0-bin-hadoop3/jars/jaxb-runtime-2.3.2.jar\n",
            "spark-3.4.0-bin-hadoop3/jars/scala-xml_2.12-2.1.0.jar\n",
            "spark-3.4.0-bin-hadoop3/jars/kubernetes-model-coordination-6.4.1.jar\n",
            "spark-3.4.0-bin-hadoop3/jars/kubernetes-model-scheduling-6.4.1.jar\n",
            "spark-3.4.0-bin-hadoop3/jars/chill-java-0.10.0.jar\n",
            "spark-3.4.0-bin-hadoop3/jars/kubernetes-client-api-6.4.1.jar\n",
            "spark-3.4.0-bin-hadoop3/jars/netty-handler-4.1.87.Final.jar\n",
            "spark-3.4.0-bin-hadoop3/jars/breeze-macros_2.12-2.1.0.jar\n",
            "spark-3.4.0-bin-hadoop3/jars/algebra_2.12-2.0.1.jar\n",
            "spark-3.4.0-bin-hadoop3/jars/commons-lang3-3.12.0.jar\n",
            "spark-3.4.0-bin-hadoop3/jars/scala-collection-compat_2.12-2.7.0.jar\n",
            "spark-3.4.0-bin-hadoop3/jars/commons-io-2.11.0.jar\n",
            "spark-3.4.0-bin-hadoop3/jars/spark-yarn_2.12-3.4.0.jar\n",
            "spark-3.4.0-bin-hadoop3/jars/jakarta.xml.bind-api-2.3.2.jar\n",
            "spark-3.4.0-bin-hadoop3/jars/kryo-shaded-4.0.2.jar\n",
            "spark-3.4.0-bin-hadoop3/jars/hk2-api-2.6.1.jar\n",
            "spark-3.4.0-bin-hadoop3/jars/spark-hive_2.12-3.4.0.jar\n",
            "spark-3.4.0-bin-hadoop3/jars/hive-shims-common-2.3.9.jar\n",
            "spark-3.4.0-bin-hadoop3/jars/hive-exec-2.3.9-core.jar\n",
            "spark-3.4.0-bin-hadoop3/jars/kubernetes-model-gatewayapi-6.4.1.jar\n",
            "spark-3.4.0-bin-hadoop3/jars/spark-hive-thriftserver_2.12-3.4.0.jar\n",
            "spark-3.4.0-bin-hadoop3/jars/metrics-graphite-4.2.15.jar\n",
            "spark-3.4.0-bin-hadoop3/jars/chill_2.12-0.10.0.jar\n",
            "spark-3.4.0-bin-hadoop3/jars/shims-0.9.38.jar\n",
            "spark-3.4.0-bin-hadoop3/jars/datanucleus-api-jdo-4.2.4.jar\n",
            "spark-3.4.0-bin-hadoop3/jars/hadoop-yarn-server-web-proxy-3.3.4.jar\n",
            "spark-3.4.0-bin-hadoop3/jars/netty-transport-classes-kqueue-4.1.87.Final.jar\n",
            "spark-3.4.0-bin-hadoop3/jars/metrics-json-4.2.15.jar\n",
            "spark-3.4.0-bin-hadoop3/jars/json4s-ast_2.12-3.7.0-M11.jar\n",
            "spark-3.4.0-bin-hadoop3/jars/dropwizard-metrics-hadoop-metrics2-reporter-0.1.2.jar\n",
            "spark-3.4.0-bin-hadoop3/jars/kubernetes-model-discovery-6.4.1.jar\n",
            "spark-3.4.0-bin-hadoop3/jars/javassist-3.25.0-GA.jar\n",
            "spark-3.4.0-bin-hadoop3/jars/joda-time-2.12.2.jar\n",
            "spark-3.4.0-bin-hadoop3/jars/log4j-core-2.19.0.jar\n",
            "spark-3.4.0-bin-hadoop3/jars/arpack_combined_all-0.1.jar\n",
            "spark-3.4.0-bin-hadoop3/jars/commons-text-1.10.0.jar\n",
            "spark-3.4.0-bin-hadoop3/jars/parquet-common-1.12.3.jar\n",
            "spark-3.4.0-bin-hadoop3/jars/lapack-3.0.3.jar\n",
            "spark-3.4.0-bin-hadoop3/R/\n",
            "spark-3.4.0-bin-hadoop3/R/lib/\n",
            "spark-3.4.0-bin-hadoop3/R/lib/sparkr.zip\n",
            "spark-3.4.0-bin-hadoop3/R/lib/SparkR/\n",
            "spark-3.4.0-bin-hadoop3/R/lib/SparkR/NAMESPACE\n",
            "spark-3.4.0-bin-hadoop3/R/lib/SparkR/worker/\n",
            "spark-3.4.0-bin-hadoop3/R/lib/SparkR/worker/worker.R\n",
            "spark-3.4.0-bin-hadoop3/R/lib/SparkR/worker/daemon.R\n",
            "spark-3.4.0-bin-hadoop3/R/lib/SparkR/profile/\n",
            "spark-3.4.0-bin-hadoop3/R/lib/SparkR/profile/general.R\n",
            "spark-3.4.0-bin-hadoop3/R/lib/SparkR/profile/shell.R\n",
            "spark-3.4.0-bin-hadoop3/R/lib/SparkR/tests/\n",
            "spark-3.4.0-bin-hadoop3/R/lib/SparkR/tests/testthat/\n",
            "spark-3.4.0-bin-hadoop3/R/lib/SparkR/tests/testthat/test_basic.R\n",
            "spark-3.4.0-bin-hadoop3/R/lib/SparkR/R/\n",
            "spark-3.4.0-bin-hadoop3/R/lib/SparkR/R/SparkR.rdx\n",
            "spark-3.4.0-bin-hadoop3/R/lib/SparkR/R/SparkR.rdb\n",
            "spark-3.4.0-bin-hadoop3/R/lib/SparkR/R/SparkR\n",
            "spark-3.4.0-bin-hadoop3/R/lib/SparkR/Meta/\n",
            "spark-3.4.0-bin-hadoop3/R/lib/SparkR/Meta/package.rds\n",
            "spark-3.4.0-bin-hadoop3/R/lib/SparkR/Meta/features.rds\n",
            "spark-3.4.0-bin-hadoop3/R/lib/SparkR/Meta/vignette.rds\n",
            "spark-3.4.0-bin-hadoop3/R/lib/SparkR/Meta/nsInfo.rds\n",
            "spark-3.4.0-bin-hadoop3/R/lib/SparkR/Meta/Rd.rds\n",
            "spark-3.4.0-bin-hadoop3/R/lib/SparkR/Meta/hsearch.rds\n",
            "spark-3.4.0-bin-hadoop3/R/lib/SparkR/Meta/links.rds\n",
            "spark-3.4.0-bin-hadoop3/R/lib/SparkR/html/\n",
            "spark-3.4.0-bin-hadoop3/R/lib/SparkR/html/R.css\n",
            "spark-3.4.0-bin-hadoop3/R/lib/SparkR/html/00Index.html\n",
            "spark-3.4.0-bin-hadoop3/R/lib/SparkR/doc/\n",
            "spark-3.4.0-bin-hadoop3/R/lib/SparkR/doc/sparkr-vignettes.Rmd\n",
            "spark-3.4.0-bin-hadoop3/R/lib/SparkR/doc/sparkr-vignettes.R\n",
            "spark-3.4.0-bin-hadoop3/R/lib/SparkR/doc/sparkr-vignettes.html\n",
            "spark-3.4.0-bin-hadoop3/R/lib/SparkR/doc/index.html\n",
            "spark-3.4.0-bin-hadoop3/R/lib/SparkR/INDEX\n",
            "spark-3.4.0-bin-hadoop3/R/lib/SparkR/DESCRIPTION\n",
            "spark-3.4.0-bin-hadoop3/R/lib/SparkR/help/\n",
            "spark-3.4.0-bin-hadoop3/R/lib/SparkR/help/SparkR.rdx\n",
            "spark-3.4.0-bin-hadoop3/R/lib/SparkR/help/aliases.rds\n",
            "spark-3.4.0-bin-hadoop3/R/lib/SparkR/help/SparkR.rdb\n",
            "spark-3.4.0-bin-hadoop3/R/lib/SparkR/help/paths.rds\n",
            "spark-3.4.0-bin-hadoop3/R/lib/SparkR/help/AnIndex\n",
            "spark-3.4.0-bin-hadoop3/kubernetes/\n",
            "spark-3.4.0-bin-hadoop3/kubernetes/dockerfiles/\n",
            "spark-3.4.0-bin-hadoop3/kubernetes/dockerfiles/spark/\n",
            "spark-3.4.0-bin-hadoop3/kubernetes/dockerfiles/spark/decom.sh\n",
            "spark-3.4.0-bin-hadoop3/kubernetes/dockerfiles/spark/bindings/\n",
            "spark-3.4.0-bin-hadoop3/kubernetes/dockerfiles/spark/bindings/R/\n",
            "spark-3.4.0-bin-hadoop3/kubernetes/dockerfiles/spark/bindings/R/Dockerfile\n",
            "spark-3.4.0-bin-hadoop3/kubernetes/dockerfiles/spark/bindings/python/\n",
            "spark-3.4.0-bin-hadoop3/kubernetes/dockerfiles/spark/bindings/python/Dockerfile\n",
            "spark-3.4.0-bin-hadoop3/kubernetes/dockerfiles/spark/entrypoint.sh\n",
            "spark-3.4.0-bin-hadoop3/kubernetes/dockerfiles/spark/Dockerfile\n",
            "spark-3.4.0-bin-hadoop3/kubernetes/tests/\n",
            "spark-3.4.0-bin-hadoop3/kubernetes/tests/py_container_checks.py\n",
            "spark-3.4.0-bin-hadoop3/kubernetes/tests/decommissioning.py\n",
            "spark-3.4.0-bin-hadoop3/kubernetes/tests/autoscale.py\n",
            "spark-3.4.0-bin-hadoop3/kubernetes/tests/pyfiles.py\n",
            "spark-3.4.0-bin-hadoop3/kubernetes/tests/worker_memory_check.py\n",
            "spark-3.4.0-bin-hadoop3/kubernetes/tests/python_executable_check.py\n",
            "spark-3.4.0-bin-hadoop3/kubernetes/tests/decommissioning_cleanup.py\n",
            "spark-3.4.0-bin-hadoop3/examples/\n",
            "spark-3.4.0-bin-hadoop3/examples/jars/\n",
            "spark-3.4.0-bin-hadoop3/examples/jars/scopt_2.12-3.7.1.jar\n",
            "spark-3.4.0-bin-hadoop3/examples/jars/spark-examples_2.12-3.4.0.jar\n",
            "spark-3.4.0-bin-hadoop3/examples/src/\n",
            "spark-3.4.0-bin-hadoop3/examples/src/main/\n",
            "spark-3.4.0-bin-hadoop3/examples/src/main/scripts/\n",
            "spark-3.4.0-bin-hadoop3/examples/src/main/scripts/getGpusResources.sh\n",
            "spark-3.4.0-bin-hadoop3/examples/src/main/r/\n",
            "spark-3.4.0-bin-hadoop3/examples/src/main/r/streaming/\n",
            "spark-3.4.0-bin-hadoop3/examples/src/main/r/streaming/structured_network_wordcount.R\n",
            "spark-3.4.0-bin-hadoop3/examples/src/main/r/RSparkSQLExample.R\n",
            "spark-3.4.0-bin-hadoop3/examples/src/main/r/dataframe.R\n",
            "spark-3.4.0-bin-hadoop3/examples/src/main/r/data-manipulation.R\n",
            "spark-3.4.0-bin-hadoop3/examples/src/main/r/ml/\n",
            "spark-3.4.0-bin-hadoop3/examples/src/main/r/ml/decisionTree.R\n",
            "spark-3.4.0-bin-hadoop3/examples/src/main/r/ml/logit.R\n",
            "spark-3.4.0-bin-hadoop3/examples/src/main/r/ml/kstest.R\n",
            "spark-3.4.0-bin-hadoop3/examples/src/main/r/ml/gaussianMixture.R\n",
            "spark-3.4.0-bin-hadoop3/examples/src/main/r/ml/fmRegressor.R\n",
            "spark-3.4.0-bin-hadoop3/examples/src/main/r/ml/naiveBayes.R\n",
            "spark-3.4.0-bin-hadoop3/examples/src/main/r/ml/ml.R\n",
            "spark-3.4.0-bin-hadoop3/examples/src/main/r/ml/lda.R\n",
            "spark-3.4.0-bin-hadoop3/examples/src/main/r/ml/kmeans.R\n",
            "spark-3.4.0-bin-hadoop3/examples/src/main/r/ml/isoreg.R\n",
            "spark-3.4.0-bin-hadoop3/examples/src/main/r/ml/lm_with_elastic_net.R\n",
            "spark-3.4.0-bin-hadoop3/examples/src/main/r/ml/als.R\n",
            "spark-3.4.0-bin-hadoop3/examples/src/main/r/ml/fpm.R\n",
            "spark-3.4.0-bin-hadoop3/examples/src/main/r/ml/glm.R\n",
            "spark-3.4.0-bin-hadoop3/examples/src/main/r/ml/bisectingKmeans.R\n",
            "spark-3.4.0-bin-hadoop3/examples/src/main/r/ml/svmLinear.R\n",
            "spark-3.4.0-bin-hadoop3/examples/src/main/r/ml/prefixSpan.R\n",
            "spark-3.4.0-bin-hadoop3/examples/src/main/r/ml/powerIterationClustering.R\n",
            "spark-3.4.0-bin-hadoop3/examples/src/main/r/ml/fmClassifier.R\n",
            "spark-3.4.0-bin-hadoop3/examples/src/main/r/ml/randomForest.R\n",
            "spark-3.4.0-bin-hadoop3/examples/src/main/r/ml/gbt.R\n",
            "spark-3.4.0-bin-hadoop3/examples/src/main/r/ml/survreg.R\n",
            "spark-3.4.0-bin-hadoop3/examples/src/main/r/ml/mlp.R\n",
            "spark-3.4.0-bin-hadoop3/examples/src/main/scala/\n",
            "spark-3.4.0-bin-hadoop3/examples/src/main/scala/org/\n",
            "spark-3.4.0-bin-hadoop3/examples/src/main/scala/org/apache/\n",
            "spark-3.4.0-bin-hadoop3/examples/src/main/scala/org/apache/spark/\n",
            "spark-3.4.0-bin-hadoop3/examples/src/main/scala/org/apache/spark/examples/\n",
            "spark-3.4.0-bin-hadoop3/examples/src/main/scala/org/apache/spark/examples/GroupByTest.scala\n",
            "spark-3.4.0-bin-hadoop3/examples/src/main/scala/org/apache/spark/examples/SparkPageRank.scala\n",
            "spark-3.4.0-bin-hadoop3/examples/src/main/scala/org/apache/spark/examples/sql/\n",
            "spark-3.4.0-bin-hadoop3/examples/src/main/scala/org/apache/spark/examples/sql/SQLDataSourceExample.scala\n",
            "spark-3.4.0-bin-hadoop3/examples/src/main/scala/org/apache/spark/examples/sql/UserDefinedScalar.scala\n",
            "spark-3.4.0-bin-hadoop3/examples/src/main/scala/org/apache/spark/examples/sql/streaming/\n",
            "spark-3.4.0-bin-hadoop3/examples/src/main/scala/org/apache/spark/examples/sql/streaming/StructuredNetworkWordCountWindowed.scala\n",
            "spark-3.4.0-bin-hadoop3/examples/src/main/scala/org/apache/spark/examples/sql/streaming/StructuredSessionization.scala\n",
            "spark-3.4.0-bin-hadoop3/examples/src/main/scala/org/apache/spark/examples/sql/streaming/StructuredKerberizedKafkaWordCount.scala\n",
            "spark-3.4.0-bin-hadoop3/examples/src/main/scala/org/apache/spark/examples/sql/streaming/StructuredComplexSessionization.scala\n",
            "spark-3.4.0-bin-hadoop3/examples/src/main/scala/org/apache/spark/examples/sql/streaming/StructuredNetworkWordCount.scala\n",
            "spark-3.4.0-bin-hadoop3/examples/src/main/scala/org/apache/spark/examples/sql/streaming/StructuredKafkaWordCount.scala\n",
            "spark-3.4.0-bin-hadoop3/examples/src/main/scala/org/apache/spark/examples/sql/UserDefinedUntypedAggregation.scala\n",
            "spark-3.4.0-bin-hadoop3/examples/src/main/scala/org/apache/spark/examples/sql/UserDefinedTypedAggregation.scala\n",
            "spark-3.4.0-bin-hadoop3/examples/src/main/scala/org/apache/spark/examples/sql/RDDRelation.scala\n",
            "spark-3.4.0-bin-hadoop3/examples/src/main/scala/org/apache/spark/examples/sql/SimpleTypedAggregator.scala\n",
            "spark-3.4.0-bin-hadoop3/examples/src/main/scala/org/apache/spark/examples/sql/SparkSQLExample.scala\n",
            "spark-3.4.0-bin-hadoop3/examples/src/main/scala/org/apache/spark/examples/sql/jdbc/\n",
            "spark-3.4.0-bin-hadoop3/examples/src/main/scala/org/apache/spark/examples/sql/jdbc/ExampleJdbcConnectionProvider.scala\n",
            "spark-3.4.0-bin-hadoop3/examples/src/main/scala/org/apache/spark/examples/sql/hive/\n",
            "spark-3.4.0-bin-hadoop3/examples/src/main/scala/org/apache/spark/examples/sql/hive/SparkHiveExample.scala\n",
            "spark-3.4.0-bin-hadoop3/examples/src/main/scala/org/apache/spark/examples/SkewedGroupByTest.scala\n",
            "spark-3.4.0-bin-hadoop3/examples/src/main/scala/org/apache/spark/examples/SparkALS.scala\n",
            "spark-3.4.0-bin-hadoop3/examples/src/main/scala/org/apache/spark/examples/LocalPi.scala\n",
            "spark-3.4.0-bin-hadoop3/examples/src/main/scala/org/apache/spark/examples/streaming/\n",
            "spark-3.4.0-bin-hadoop3/examples/src/main/scala/org/apache/spark/examples/streaming/CustomReceiver.scala\n",
            "spark-3.4.0-bin-hadoop3/examples/src/main/scala/org/apache/spark/examples/streaming/clickstream/\n",
            "spark-3.4.0-bin-hadoop3/examples/src/main/scala/org/apache/spark/examples/streaming/clickstream/PageViewStream.scala\n",
            "spark-3.4.0-bin-hadoop3/examples/src/main/scala/org/apache/spark/examples/streaming/clickstream/PageViewGenerator.scala\n",
            "spark-3.4.0-bin-hadoop3/examples/src/main/scala/org/apache/spark/examples/streaming/RecoverableNetworkWordCount.scala\n",
            "spark-3.4.0-bin-hadoop3/examples/src/main/scala/org/apache/spark/examples/streaming/DirectKafkaWordCount.scala\n",
            "spark-3.4.0-bin-hadoop3/examples/src/main/scala/org/apache/spark/examples/streaming/StreamingExamples.scala\n",
            "spark-3.4.0-bin-hadoop3/examples/src/main/scala/org/apache/spark/examples/streaming/QueueStream.scala\n",
            "spark-3.4.0-bin-hadoop3/examples/src/main/scala/org/apache/spark/examples/streaming/SqlNetworkWordCount.scala\n",
            "spark-3.4.0-bin-hadoop3/examples/src/main/scala/org/apache/spark/examples/streaming/StatefulNetworkWordCount.scala\n",
            "spark-3.4.0-bin-hadoop3/examples/src/main/scala/org/apache/spark/examples/streaming/DirectKerberizedKafkaWordCount.scala\n",
            "spark-3.4.0-bin-hadoop3/examples/src/main/scala/org/apache/spark/examples/streaming/HdfsWordCount.scala\n",
            "spark-3.4.0-bin-hadoop3/examples/src/main/scala/org/apache/spark/examples/streaming/RawNetworkGrep.scala\n",
            "spark-3.4.0-bin-hadoop3/examples/src/main/scala/org/apache/spark/examples/streaming/NetworkWordCount.scala\n",
            "spark-3.4.0-bin-hadoop3/examples/src/main/scala/org/apache/spark/examples/ExceptionHandlingTest.scala\n",
            "spark-3.4.0-bin-hadoop3/examples/src/main/scala/org/apache/spark/examples/SparkRemoteFileTest.scala\n",
            "spark-3.4.0-bin-hadoop3/examples/src/main/scala/org/apache/spark/examples/DFSReadWriteTest.scala\n",
            "spark-3.4.0-bin-hadoop3/examples/src/main/scala/org/apache/spark/examples/SparkTC.scala\n",
            "spark-3.4.0-bin-hadoop3/examples/src/main/scala/org/apache/spark/examples/BroadcastTest.scala\n",
            "spark-3.4.0-bin-hadoop3/examples/src/main/scala/org/apache/spark/examples/SparkKMeans.scala\n",
            "spark-3.4.0-bin-hadoop3/examples/src/main/scala/org/apache/spark/examples/HdfsTest.scala\n",
            "spark-3.4.0-bin-hadoop3/examples/src/main/scala/org/apache/spark/examples/LocalLR.scala\n",
            "spark-3.4.0-bin-hadoop3/examples/src/main/scala/org/apache/spark/examples/LocalKMeans.scala\n",
            "spark-3.4.0-bin-hadoop3/examples/src/main/scala/org/apache/spark/examples/graphx/\n",
            "spark-3.4.0-bin-hadoop3/examples/src/main/scala/org/apache/spark/examples/graphx/LiveJournalPageRank.scala\n",
            "spark-3.4.0-bin-hadoop3/examples/src/main/scala/org/apache/spark/examples/graphx/ConnectedComponentsExample.scala\n",
            "spark-3.4.0-bin-hadoop3/examples/src/main/scala/org/apache/spark/examples/graphx/ComprehensiveExample.scala\n",
            "spark-3.4.0-bin-hadoop3/examples/src/main/scala/org/apache/spark/examples/graphx/AggregateMessagesExample.scala\n",
            "spark-3.4.0-bin-hadoop3/examples/src/main/scala/org/apache/spark/examples/graphx/SSSPExample.scala\n",
            "spark-3.4.0-bin-hadoop3/examples/src/main/scala/org/apache/spark/examples/graphx/SynthBenchmark.scala\n",
            "spark-3.4.0-bin-hadoop3/examples/src/main/scala/org/apache/spark/examples/graphx/PageRankExample.scala\n",
            "spark-3.4.0-bin-hadoop3/examples/src/main/scala/org/apache/spark/examples/graphx/TriangleCountingExample.scala\n",
            "spark-3.4.0-bin-hadoop3/examples/src/main/scala/org/apache/spark/examples/graphx/Analytics.scala\n",
            "spark-3.4.0-bin-hadoop3/examples/src/main/scala/org/apache/spark/examples/SparkHdfsLR.scala\n",
            "spark-3.4.0-bin-hadoop3/examples/src/main/scala/org/apache/spark/examples/extensions/\n",
            "spark-3.4.0-bin-hadoop3/examples/src/main/scala/org/apache/spark/examples/extensions/SparkSessionExtensionsTest.scala\n",
            "spark-3.4.0-bin-hadoop3/examples/src/main/scala/org/apache/spark/examples/extensions/SessionExtensionsWithoutLoader.scala\n",
            "spark-3.4.0-bin-hadoop3/examples/src/main/scala/org/apache/spark/examples/extensions/AgeExample.scala\n",
            "spark-3.4.0-bin-hadoop3/examples/src/main/scala/org/apache/spark/examples/extensions/SessionExtensionsWithLoader.scala\n",
            "spark-3.4.0-bin-hadoop3/examples/src/main/scala/org/apache/spark/examples/LocalFileLR.scala\n",
            "spark-3.4.0-bin-hadoop3/examples/src/main/scala/org/apache/spark/examples/SparkLR.scala\n",
            "spark-3.4.0-bin-hadoop3/examples/src/main/scala/org/apache/spark/examples/MultiBroadcastTest.scala\n",
            "spark-3.4.0-bin-hadoop3/examples/src/main/scala/org/apache/spark/examples/LogQuery.scala\n",
            "spark-3.4.0-bin-hadoop3/examples/src/main/scala/org/apache/spark/examples/SimpleSkewedGroupByTest.scala\n",
            "spark-3.4.0-bin-hadoop3/examples/src/main/scala/org/apache/spark/examples/LocalALS.scala\n",
            "spark-3.4.0-bin-hadoop3/examples/src/main/scala/org/apache/spark/examples/pythonconverters/\n",
            "spark-3.4.0-bin-hadoop3/examples/src/main/scala/org/apache/spark/examples/pythonconverters/AvroConverters.scala\n",
            "spark-3.4.0-bin-hadoop3/examples/src/main/scala/org/apache/spark/examples/ml/\n",
            "spark-3.4.0-bin-hadoop3/examples/src/main/scala/org/apache/spark/examples/ml/PCAExample.scala\n",
            "spark-3.4.0-bin-hadoop3/examples/src/main/scala/org/apache/spark/examples/ml/ALSExample.scala\n",
            "spark-3.4.0-bin-hadoop3/examples/src/main/scala/org/apache/spark/examples/ml/ChiSquareTestExample.scala\n",
            "spark-3.4.0-bin-hadoop3/examples/src/main/scala/org/apache/spark/examples/ml/AFTSurvivalRegressionExample.scala\n",
            "spark-3.4.0-bin-hadoop3/examples/src/main/scala/org/apache/spark/examples/ml/LogisticRegressionWithElasticNetExample.scala\n",
            "spark-3.4.0-bin-hadoop3/examples/src/main/scala/org/apache/spark/examples/ml/RobustScalerExample.scala\n",
            "spark-3.4.0-bin-hadoop3/examples/src/main/scala/org/apache/spark/examples/ml/CountVectorizerExample.scala\n",
            "spark-3.4.0-bin-hadoop3/examples/src/main/scala/org/apache/spark/examples/ml/RandomForestClassifierExample.scala\n",
            "spark-3.4.0-bin-hadoop3/examples/src/main/scala/org/apache/spark/examples/ml/UnaryTransformerExample.scala\n",
            "spark-3.4.0-bin-hadoop3/examples/src/main/scala/org/apache/spark/examples/ml/VectorSizeHintExample.scala\n",
            "spark-3.4.0-bin-hadoop3/examples/src/main/scala/org/apache/spark/examples/ml/NGramExample.scala\n",
            "spark-3.4.0-bin-hadoop3/examples/src/main/scala/org/apache/spark/examples/ml/PolynomialExpansionExample.scala\n",
            "spark-3.4.0-bin-hadoop3/examples/src/main/scala/org/apache/spark/examples/ml/RFormulaExample.scala\n",
            "spark-3.4.0-bin-hadoop3/examples/src/main/scala/org/apache/spark/examples/ml/MaxAbsScalerExample.scala\n",
            "spark-3.4.0-bin-hadoop3/examples/src/main/scala/org/apache/spark/examples/ml/BisectingKMeansExample.scala\n",
            "spark-3.4.0-bin-hadoop3/examples/src/main/scala/org/apache/spark/examples/ml/ModelSelectionViaCrossValidationExample.scala\n",
            "spark-3.4.0-bin-hadoop3/examples/src/main/scala/org/apache/spark/examples/ml/RandomForestExample.scala\n",
            "spark-3.4.0-bin-hadoop3/examples/src/main/scala/org/apache/spark/examples/ml/GeneralizedLinearRegressionExample.scala\n",
            "spark-3.4.0-bin-hadoop3/examples/src/main/scala/org/apache/spark/examples/ml/IndexToStringExample.scala\n",
            "spark-3.4.0-bin-hadoop3/examples/src/main/scala/org/apache/spark/examples/ml/Word2VecExample.scala\n",
            "spark-3.4.0-bin-hadoop3/examples/src/main/scala/org/apache/spark/examples/ml/DCTExample.scala\n",
            "spark-3.4.0-bin-hadoop3/examples/src/main/scala/org/apache/spark/examples/ml/FMRegressorExample.scala\n",
            "spark-3.4.0-bin-hadoop3/examples/src/main/scala/org/apache/spark/examples/ml/UnivariateFeatureSelectorExample.scala\n",
            "spark-3.4.0-bin-hadoop3/examples/src/main/scala/org/apache/spark/examples/ml/DecisionTreeRegressionExample.scala\n",
            "spark-3.4.0-bin-hadoop3/examples/src/main/scala/org/apache/spark/examples/ml/TokenizerExample.scala\n",
            "spark-3.4.0-bin-hadoop3/examples/src/main/scala/org/apache/spark/examples/ml/BucketedRandomProjectionLSHExample.scala\n",
            "spark-3.4.0-bin-hadoop3/examples/src/main/scala/org/apache/spark/examples/ml/VarianceThresholdSelectorExample.scala\n",
            "spark-3.4.0-bin-hadoop3/examples/src/main/scala/org/apache/spark/examples/ml/LinearRegressionExample.scala\n",
            "spark-3.4.0-bin-hadoop3/examples/src/main/scala/org/apache/spark/examples/ml/IsotonicRegressionExample.scala\n",
            "spark-3.4.0-bin-hadoop3/examples/src/main/scala/org/apache/spark/examples/ml/DecisionTreeExample.scala\n",
            "spark-3.4.0-bin-hadoop3/examples/src/main/scala/org/apache/spark/examples/ml/ImputerExample.scala\n",
            "spark-3.4.0-bin-hadoop3/examples/src/main/scala/org/apache/spark/examples/ml/PrefixSpanExample.scala\n",
            "spark-3.4.0-bin-hadoop3/examples/src/main/scala/org/apache/spark/examples/ml/DeveloperApiExample.scala\n",
            "spark-3.4.0-bin-hadoop3/examples/src/main/scala/org/apache/spark/examples/ml/PipelineExample.scala\n",
            "spark-3.4.0-bin-hadoop3/examples/src/main/scala/org/apache/spark/examples/ml/ChiSqSelectorExample.scala\n",
            "spark-3.4.0-bin-hadoop3/examples/src/main/scala/org/apache/spark/examples/ml/NormalizerExample.scala\n",
            "spark-3.4.0-bin-hadoop3/examples/src/main/scala/org/apache/spark/examples/ml/ModelSelectionViaTrainValidationSplitExample.scala\n",
            "spark-3.4.0-bin-hadoop3/examples/src/main/scala/org/apache/spark/examples/ml/FPGrowthExample.scala\n",
            "spark-3.4.0-bin-hadoop3/examples/src/main/scala/org/apache/spark/examples/ml/PowerIterationClusteringExample.scala\n",
            "spark-3.4.0-bin-hadoop3/examples/src/main/scala/org/apache/spark/examples/ml/LogisticRegressionExample.scala\n",
            "spark-3.4.0-bin-hadoop3/examples/src/main/scala/org/apache/spark/examples/ml/StringIndexerExample.scala\n",
            "spark-3.4.0-bin-hadoop3/examples/src/main/scala/org/apache/spark/examples/ml/VectorAssemblerExample.scala\n",
            "spark-3.4.0-bin-hadoop3/examples/src/main/scala/org/apache/spark/examples/ml/OneVsRestExample.scala\n",
            "spark-3.4.0-bin-hadoop3/examples/src/main/scala/org/apache/spark/examples/ml/LDAExample.scala\n",
            "spark-3.4.0-bin-hadoop3/examples/src/main/scala/org/apache/spark/examples/ml/LinearSVCExample.scala\n",
            "spark-3.4.0-bin-hadoop3/examples/src/main/scala/org/apache/spark/examples/ml/FMClassifierExample.scala\n",
            "spark-3.4.0-bin-hadoop3/examples/src/main/scala/org/apache/spark/examples/ml/CorrelationExample.scala\n",
            "spark-3.4.0-bin-hadoop3/examples/src/main/scala/org/apache/spark/examples/ml/OneHotEncoderExample.scala\n",
            "spark-3.4.0-bin-hadoop3/examples/src/main/scala/org/apache/spark/examples/ml/GradientBoostedTreeClassifierExample.scala\n",
            "spark-3.4.0-bin-hadoop3/examples/src/main/scala/org/apache/spark/examples/ml/LinearRegressionWithElasticNetExample.scala\n",
            "spark-3.4.0-bin-hadoop3/examples/src/main/scala/org/apache/spark/examples/ml/LogisticRegressionSummaryExample.scala\n",
            "spark-3.4.0-bin-hadoop3/examples/src/main/scala/org/apache/spark/examples/ml/KMeansExample.scala\n",
            "spark-3.4.0-bin-hadoop3/examples/src/main/scala/org/apache/spark/examples/ml/BinarizerExample.scala\n",
            "spark-3.4.0-bin-hadoop3/examples/src/main/scala/org/apache/spark/examples/ml/QuantileDiscretizerExample.scala\n",
            "spark-3.4.0-bin-hadoop3/examples/src/main/scala/org/apache/spark/examples/ml/StandardScalerExample.scala\n",
            "spark-3.4.0-bin-hadoop3/examples/src/main/scala/org/apache/spark/examples/ml/MulticlassLogisticRegressionWithElasticNetExample.scala\n",
            "spark-3.4.0-bin-hadoop3/examples/src/main/scala/org/apache/spark/examples/ml/GradientBoostedTreeRegressorExample.scala\n",
            "spark-3.4.0-bin-hadoop3/examples/src/main/scala/org/apache/spark/examples/ml/BucketizerExample.scala\n",
            "spark-3.4.0-bin-hadoop3/examples/src/main/scala/org/apache/spark/examples/ml/DataFrameExample.scala\n",
            "spark-3.4.0-bin-hadoop3/examples/src/main/scala/org/apache/spark/examples/ml/MinHashLSHExample.scala\n",
            "spark-3.4.0-bin-hadoop3/examples/src/main/scala/org/apache/spark/examples/ml/ElementwiseProductExample.scala\n",
            "spark-3.4.0-bin-hadoop3/examples/src/main/scala/org/apache/spark/examples/ml/MultilayerPerceptronClassifierExample.scala\n",
            "spark-3.4.0-bin-hadoop3/examples/src/main/scala/org/apache/spark/examples/ml/DecisionTreeClassificationExample.scala\n",
            "spark-3.4.0-bin-hadoop3/examples/src/main/scala/org/apache/spark/examples/ml/StopWordsRemoverExample.scala\n",
            "spark-3.4.0-bin-hadoop3/examples/src/main/scala/org/apache/spark/examples/ml/SQLTransformerExample.scala\n",
            "spark-3.4.0-bin-hadoop3/examples/src/main/scala/org/apache/spark/examples/ml/InteractionExample.scala\n",
            "spark-3.4.0-bin-hadoop3/examples/src/main/scala/org/apache/spark/examples/ml/NaiveBayesExample.scala\n",
            "spark-3.4.0-bin-hadoop3/examples/src/main/scala/org/apache/spark/examples/ml/VectorSlicerExample.scala\n",
            "spark-3.4.0-bin-hadoop3/examples/src/main/scala/org/apache/spark/examples/ml/FeatureHasherExample.scala\n",
            "spark-3.4.0-bin-hadoop3/examples/src/main/scala/org/apache/spark/examples/ml/TfIdfExample.scala\n",
            "spark-3.4.0-bin-hadoop3/examples/src/main/scala/org/apache/spark/examples/ml/RandomForestRegressorExample.scala\n",
            "spark-3.4.0-bin-hadoop3/examples/src/main/scala/org/apache/spark/examples/ml/GBTExample.scala\n",
            "spark-3.4.0-bin-hadoop3/examples/src/main/scala/org/apache/spark/examples/ml/MinMaxScalerExample.scala\n",
            "spark-3.4.0-bin-hadoop3/examples/src/main/scala/org/apache/spark/examples/ml/SummarizerExample.scala\n",
            "spark-3.4.0-bin-hadoop3/examples/src/main/scala/org/apache/spark/examples/ml/VectorIndexerExample.scala\n",
            "spark-3.4.0-bin-hadoop3/examples/src/main/scala/org/apache/spark/examples/ml/EstimatorTransformerParamExample.scala\n",
            "spark-3.4.0-bin-hadoop3/examples/src/main/scala/org/apache/spark/examples/ml/GaussianMixtureExample.scala\n",
            "spark-3.4.0-bin-hadoop3/examples/src/main/scala/org/apache/spark/examples/MiniReadWriteTest.scala\n",
            "spark-3.4.0-bin-hadoop3/examples/src/main/scala/org/apache/spark/examples/AccumulatorMetricsTest.scala\n",
            "spark-3.4.0-bin-hadoop3/examples/src/main/scala/org/apache/spark/examples/SparkPi.scala\n",
            "spark-3.4.0-bin-hadoop3/examples/src/main/scala/org/apache/spark/examples/DriverSubmissionTest.scala\n",
            "spark-3.4.0-bin-hadoop3/examples/src/main/scala/org/apache/spark/examples/mllib/\n",
            "spark-3.4.0-bin-hadoop3/examples/src/main/scala/org/apache/spark/examples/mllib/CosineSimilarity.scala\n",
            "spark-3.4.0-bin-hadoop3/examples/src/main/scala/org/apache/spark/examples/mllib/LatentDirichletAllocationExample.scala\n",
            "spark-3.4.0-bin-hadoop3/examples/src/main/scala/org/apache/spark/examples/mllib/DecisionTreeRunner.scala\n",
            "spark-3.4.0-bin-hadoop3/examples/src/main/scala/org/apache/spark/examples/mllib/StreamingKMeansExample.scala\n",
            "spark-3.4.0-bin-hadoop3/examples/src/main/scala/org/apache/spark/examples/mllib/StreamingLogisticRegression.scala\n",
            "spark-3.4.0-bin-hadoop3/examples/src/main/scala/org/apache/spark/examples/mllib/DenseKMeans.scala\n",
            "spark-3.4.0-bin-hadoop3/examples/src/main/scala/org/apache/spark/examples/mllib/TFIDFExample.scala\n",
            "spark-3.4.0-bin-hadoop3/examples/src/main/scala/org/apache/spark/examples/mllib/LogisticRegressionWithLBFGSExample.scala\n",
            "spark-3.4.0-bin-hadoop3/examples/src/main/scala/org/apache/spark/examples/mllib/TallSkinnyPCA.scala\n",
            "spark-3.4.0-bin-hadoop3/examples/src/main/scala/org/apache/spark/examples/mllib/TallSkinnySVD.scala\n",
            "spark-3.4.0-bin-hadoop3/examples/src/main/scala/org/apache/spark/examples/mllib/LBFGSExample.scala\n",
            "spark-3.4.0-bin-hadoop3/examples/src/main/scala/org/apache/spark/examples/mllib/BisectingKMeansExample.scala\n",
            "spark-3.4.0-bin-hadoop3/examples/src/main/scala/org/apache/spark/examples/mllib/StratifiedSamplingExample.scala\n",
            "spark-3.4.0-bin-hadoop3/examples/src/main/scala/org/apache/spark/examples/mllib/MultiLabelMetricsExample.scala\n",
            "spark-3.4.0-bin-hadoop3/examples/src/main/scala/org/apache/spark/examples/mllib/SampledRDDs.scala\n",
            "spark-3.4.0-bin-hadoop3/examples/src/main/scala/org/apache/spark/examples/mllib/RandomForestClassificationExample.scala\n",
            "spark-3.4.0-bin-hadoop3/examples/src/main/scala/org/apache/spark/examples/mllib/SimpleFPGrowth.scala\n",
            "spark-3.4.0-bin-hadoop3/examples/src/main/scala/org/apache/spark/examples/mllib/Word2VecExample.scala\n",
            "spark-3.4.0-bin-hadoop3/examples/src/main/scala/org/apache/spark/examples/mllib/CorrelationsExample.scala\n",
            "spark-3.4.0-bin-hadoop3/examples/src/main/scala/org/apache/spark/examples/mllib/PCAOnSourceVectorExample.scala\n",
            "spark-3.4.0-bin-hadoop3/examples/src/main/scala/org/apache/spark/examples/mllib/DecisionTreeRegressionExample.scala\n",
            "spark-3.4.0-bin-hadoop3/examples/src/main/scala/org/apache/spark/examples/mllib/PMMLModelExportExample.scala\n",
            "spark-3.4.0-bin-hadoop3/examples/src/main/scala/org/apache/spark/examples/mllib/IsotonicRegressionExample.scala\n",
            "spark-3.4.0-bin-hadoop3/examples/src/main/scala/org/apache/spark/examples/mllib/RandomRDDGeneration.scala\n",
            "spark-3.4.0-bin-hadoop3/examples/src/main/scala/org/apache/spark/examples/mllib/SVDExample.scala\n",
            "spark-3.4.0-bin-hadoop3/examples/src/main/scala/org/apache/spark/examples/mllib/PrefixSpanExample.scala\n",
            "spark-3.4.0-bin-hadoop3/examples/src/main/scala/org/apache/spark/examples/mllib/BinaryClassification.scala\n",
            "spark-3.4.0-bin-hadoop3/examples/src/main/scala/org/apache/spark/examples/mllib/ChiSqSelectorExample.scala\n",
            "spark-3.4.0-bin-hadoop3/examples/src/main/scala/org/apache/spark/examples/mllib/NormalizerExample.scala\n",
            "spark-3.4.0-bin-hadoop3/examples/src/main/scala/org/apache/spark/examples/mllib/FPGrowthExample.scala\n",
            "spark-3.4.0-bin-hadoop3/examples/src/main/scala/org/apache/spark/examples/mllib/StreamingLinearRegressionExample.scala\n",
            "spark-3.4.0-bin-hadoop3/examples/src/main/scala/org/apache/spark/examples/mllib/PowerIterationClusteringExample.scala\n",
            "spark-3.4.0-bin-hadoop3/examples/src/main/scala/org/apache/spark/examples/mllib/RankingMetricsExample.scala\n",
            "spark-3.4.0-bin-hadoop3/examples/src/main/scala/org/apache/spark/examples/mllib/LDAExample.scala\n",
            "spark-3.4.0-bin-hadoop3/examples/src/main/scala/org/apache/spark/examples/mllib/MulticlassMetricsExample.scala\n",
            "spark-3.4.0-bin-hadoop3/examples/src/main/scala/org/apache/spark/examples/mllib/RecommendationExample.scala\n",
            "spark-3.4.0-bin-hadoop3/examples/src/main/scala/org/apache/spark/examples/mllib/SummaryStatisticsExample.scala\n",
            "spark-3.4.0-bin-hadoop3/examples/src/main/scala/org/apache/spark/examples/mllib/MovieLensALS.scala\n",
            "spark-3.4.0-bin-hadoop3/examples/src/main/scala/org/apache/spark/examples/mllib/KMeansExample.scala\n",
            "spark-3.4.0-bin-hadoop3/examples/src/main/scala/org/apache/spark/examples/mllib/AbstractParams.scala\n",
            "spark-3.4.0-bin-hadoop3/examples/src/main/scala/org/apache/spark/examples/mllib/SparseNaiveBayes.scala\n",
            "spark-3.4.0-bin-hadoop3/examples/src/main/scala/org/apache/spark/examples/mllib/StandardScalerExample.scala\n",
            "spark-3.4.0-bin-hadoop3/examples/src/main/scala/org/apache/spark/examples/mllib/GradientBoostingRegressionExample.scala\n",
            "spark-3.4.0-bin-hadoop3/examples/src/main/scala/org/apache/spark/examples/mllib/MultivariateSummarizer.scala\n",
            "spark-3.4.0-bin-hadoop3/examples/src/main/scala/org/apache/spark/examples/mllib/RandomForestRegressionExample.scala\n",
            "spark-3.4.0-bin-hadoop3/examples/src/main/scala/org/apache/spark/examples/mllib/SVMWithSGDExample.scala\n",
            "spark-3.4.0-bin-hadoop3/examples/src/main/scala/org/apache/spark/examples/mllib/AssociationRulesExample.scala\n",
            "spark-3.4.0-bin-hadoop3/examples/src/main/scala/org/apache/spark/examples/mllib/ElementwiseProductExample.scala\n",
            "spark-3.4.0-bin-hadoop3/examples/src/main/scala/org/apache/spark/examples/mllib/StreamingTestExample.scala\n",
            "spark-3.4.0-bin-hadoop3/examples/src/main/scala/org/apache/spark/examples/mllib/KernelDensityEstimationExample.scala\n",
            "spark-3.4.0-bin-hadoop3/examples/src/main/scala/org/apache/spark/examples/mllib/GradientBoostingClassificationExample.scala\n",
            "spark-3.4.0-bin-hadoop3/examples/src/main/scala/org/apache/spark/examples/mllib/HypothesisTestingExample.scala\n",
            "spark-3.4.0-bin-hadoop3/examples/src/main/scala/org/apache/spark/examples/mllib/DecisionTreeClassificationExample.scala\n",
            "spark-3.4.0-bin-hadoop3/examples/src/main/scala/org/apache/spark/examples/mllib/BinaryClassificationMetricsExample.scala\n",
            "spark-3.4.0-bin-hadoop3/examples/src/main/scala/org/apache/spark/examples/mllib/PCAOnRowMatrixExample.scala\n",
            "spark-3.4.0-bin-hadoop3/examples/src/main/scala/org/apache/spark/examples/mllib/NaiveBayesExample.scala\n",
            "spark-3.4.0-bin-hadoop3/examples/src/main/scala/org/apache/spark/examples/mllib/GradientBoostedTreesRunner.scala\n",
            "spark-3.4.0-bin-hadoop3/examples/src/main/scala/org/apache/spark/examples/mllib/Correlations.scala\n",
            "spark-3.4.0-bin-hadoop3/examples/src/main/scala/org/apache/spark/examples/mllib/HypothesisTestingKolmogorovSmirnovTestExample.scala\n",
            "spark-3.4.0-bin-hadoop3/examples/src/main/scala/org/apache/spark/examples/mllib/GaussianMixtureExample.scala\n",
            "spark-3.4.0-bin-hadoop3/examples/src/main/python/\n",
            "spark-3.4.0-bin-hadoop3/examples/src/main/python/sql/\n",
            "spark-3.4.0-bin-hadoop3/examples/src/main/python/sql/streaming/\n",
            "spark-3.4.0-bin-hadoop3/examples/src/main/python/sql/streaming/structured_network_wordcount_windowed.py\n",
            "spark-3.4.0-bin-hadoop3/examples/src/main/python/sql/streaming/structured_sessionization.py\n",
            "spark-3.4.0-bin-hadoop3/examples/src/main/python/sql/streaming/__init__,py\n",
            "spark-3.4.0-bin-hadoop3/examples/src/main/python/sql/streaming/structured_network_wordcount.py\n",
            "spark-3.4.0-bin-hadoop3/examples/src/main/python/sql/streaming/structured_kafka_wordcount.py\n",
            "spark-3.4.0-bin-hadoop3/examples/src/main/python/sql/streaming/structured_network_wordcount_session_window.py\n",
            "spark-3.4.0-bin-hadoop3/examples/src/main/python/sql/datasource.py\n",
            "spark-3.4.0-bin-hadoop3/examples/src/main/python/sql/basic.py\n",
            "spark-3.4.0-bin-hadoop3/examples/src/main/python/sql/__init__.py\n",
            "spark-3.4.0-bin-hadoop3/examples/src/main/python/sql/arrow.py\n",
            "spark-3.4.0-bin-hadoop3/examples/src/main/python/sql/hive.py\n",
            "spark-3.4.0-bin-hadoop3/examples/src/main/python/kmeans.py\n",
            "spark-3.4.0-bin-hadoop3/examples/src/main/python/wordcount.py\n",
            "spark-3.4.0-bin-hadoop3/examples/src/main/python/streaming/\n",
            "spark-3.4.0-bin-hadoop3/examples/src/main/python/streaming/__init__.py\n",
            "spark-3.4.0-bin-hadoop3/examples/src/main/python/streaming/sql_network_wordcount.py\n",
            "spark-3.4.0-bin-hadoop3/examples/src/main/python/streaming/stateful_network_wordcount.py\n",
            "spark-3.4.0-bin-hadoop3/examples/src/main/python/streaming/network_wordcount.py\n",
            "spark-3.4.0-bin-hadoop3/examples/src/main/python/streaming/queue_stream.py\n",
            "spark-3.4.0-bin-hadoop3/examples/src/main/python/streaming/network_wordjoinsentiments.py\n",
            "spark-3.4.0-bin-hadoop3/examples/src/main/python/streaming/hdfs_wordcount.py\n",
            "spark-3.4.0-bin-hadoop3/examples/src/main/python/streaming/recoverable_network_wordcount.py\n",
            "spark-3.4.0-bin-hadoop3/examples/src/main/python/avro_inputformat.py\n",
            "spark-3.4.0-bin-hadoop3/examples/src/main/python/__init__.py\n",
            "spark-3.4.0-bin-hadoop3/examples/src/main/python/logistic_regression.py\n",
            "spark-3.4.0-bin-hadoop3/examples/src/main/python/status_api_demo.py\n",
            "spark-3.4.0-bin-hadoop3/examples/src/main/python/pagerank.py\n",
            "spark-3.4.0-bin-hadoop3/examples/src/main/python/parquet_inputformat.py\n",
            "spark-3.4.0-bin-hadoop3/examples/src/main/python/transitive_closure.py\n",
            "spark-3.4.0-bin-hadoop3/examples/src/main/python/als.py\n",
            "spark-3.4.0-bin-hadoop3/examples/src/main/python/sort.py\n",
            "spark-3.4.0-bin-hadoop3/examples/src/main/python/ml/\n",
            "spark-3.4.0-bin-hadoop3/examples/src/main/python/ml/dct_example.py\n",
            "spark-3.4.0-bin-hadoop3/examples/src/main/python/ml/normalizer_example.py\n",
            "spark-3.4.0-bin-hadoop3/examples/src/main/python/ml/random_forest_classifier_example.py\n",
            "spark-3.4.0-bin-hadoop3/examples/src/main/python/ml/standard_scaler_example.py\n",
            "spark-3.4.0-bin-hadoop3/examples/src/main/python/ml/estimator_transformer_param_example.py\n",
            "spark-3.4.0-bin-hadoop3/examples/src/main/python/ml/binarizer_example.py\n",
            "spark-3.4.0-bin-hadoop3/examples/src/main/python/ml/dataframe_example.py\n",
            "spark-3.4.0-bin-hadoop3/examples/src/main/python/ml/aft_survival_regression.py\n",
            "spark-3.4.0-bin-hadoop3/examples/src/main/python/ml/kmeans_example.py\n",
            "spark-3.4.0-bin-hadoop3/examples/src/main/python/ml/imputer_example.py\n",
            "spark-3.4.0-bin-hadoop3/examples/src/main/python/ml/cross_validator.py\n",
            "spark-3.4.0-bin-hadoop3/examples/src/main/python/ml/bucketed_random_projection_lsh_example.py\n",
            "spark-3.4.0-bin-hadoop3/examples/src/main/python/ml/univariate_feature_selector_example.py\n",
            "spark-3.4.0-bin-hadoop3/examples/src/main/python/ml/rformula_example.py\n",
            "spark-3.4.0-bin-hadoop3/examples/src/main/python/ml/onehot_encoder_example.py\n",
            "spark-3.4.0-bin-hadoop3/examples/src/main/python/ml/chi_square_test_example.py\n",
            "spark-3.4.0-bin-hadoop3/examples/src/main/python/ml/vector_size_hint_example.py\n",
            "spark-3.4.0-bin-hadoop3/examples/src/main/python/ml/linear_regression_with_elastic_net.py\n",
            "spark-3.4.0-bin-hadoop3/examples/src/main/python/ml/decision_tree_classification_example.py\n",
            "spark-3.4.0-bin-hadoop3/examples/src/main/python/ml/__init__,py\n",
            "spark-3.4.0-bin-hadoop3/examples/src/main/python/ml/feature_hasher_example.py\n",
            "spark-3.4.0-bin-hadoop3/examples/src/main/python/ml/count_vectorizer_example.py\n",
            "spark-3.4.0-bin-hadoop3/examples/src/main/python/ml/tokenizer_example.py\n",
            "spark-3.4.0-bin-hadoop3/examples/src/main/python/ml/word2vec_example.py\n",
            "spark-3.4.0-bin-hadoop3/examples/src/main/python/ml/bucketizer_example.py\n",
            "spark-3.4.0-bin-hadoop3/examples/src/main/python/ml/stopwords_remover_example.py\n",
            "spark-3.4.0-bin-hadoop3/examples/src/main/python/ml/polynomial_expansion_example.py\n",
            "spark-3.4.0-bin-hadoop3/examples/src/main/python/ml/elementwise_product_example.py\n",
            "spark-3.4.0-bin-hadoop3/examples/src/main/python/ml/pca_example.py\n",
            "spark-3.4.0-bin-hadoop3/examples/src/main/python/ml/bisecting_k_means_example.py\n",
            "spark-3.4.0-bin-hadoop3/examples/src/main/python/ml/robust_scaler_example.py\n",
            "spark-3.4.0-bin-hadoop3/examples/src/main/python/ml/vector_assembler_example.py\n",
            "spark-3.4.0-bin-hadoop3/examples/src/main/python/ml/quantile_discretizer_example.py\n",
            "spark-3.4.0-bin-hadoop3/examples/src/main/python/ml/tf_idf_example.py\n",
            "spark-3.4.0-bin-hadoop3/examples/src/main/python/ml/gradient_boosted_tree_classifier_example.py\n",
            "spark-3.4.0-bin-hadoop3/examples/src/main/python/ml/fm_classifier_example.py\n",
            "spark-3.4.0-bin-hadoop3/examples/src/main/python/ml/linearsvc.py\n",
            "spark-3.4.0-bin-hadoop3/examples/src/main/python/ml/min_max_scaler_example.py\n",
            "spark-3.4.0-bin-hadoop3/examples/src/main/python/ml/correlation_example.py\n",
            "spark-3.4.0-bin-hadoop3/examples/src/main/python/ml/generalized_linear_regression_example.py\n",
            "spark-3.4.0-bin-hadoop3/examples/src/main/python/ml/multiclass_logistic_regression_with_elastic_net.py\n",
            "spark-3.4.0-bin-hadoop3/examples/src/main/python/ml/sql_transformer.py\n",
            "spark-3.4.0-bin-hadoop3/examples/src/main/python/ml/index_to_string_example.py\n",
            "spark-3.4.0-bin-hadoop3/examples/src/main/python/ml/vector_indexer_example.py\n",
            "spark-3.4.0-bin-hadoop3/examples/src/main/python/ml/multilayer_perceptron_classification.py\n",
            "spark-3.4.0-bin-hadoop3/examples/src/main/python/ml/summarizer_example.py\n",
            "spark-3.4.0-bin-hadoop3/examples/src/main/python/ml/vector_slicer_example.py\n",
            "spark-3.4.0-bin-hadoop3/examples/src/main/python/ml/logistic_regression_summary_example.py\n",
            "spark-3.4.0-bin-hadoop3/examples/src/main/python/ml/pipeline_example.py\n",
            "spark-3.4.0-bin-hadoop3/examples/src/main/python/ml/n_gram_example.py\n",
            "spark-3.4.0-bin-hadoop3/examples/src/main/python/ml/naive_bayes_example.py\n",
            "spark-3.4.0-bin-hadoop3/examples/src/main/python/ml/logistic_regression_with_elastic_net.py\n",
            "spark-3.4.0-bin-hadoop3/examples/src/main/python/ml/fpgrowth_example.py\n",
            "spark-3.4.0-bin-hadoop3/examples/src/main/python/ml/variance_threshold_selector_example.py\n",
            "spark-3.4.0-bin-hadoop3/examples/src/main/python/ml/als_example.py\n",
            "spark-3.4.0-bin-hadoop3/examples/src/main/python/ml/fm_regressor_example.py\n",
            "spark-3.4.0-bin-hadoop3/examples/src/main/python/ml/train_validation_split.py\n",
            "spark-3.4.0-bin-hadoop3/examples/src/main/python/ml/decision_tree_regression_example.py\n",
            "spark-3.4.0-bin-hadoop3/examples/src/main/python/ml/random_forest_regressor_example.py\n",
            "spark-3.4.0-bin-hadoop3/examples/src/main/python/ml/prefixspan_example.py\n",
            "spark-3.4.0-bin-hadoop3/examples/src/main/python/ml/gradient_boosted_tree_regressor_example.py\n",
            "spark-3.4.0-bin-hadoop3/examples/src/main/python/ml/min_hash_lsh_example.py\n",
            "spark-3.4.0-bin-hadoop3/examples/src/main/python/ml/gaussian_mixture_example.py\n",
            "spark-3.4.0-bin-hadoop3/examples/src/main/python/ml/string_indexer_example.py\n",
            "spark-3.4.0-bin-hadoop3/examples/src/main/python/ml/isotonic_regression_example.py\n",
            "spark-3.4.0-bin-hadoop3/examples/src/main/python/ml/interaction_example.py\n",
            "spark-3.4.0-bin-hadoop3/examples/src/main/python/ml/power_iteration_clustering_example.py\n",
            "spark-3.4.0-bin-hadoop3/examples/src/main/python/ml/chisq_selector_example.py\n",
            "spark-3.4.0-bin-hadoop3/examples/src/main/python/ml/lda_example.py\n",
            "spark-3.4.0-bin-hadoop3/examples/src/main/python/ml/max_abs_scaler_example.py\n",
            "spark-3.4.0-bin-hadoop3/examples/src/main/python/ml/one_vs_rest_example.py\n",
            "spark-3.4.0-bin-hadoop3/examples/src/main/python/pi.py\n",
            "spark-3.4.0-bin-hadoop3/examples/src/main/python/mllib/\n",
            "spark-3.4.0-bin-hadoop3/examples/src/main/python/mllib/normalizer_example.py\n",
            "spark-3.4.0-bin-hadoop3/examples/src/main/python/mllib/logistic_regression_with_lbfgs_example.py\n",
            "spark-3.4.0-bin-hadoop3/examples/src/main/python/mllib/kmeans.py\n",
            "spark-3.4.0-bin-hadoop3/examples/src/main/python/mllib/standard_scaler_example.py\n",
            "spark-3.4.0-bin-hadoop3/examples/src/main/python/mllib/word2vec.py\n",
            "spark-3.4.0-bin-hadoop3/examples/src/main/python/mllib/gradient_boosting_classification_example.py\n",
            "spark-3.4.0-bin-hadoop3/examples/src/main/python/mllib/random_forest_regression_example.py\n",
            "spark-3.4.0-bin-hadoop3/examples/src/main/python/mllib/latent_dirichlet_allocation_example.py\n",
            "spark-3.4.0-bin-hadoop3/examples/src/main/python/mllib/regression_metrics_example.py\n",
            "spark-3.4.0-bin-hadoop3/examples/src/main/python/mllib/hypothesis_testing_kolmogorov_smirnov_test_example.py\n",
            "spark-3.4.0-bin-hadoop3/examples/src/main/python/mllib/__init__.py\n",
            "spark-3.4.0-bin-hadoop3/examples/src/main/python/mllib/decision_tree_classification_example.py\n",
            "spark-3.4.0-bin-hadoop3/examples/src/main/python/mllib/logistic_regression.py\n",
            "spark-3.4.0-bin-hadoop3/examples/src/main/python/mllib/linear_regression_with_sgd_example.py\n",
            "spark-3.4.0-bin-hadoop3/examples/src/main/python/mllib/hypothesis_testing_example.py\n",
            "spark-3.4.0-bin-hadoop3/examples/src/main/python/mllib/multi_class_metrics_example.py\n",
            "spark-3.4.0-bin-hadoop3/examples/src/main/python/mllib/k_means_example.py\n",
            "spark-3.4.0-bin-hadoop3/examples/src/main/python/mllib/binary_classification_metrics_example.py\n",
            "spark-3.4.0-bin-hadoop3/examples/src/main/python/mllib/word2vec_example.py\n",
            "spark-3.4.0-bin-hadoop3/examples/src/main/python/mllib/recommendation_example.py\n",
            "spark-3.4.0-bin-hadoop3/examples/src/main/python/mllib/ranking_metrics_example.py\n",
            "spark-3.4.0-bin-hadoop3/examples/src/main/python/mllib/summary_statistics_example.py\n",
            "spark-3.4.0-bin-hadoop3/examples/src/main/python/mllib/elementwise_product_example.py\n",
            "spark-3.4.0-bin-hadoop3/examples/src/main/python/mllib/bisecting_k_means_example.py\n",
            "spark-3.4.0-bin-hadoop3/examples/src/main/python/mllib/gaussian_mixture_model.py\n",
            "spark-3.4.0-bin-hadoop3/examples/src/main/python/mllib/multi_label_metrics_example.py\n",
            "spark-3.4.0-bin-hadoop3/examples/src/main/python/mllib/sampled_rdds.py\n",
            "spark-3.4.0-bin-hadoop3/examples/src/main/python/mllib/tf_idf_example.py\n",
            "spark-3.4.0-bin-hadoop3/examples/src/main/python/mllib/streaming_k_means_example.py\n",
            "spark-3.4.0-bin-hadoop3/examples/src/main/python/mllib/stratified_sampling_example.py\n",
            "spark-3.4.0-bin-hadoop3/examples/src/main/python/mllib/streaming_linear_regression_example.py\n",
            "spark-3.4.0-bin-hadoop3/examples/src/main/python/mllib/kernel_density_estimation_example.py\n",
            "spark-3.4.0-bin-hadoop3/examples/src/main/python/mllib/correlations.py\n",
            "spark-3.4.0-bin-hadoop3/examples/src/main/python/mllib/random_rdd_generation.py\n",
            "spark-3.4.0-bin-hadoop3/examples/src/main/python/mllib/naive_bayes_example.py\n",
            "spark-3.4.0-bin-hadoop3/examples/src/main/python/mllib/fpgrowth_example.py\n",
            "spark-3.4.0-bin-hadoop3/examples/src/main/python/mllib/decision_tree_regression_example.py\n",
            "spark-3.4.0-bin-hadoop3/examples/src/main/python/mllib/random_forest_classification_example.py\n",
            "spark-3.4.0-bin-hadoop3/examples/src/main/python/mllib/svm_with_sgd_example.py\n",
            "spark-3.4.0-bin-hadoop3/examples/src/main/python/mllib/gaussian_mixture_example.py\n",
            "spark-3.4.0-bin-hadoop3/examples/src/main/python/mllib/isotonic_regression_example.py\n",
            "spark-3.4.0-bin-hadoop3/examples/src/main/python/mllib/svd_example.py\n",
            "spark-3.4.0-bin-hadoop3/examples/src/main/python/mllib/power_iteration_clustering_example.py\n",
            "spark-3.4.0-bin-hadoop3/examples/src/main/python/mllib/pca_rowmatrix_example.py\n",
            "spark-3.4.0-bin-hadoop3/examples/src/main/python/mllib/correlations_example.py\n",
            "spark-3.4.0-bin-hadoop3/examples/src/main/python/mllib/gradient_boosting_regression_example.py\n",
            "spark-3.4.0-bin-hadoop3/examples/src/main/java/\n",
            "spark-3.4.0-bin-hadoop3/examples/src/main/java/org/\n",
            "spark-3.4.0-bin-hadoop3/examples/src/main/java/org/apache/\n",
            "spark-3.4.0-bin-hadoop3/examples/src/main/java/org/apache/spark/\n",
            "spark-3.4.0-bin-hadoop3/examples/src/main/java/org/apache/spark/examples/\n",
            "spark-3.4.0-bin-hadoop3/examples/src/main/java/org/apache/spark/examples/sql/\n",
            "spark-3.4.0-bin-hadoop3/examples/src/main/java/org/apache/spark/examples/sql/JavaUserDefinedUntypedAggregation.java\n",
            "spark-3.4.0-bin-hadoop3/examples/src/main/java/org/apache/spark/examples/sql/streaming/\n",
            "spark-3.4.0-bin-hadoop3/examples/src/main/java/org/apache/spark/examples/sql/streaming/JavaStructuredNetworkWordCount.java\n",
            "spark-3.4.0-bin-hadoop3/examples/src/main/java/org/apache/spark/examples/sql/streaming/JavaStructuredNetworkWordCountWindowed.java\n",
            "spark-3.4.0-bin-hadoop3/examples/src/main/java/org/apache/spark/examples/sql/streaming/JavaStructuredComplexSessionization.java\n",
            "spark-3.4.0-bin-hadoop3/examples/src/main/java/org/apache/spark/examples/sql/streaming/JavaStructuredKerberizedKafkaWordCount.java\n",
            "spark-3.4.0-bin-hadoop3/examples/src/main/java/org/apache/spark/examples/sql/streaming/JavaStructuredSessionization.java\n",
            "spark-3.4.0-bin-hadoop3/examples/src/main/java/org/apache/spark/examples/sql/streaming/JavaStructuredKafkaWordCount.java\n",
            "spark-3.4.0-bin-hadoop3/examples/src/main/java/org/apache/spark/examples/sql/JavaUserDefinedScalar.java\n",
            "spark-3.4.0-bin-hadoop3/examples/src/main/java/org/apache/spark/examples/sql/JavaUserDefinedTypedAggregation.java\n",
            "spark-3.4.0-bin-hadoop3/examples/src/main/java/org/apache/spark/examples/sql/JavaSQLDataSourceExample.java\n",
            "spark-3.4.0-bin-hadoop3/examples/src/main/java/org/apache/spark/examples/sql/JavaSparkSQLExample.java\n",
            "spark-3.4.0-bin-hadoop3/examples/src/main/java/org/apache/spark/examples/sql/hive/\n",
            "spark-3.4.0-bin-hadoop3/examples/src/main/java/org/apache/spark/examples/sql/hive/JavaSparkHiveExample.java\n",
            "spark-3.4.0-bin-hadoop3/examples/src/main/java/org/apache/spark/examples/JavaStatusTrackerDemo.java\n",
            "spark-3.4.0-bin-hadoop3/examples/src/main/java/org/apache/spark/examples/streaming/\n",
            "spark-3.4.0-bin-hadoop3/examples/src/main/java/org/apache/spark/examples/streaming/JavaRecoverableNetworkWordCount.java\n",
            "spark-3.4.0-bin-hadoop3/examples/src/main/java/org/apache/spark/examples/streaming/JavaDirectKafkaWordCount.java\n",
            "spark-3.4.0-bin-hadoop3/examples/src/main/java/org/apache/spark/examples/streaming/JavaQueueStream.java\n",
            "spark-3.4.0-bin-hadoop3/examples/src/main/java/org/apache/spark/examples/streaming/JavaDirectKerberizedKafkaWordCount.java\n",
            "spark-3.4.0-bin-hadoop3/examples/src/main/java/org/apache/spark/examples/streaming/JavaCustomReceiver.java\n",
            "spark-3.4.0-bin-hadoop3/examples/src/main/java/org/apache/spark/examples/streaming/JavaStatefulNetworkWordCount.java\n",
            "spark-3.4.0-bin-hadoop3/examples/src/main/java/org/apache/spark/examples/streaming/JavaNetworkWordCount.java\n",
            "spark-3.4.0-bin-hadoop3/examples/src/main/java/org/apache/spark/examples/streaming/JavaRecord.java\n",
            "spark-3.4.0-bin-hadoop3/examples/src/main/java/org/apache/spark/examples/streaming/JavaSqlNetworkWordCount.java\n",
            "spark-3.4.0-bin-hadoop3/examples/src/main/java/org/apache/spark/examples/JavaSparkPi.java\n",
            "spark-3.4.0-bin-hadoop3/examples/src/main/java/org/apache/spark/examples/JavaWordCount.java\n",
            "spark-3.4.0-bin-hadoop3/examples/src/main/java/org/apache/spark/examples/JavaTC.java\n",
            "spark-3.4.0-bin-hadoop3/examples/src/main/java/org/apache/spark/examples/JavaLogQuery.java\n",
            "spark-3.4.0-bin-hadoop3/examples/src/main/java/org/apache/spark/examples/JavaPageRank.java\n",
            "spark-3.4.0-bin-hadoop3/examples/src/main/java/org/apache/spark/examples/JavaHdfsLR.java\n",
            "spark-3.4.0-bin-hadoop3/examples/src/main/java/org/apache/spark/examples/ml/\n",
            "spark-3.4.0-bin-hadoop3/examples/src/main/java/org/apache/spark/examples/ml/JavaKMeansExample.java\n",
            "spark-3.4.0-bin-hadoop3/examples/src/main/java/org/apache/spark/examples/ml/JavaBucketizerExample.java\n",
            "spark-3.4.0-bin-hadoop3/examples/src/main/java/org/apache/spark/examples/ml/JavaVectorSlicerExample.java\n",
            "spark-3.4.0-bin-hadoop3/examples/src/main/java/org/apache/spark/examples/ml/JavaALSExample.java\n",
            "spark-3.4.0-bin-hadoop3/examples/src/main/java/org/apache/spark/examples/ml/JavaLinearSVCExample.java\n",
            "spark-3.4.0-bin-hadoop3/examples/src/main/java/org/apache/spark/examples/ml/JavaVectorIndexerExample.java\n",
            "spark-3.4.0-bin-hadoop3/examples/src/main/java/org/apache/spark/examples/ml/JavaVarianceThresholdSelectorExample.java\n",
            "spark-3.4.0-bin-hadoop3/examples/src/main/java/org/apache/spark/examples/ml/JavaCountVectorizerExample.java\n",
            "spark-3.4.0-bin-hadoop3/examples/src/main/java/org/apache/spark/examples/ml/JavaMinHashLSHExample.java\n",
            "spark-3.4.0-bin-hadoop3/examples/src/main/java/org/apache/spark/examples/ml/JavaStandardScalerExample.java\n",
            "spark-3.4.0-bin-hadoop3/examples/src/main/java/org/apache/spark/examples/ml/JavaSQLTransformerExample.java\n",
            "spark-3.4.0-bin-hadoop3/examples/src/main/java/org/apache/spark/examples/ml/JavaUnivariateFeatureSelectorExample.java\n",
            "spark-3.4.0-bin-hadoop3/examples/src/main/java/org/apache/spark/examples/ml/JavaLabeledDocument.java\n",
            "spark-3.4.0-bin-hadoop3/examples/src/main/java/org/apache/spark/examples/ml/JavaLogisticRegressionSummaryExample.java\n",
            "spark-3.4.0-bin-hadoop3/examples/src/main/java/org/apache/spark/examples/ml/JavaTokenizerExample.java\n",
            "spark-3.4.0-bin-hadoop3/examples/src/main/java/org/apache/spark/examples/ml/JavaLinearRegressionWithElasticNetExample.java\n",
            "spark-3.4.0-bin-hadoop3/examples/src/main/java/org/apache/spark/examples/ml/JavaDecisionTreeClassificationExample.java\n",
            "spark-3.4.0-bin-hadoop3/examples/src/main/java/org/apache/spark/examples/ml/JavaDCTExample.java\n",
            "spark-3.4.0-bin-hadoop3/examples/src/main/java/org/apache/spark/examples/ml/JavaRandomForestRegressorExample.java\n",
            "spark-3.4.0-bin-hadoop3/examples/src/main/java/org/apache/spark/examples/ml/JavaNormalizerExample.java\n",
            "spark-3.4.0-bin-hadoop3/examples/src/main/java/org/apache/spark/examples/ml/JavaWord2VecExample.java\n",
            "spark-3.4.0-bin-hadoop3/examples/src/main/java/org/apache/spark/examples/ml/JavaPolynomialExpansionExample.java\n",
            "spark-3.4.0-bin-hadoop3/examples/src/main/java/org/apache/spark/examples/ml/JavaRFormulaExample.java\n",
            "spark-3.4.0-bin-hadoop3/examples/src/main/java/org/apache/spark/examples/ml/JavaPowerIterationClusteringExample.java\n",
            "spark-3.4.0-bin-hadoop3/examples/src/main/java/org/apache/spark/examples/ml/JavaSummarizerExample.java\n",
            "spark-3.4.0-bin-hadoop3/examples/src/main/java/org/apache/spark/examples/ml/JavaPipelineExample.java\n",
            "spark-3.4.0-bin-hadoop3/examples/src/main/java/org/apache/spark/examples/ml/JavaQuantileDiscretizerExample.java\n",
            "spark-3.4.0-bin-hadoop3/examples/src/main/java/org/apache/spark/examples/ml/JavaBinarizerExample.java\n",
            "spark-3.4.0-bin-hadoop3/examples/src/main/java/org/apache/spark/examples/ml/JavaGradientBoostedTreeClassifierExample.java\n",
            "spark-3.4.0-bin-hadoop3/examples/src/main/java/org/apache/spark/examples/ml/JavaMinMaxScalerExample.java\n",
            "spark-3.4.0-bin-hadoop3/examples/src/main/java/org/apache/spark/examples/ml/JavaMulticlassLogisticRegressionWithElasticNetExample.java\n",
            "spark-3.4.0-bin-hadoop3/examples/src/main/java/org/apache/spark/examples/ml/JavaNaiveBayesExample.java\n",
            "spark-3.4.0-bin-hadoop3/examples/src/main/java/org/apache/spark/examples/ml/JavaVectorSizeHintExample.java\n",
            "spark-3.4.0-bin-hadoop3/examples/src/main/java/org/apache/spark/examples/ml/JavaBisectingKMeansExample.java\n",
            "spark-3.4.0-bin-hadoop3/examples/src/main/java/org/apache/spark/examples/ml/JavaLDAExample.java\n",
            "spark-3.4.0-bin-hadoop3/examples/src/main/java/org/apache/spark/examples/ml/JavaMaxAbsScalerExample.java\n",
            "spark-3.4.0-bin-hadoop3/examples/src/main/java/org/apache/spark/examples/ml/JavaRandomForestClassifierExample.java\n",
            "spark-3.4.0-bin-hadoop3/examples/src/main/java/org/apache/spark/examples/ml/JavaFMRegressorExample.java\n",
            "spark-3.4.0-bin-hadoop3/examples/src/main/java/org/apache/spark/examples/ml/JavaRobustScalerExample.java\n",
            "spark-3.4.0-bin-hadoop3/examples/src/main/java/org/apache/spark/examples/ml/JavaLogisticRegressionWithElasticNetExample.java\n",
            "spark-3.4.0-bin-hadoop3/examples/src/main/java/org/apache/spark/examples/ml/JavaVectorAssemblerExample.java\n",
            "spark-3.4.0-bin-hadoop3/examples/src/main/java/org/apache/spark/examples/ml/JavaAFTSurvivalRegressionExample.java\n",
            "spark-3.4.0-bin-hadoop3/examples/src/main/java/org/apache/spark/examples/ml/JavaOneVsRestExample.java\n",
            "spark-3.4.0-bin-hadoop3/examples/src/main/java/org/apache/spark/examples/ml/JavaInteractionExample.java\n",
            "spark-3.4.0-bin-hadoop3/examples/src/main/java/org/apache/spark/examples/ml/JavaGradientBoostedTreeRegressorExample.java\n",
            "spark-3.4.0-bin-hadoop3/examples/src/main/java/org/apache/spark/examples/ml/JavaIndexToStringExample.java\n",
            "spark-3.4.0-bin-hadoop3/examples/src/main/java/org/apache/spark/examples/ml/JavaPCAExample.java\n",
            "spark-3.4.0-bin-hadoop3/examples/src/main/java/org/apache/spark/examples/ml/JavaChiSquareTestExample.java\n",
            "spark-3.4.0-bin-hadoop3/examples/src/main/java/org/apache/spark/examples/ml/JavaFMClassifierExample.java\n",
            "spark-3.4.0-bin-hadoop3/examples/src/main/java/org/apache/spark/examples/ml/JavaOneHotEncoderExample.java\n",
            "spark-3.4.0-bin-hadoop3/examples/src/main/java/org/apache/spark/examples/ml/JavaImputerExample.java\n",
            "spark-3.4.0-bin-hadoop3/examples/src/main/java/org/apache/spark/examples/ml/JavaBucketedRandomProjectionLSHExample.java\n",
            "spark-3.4.0-bin-hadoop3/examples/src/main/java/org/apache/spark/examples/ml/JavaStringIndexerExample.java\n",
            "spark-3.4.0-bin-hadoop3/examples/src/main/java/org/apache/spark/examples/ml/JavaChiSqSelectorExample.java\n",
            "spark-3.4.0-bin-hadoop3/examples/src/main/java/org/apache/spark/examples/ml/JavaDecisionTreeRegressionExample.java\n",
            "spark-3.4.0-bin-hadoop3/examples/src/main/java/org/apache/spark/examples/ml/JavaModelSelectionViaCrossValidationExample.java\n",
            "spark-3.4.0-bin-hadoop3/examples/src/main/java/org/apache/spark/examples/ml/JavaGeneralizedLinearRegressionExample.java\n",
            "spark-3.4.0-bin-hadoop3/examples/src/main/java/org/apache/spark/examples/ml/JavaCorrelationExample.java\n",
            "spark-3.4.0-bin-hadoop3/examples/src/main/java/org/apache/spark/examples/ml/JavaElementwiseProductExample.java\n",
            "spark-3.4.0-bin-hadoop3/examples/src/main/java/org/apache/spark/examples/ml/JavaMultilayerPerceptronClassifierExample.java\n",
            "spark-3.4.0-bin-hadoop3/examples/src/main/java/org/apache/spark/examples/ml/JavaNGramExample.java\n",
            "spark-3.4.0-bin-hadoop3/examples/src/main/java/org/apache/spark/examples/ml/JavaTfIdfExample.java\n",
            "spark-3.4.0-bin-hadoop3/examples/src/main/java/org/apache/spark/examples/ml/JavaIsotonicRegressionExample.java\n",
            "spark-3.4.0-bin-hadoop3/examples/src/main/java/org/apache/spark/examples/ml/JavaFeatureHasherExample.java\n",
            "spark-3.4.0-bin-hadoop3/examples/src/main/java/org/apache/spark/examples/ml/JavaStopWordsRemoverExample.java\n",
            "spark-3.4.0-bin-hadoop3/examples/src/main/java/org/apache/spark/examples/ml/JavaEstimatorTransformerParamExample.java\n",
            "spark-3.4.0-bin-hadoop3/examples/src/main/java/org/apache/spark/examples/ml/JavaDocument.java\n",
            "spark-3.4.0-bin-hadoop3/examples/src/main/java/org/apache/spark/examples/ml/JavaModelSelectionViaTrainValidationSplitExample.java\n",
            "spark-3.4.0-bin-hadoop3/examples/src/main/java/org/apache/spark/examples/ml/JavaPrefixSpanExample.java\n",
            "spark-3.4.0-bin-hadoop3/examples/src/main/java/org/apache/spark/examples/ml/JavaFPGrowthExample.java\n",
            "spark-3.4.0-bin-hadoop3/examples/src/main/java/org/apache/spark/examples/ml/JavaGaussianMixtureExample.java\n",
            "spark-3.4.0-bin-hadoop3/examples/src/main/java/org/apache/spark/examples/mllib/\n",
            "spark-3.4.0-bin-hadoop3/examples/src/main/java/org/apache/spark/examples/mllib/JavaLBFGSExample.java\n",
            "spark-3.4.0-bin-hadoop3/examples/src/main/java/org/apache/spark/examples/mllib/JavaKMeansExample.java\n",
            "spark-3.4.0-bin-hadoop3/examples/src/main/java/org/apache/spark/examples/mllib/JavaStratifiedSamplingExample.java\n",
            "spark-3.4.0-bin-hadoop3/examples/src/main/java/org/apache/spark/examples/mllib/JavaMulticlassClassificationMetricsExample.java\n",
            "spark-3.4.0-bin-hadoop3/examples/src/main/java/org/apache/spark/examples/mllib/JavaRandomForestClassificationExample.java\n",
            "spark-3.4.0-bin-hadoop3/examples/src/main/java/org/apache/spark/examples/mllib/JavaAssociationRulesExample.java\n",
            "spark-3.4.0-bin-hadoop3/examples/src/main/java/org/apache/spark/examples/mllib/JavaSVDExample.java\n",
            "spark-3.4.0-bin-hadoop3/examples/src/main/java/org/apache/spark/examples/mllib/JavaRecommendationExample.java\n",
            "spark-3.4.0-bin-hadoop3/examples/src/main/java/org/apache/spark/examples/mllib/JavaHypothesisTestingExample.java\n",
            "spark-3.4.0-bin-hadoop3/examples/src/main/java/org/apache/spark/examples/mllib/JavaDecisionTreeClassificationExample.java\n",
            "spark-3.4.0-bin-hadoop3/examples/src/main/java/org/apache/spark/examples/mllib/JavaMultiLabelClassificationMetricsExample.java\n",
            "spark-3.4.0-bin-hadoop3/examples/src/main/java/org/apache/spark/examples/mllib/JavaPowerIterationClusteringExample.java\n",
            "spark-3.4.0-bin-hadoop3/examples/src/main/java/org/apache/spark/examples/mllib/JavaKernelDensityEstimationExample.java\n",
            "spark-3.4.0-bin-hadoop3/examples/src/main/java/org/apache/spark/examples/mllib/JavaNaiveBayesExample.java\n",
            "spark-3.4.0-bin-hadoop3/examples/src/main/java/org/apache/spark/examples/mllib/JavaSVMWithSGDExample.java\n",
            "spark-3.4.0-bin-hadoop3/examples/src/main/java/org/apache/spark/examples/mllib/JavaBisectingKMeansExample.java\n",
            "spark-3.4.0-bin-hadoop3/examples/src/main/java/org/apache/spark/examples/mllib/JavaLatentDirichletAllocationExample.java\n",
            "spark-3.4.0-bin-hadoop3/examples/src/main/java/org/apache/spark/examples/mllib/JavaBinaryClassificationMetricsExample.java\n",
            "spark-3.4.0-bin-hadoop3/examples/src/main/java/org/apache/spark/examples/mllib/JavaLogisticRegressionWithLBFGSExample.java\n",
            "spark-3.4.0-bin-hadoop3/examples/src/main/java/org/apache/spark/examples/mllib/JavaALS.java\n",
            "spark-3.4.0-bin-hadoop3/examples/src/main/java/org/apache/spark/examples/mllib/JavaStreamingTestExample.java\n",
            "spark-3.4.0-bin-hadoop3/examples/src/main/java/org/apache/spark/examples/mllib/JavaSimpleFPGrowth.java\n",
            "spark-3.4.0-bin-hadoop3/examples/src/main/java/org/apache/spark/examples/mllib/JavaPCAExample.java\n",
            "spark-3.4.0-bin-hadoop3/examples/src/main/java/org/apache/spark/examples/mllib/JavaGradientBoostingClassificationExample.java\n",
            "spark-3.4.0-bin-hadoop3/examples/src/main/java/org/apache/spark/examples/mllib/JavaRandomForestRegressionExample.java\n",
            "spark-3.4.0-bin-hadoop3/examples/src/main/java/org/apache/spark/examples/mllib/JavaHypothesisTestingKolmogorovSmirnovTestExample.java\n",
            "spark-3.4.0-bin-hadoop3/examples/src/main/java/org/apache/spark/examples/mllib/JavaChiSqSelectorExample.java\n",
            "spark-3.4.0-bin-hadoop3/examples/src/main/java/org/apache/spark/examples/mllib/JavaDecisionTreeRegressionExample.java\n",
            "spark-3.4.0-bin-hadoop3/examples/src/main/java/org/apache/spark/examples/mllib/JavaSummaryStatisticsExample.java\n",
            "spark-3.4.0-bin-hadoop3/examples/src/main/java/org/apache/spark/examples/mllib/JavaRankingMetricsExample.java\n",
            "spark-3.4.0-bin-hadoop3/examples/src/main/java/org/apache/spark/examples/mllib/JavaElementwiseProductExample.java\n",
            "spark-3.4.0-bin-hadoop3/examples/src/main/java/org/apache/spark/examples/mllib/JavaCorrelationsExample.java\n",
            "spark-3.4.0-bin-hadoop3/examples/src/main/java/org/apache/spark/examples/mllib/JavaIsotonicRegressionExample.java\n",
            "spark-3.4.0-bin-hadoop3/examples/src/main/java/org/apache/spark/examples/mllib/JavaPrefixSpanExample.java\n",
            "spark-3.4.0-bin-hadoop3/examples/src/main/java/org/apache/spark/examples/mllib/JavaGradientBoostingRegressionExample.java\n",
            "spark-3.4.0-bin-hadoop3/examples/src/main/java/org/apache/spark/examples/mllib/JavaGaussianMixtureExample.java\n",
            "spark-3.4.0-bin-hadoop3/examples/src/main/resources/\n",
            "spark-3.4.0-bin-hadoop3/examples/src/main/resources/users.parquet\n",
            "spark-3.4.0-bin-hadoop3/examples/src/main/resources/META-INF/\n",
            "spark-3.4.0-bin-hadoop3/examples/src/main/resources/META-INF/services/\n",
            "spark-3.4.0-bin-hadoop3/examples/src/main/resources/META-INF/services/org.apache.spark.sql.jdbc.JdbcConnectionProvider\n",
            "spark-3.4.0-bin-hadoop3/examples/src/main/resources/META-INF/services/org.apache.spark.sql.SparkSessionExtensionsProvider\n",
            "spark-3.4.0-bin-hadoop3/examples/src/main/resources/user.avsc\n",
            "spark-3.4.0-bin-hadoop3/examples/src/main/resources/employees.json\n",
            "spark-3.4.0-bin-hadoop3/examples/src/main/resources/dir1/\n",
            "spark-3.4.0-bin-hadoop3/examples/src/main/resources/dir1/file1.parquet\n",
            "spark-3.4.0-bin-hadoop3/examples/src/main/resources/dir1/file3.json\n",
            "spark-3.4.0-bin-hadoop3/examples/src/main/resources/dir1/dir2/\n",
            "spark-3.4.0-bin-hadoop3/examples/src/main/resources/dir1/dir2/file2.parquet\n",
            "spark-3.4.0-bin-hadoop3/examples/src/main/resources/users.avro\n",
            "spark-3.4.0-bin-hadoop3/examples/src/main/resources/kv1.txt\n",
            "spark-3.4.0-bin-hadoop3/examples/src/main/resources/people.json\n",
            "spark-3.4.0-bin-hadoop3/examples/src/main/resources/people.txt\n",
            "spark-3.4.0-bin-hadoop3/examples/src/main/resources/users.orc\n",
            "spark-3.4.0-bin-hadoop3/examples/src/main/resources/full_user.avsc\n",
            "spark-3.4.0-bin-hadoop3/examples/src/main/resources/people.csv\n",
            "spark-3.4.0-bin-hadoop3/conf/\n",
            "spark-3.4.0-bin-hadoop3/conf/metrics.properties.template\n",
            "spark-3.4.0-bin-hadoop3/conf/workers.template\n",
            "spark-3.4.0-bin-hadoop3/conf/spark-defaults.conf.template\n",
            "spark-3.4.0-bin-hadoop3/conf/log4j2.properties.template\n",
            "spark-3.4.0-bin-hadoop3/conf/spark-env.sh.template\n",
            "spark-3.4.0-bin-hadoop3/conf/fairscheduler.xml.template\n",
            "spark-3.4.0-bin-hadoop3/NOTICE\n",
            "spark-3.4.0-bin-hadoop3/yarn/\n",
            "spark-3.4.0-bin-hadoop3/yarn/spark-3.4.0-yarn-shuffle.jar\n",
            "spark-3.4.0-bin-hadoop3/python/\n",
            "spark-3.4.0-bin-hadoop3/python/.gitignore\n",
            "spark-3.4.0-bin-hadoop3/python/setup.cfg\n",
            "spark-3.4.0-bin-hadoop3/python/pyspark/\n",
            "spark-3.4.0-bin-hadoop3/python/pyspark/install.py\n",
            "spark-3.4.0-bin-hadoop3/python/pyspark/sql/\n",
            "spark-3.4.0-bin-hadoop3/python/pyspark/sql/connect/\n",
            "spark-3.4.0-bin-hadoop3/python/pyspark/sql/connect/dataframe.py\n",
            "spark-3.4.0-bin-hadoop3/python/pyspark/sql/connect/plan.py\n",
            "spark-3.4.0-bin-hadoop3/python/pyspark/sql/connect/_typing.py\n",
            "spark-3.4.0-bin-hadoop3/python/pyspark/sql/connect/__init__.py\n",
            "spark-3.4.0-bin-hadoop3/python/pyspark/sql/connect/proto/\n",
            "spark-3.4.0-bin-hadoop3/python/pyspark/sql/connect/proto/relations_pb2.py\n",
            "spark-3.4.0-bin-hadoop3/python/pyspark/sql/connect/proto/catalog_pb2.pyi\n",
            "spark-3.4.0-bin-hadoop3/python/pyspark/sql/connect/proto/common_pb2.py\n",
            "spark-3.4.0-bin-hadoop3/python/pyspark/sql/connect/proto/__init__.py\n",
            "spark-3.4.0-bin-hadoop3/python/pyspark/sql/connect/proto/base_pb2.pyi\n",
            "spark-3.4.0-bin-hadoop3/python/pyspark/sql/connect/proto/expressions_pb2.py\n",
            "spark-3.4.0-bin-hadoop3/python/pyspark/sql/connect/proto/commands_pb2.pyi\n",
            "spark-3.4.0-bin-hadoop3/python/pyspark/sql/connect/proto/base_pb2.py\n",
            "spark-3.4.0-bin-hadoop3/python/pyspark/sql/connect/proto/example_plugins_pb2.pyi\n",
            "spark-3.4.0-bin-hadoop3/python/pyspark/sql/connect/proto/commands_pb2.py\n",
            "spark-3.4.0-bin-hadoop3/python/pyspark/sql/connect/proto/expressions_pb2.pyi\n",
            "spark-3.4.0-bin-hadoop3/python/pyspark/sql/connect/proto/types_pb2.py\n",
            "spark-3.4.0-bin-hadoop3/python/pyspark/sql/connect/proto/relations_pb2.pyi\n",
            "spark-3.4.0-bin-hadoop3/python/pyspark/sql/connect/proto/common_pb2.pyi\n",
            "spark-3.4.0-bin-hadoop3/python/pyspark/sql/connect/proto/example_plugins_pb2.py\n",
            "spark-3.4.0-bin-hadoop3/python/pyspark/sql/connect/proto/catalog_pb2.py\n",
            "spark-3.4.0-bin-hadoop3/python/pyspark/sql/connect/proto/types_pb2.pyi\n",
            "spark-3.4.0-bin-hadoop3/python/pyspark/sql/connect/proto/base_pb2_grpc.py\n",
            "spark-3.4.0-bin-hadoop3/python/pyspark/sql/connect/window.py\n",
            "spark-3.4.0-bin-hadoop3/python/pyspark/sql/connect/readwriter.py\n",
            "spark-3.4.0-bin-hadoop3/python/pyspark/sql/connect/column.py\n",
            "spark-3.4.0-bin-hadoop3/python/pyspark/sql/connect/utils.py\n",
            "spark-3.4.0-bin-hadoop3/python/pyspark/sql/connect/session.py\n",
            "spark-3.4.0-bin-hadoop3/python/pyspark/sql/connect/functions.py\n",
            "spark-3.4.0-bin-hadoop3/python/pyspark/sql/connect/udf.py\n",
            "spark-3.4.0-bin-hadoop3/python/pyspark/sql/connect/types.py\n",
            "spark-3.4.0-bin-hadoop3/python/pyspark/sql/connect/conf.py\n",
            "spark-3.4.0-bin-hadoop3/python/pyspark/sql/connect/group.py\n",
            "spark-3.4.0-bin-hadoop3/python/pyspark/sql/connect/catalog.py\n",
            "spark-3.4.0-bin-hadoop3/python/pyspark/sql/connect/client.py\n",
            "spark-3.4.0-bin-hadoop3/python/pyspark/sql/connect/expressions.py\n",
            "spark-3.4.0-bin-hadoop3/python/pyspark/sql/connect/conversion.py\n",
            "spark-3.4.0-bin-hadoop3/python/pyspark/sql/dataframe.py\n",
            "spark-3.4.0-bin-hadoop3/python/pyspark/sql/sql_formatter.py\n",
            "spark-3.4.0-bin-hadoop3/python/pyspark/sql/observation.py\n",
            "spark-3.4.0-bin-hadoop3/python/pyspark/sql/streaming/\n",
            "spark-3.4.0-bin-hadoop3/python/pyspark/sql/streaming/__init__.py\n",
            "spark-3.4.0-bin-hadoop3/python/pyspark/sql/streaming/listener.py\n",
            "spark-3.4.0-bin-hadoop3/python/pyspark/sql/streaming/readwriter.py\n",
            "spark-3.4.0-bin-hadoop3/python/pyspark/sql/streaming/query.py\n",
            "spark-3.4.0-bin-hadoop3/python/pyspark/sql/streaming/state.py\n",
            "spark-3.4.0-bin-hadoop3/python/pyspark/sql/avro/\n",
            "spark-3.4.0-bin-hadoop3/python/pyspark/sql/avro/__init__.py\n",
            "spark-3.4.0-bin-hadoop3/python/pyspark/sql/avro/functions.py\n",
            "spark-3.4.0-bin-hadoop3/python/pyspark/sql/__init__.py\n",
            "spark-3.4.0-bin-hadoop3/python/pyspark/sql/tests/\n",
            "spark-3.4.0-bin-hadoop3/python/pyspark/sql/tests/connect/\n",
            "spark-3.4.0-bin-hadoop3/python/pyspark/sql/tests/connect/test_connect_function.py\n",
            "spark-3.4.0-bin-hadoop3/python/pyspark/sql/tests/connect/test_parity_group.py\n",
            "spark-3.4.0-bin-hadoop3/python/pyspark/sql/tests/connect/test_parity_catalog.py\n",
            "spark-3.4.0-bin-hadoop3/python/pyspark/sql/tests/connect/test_parity_arrow.py\n",
            "spark-3.4.0-bin-hadoop3/python/pyspark/sql/tests/connect/test_connect_plan.py\n",
            "spark-3.4.0-bin-hadoop3/python/pyspark/sql/tests/connect/__init__.py\n",
            "spark-3.4.0-bin-hadoop3/python/pyspark/sql/tests/connect/test_parity_conf.py\n",
            "spark-3.4.0-bin-hadoop3/python/pyspark/sql/tests/connect/test_parity_udf.py\n",
            "spark-3.4.0-bin-hadoop3/python/pyspark/sql/tests/connect/test_parity_dataframe.py\n",
            "spark-3.4.0-bin-hadoop3/python/pyspark/sql/tests/connect/test_parity_pandas_map.py\n",
            "spark-3.4.0-bin-hadoop3/python/pyspark/sql/tests/connect/test_parity_arrow_map.py\n",
            "spark-3.4.0-bin-hadoop3/python/pyspark/sql/tests/connect/test_parity_pandas_udf.py\n",
            "spark-3.4.0-bin-hadoop3/python/pyspark/sql/tests/connect/test_connect_column.py\n",
            "spark-3.4.0-bin-hadoop3/python/pyspark/sql/tests/connect/test_parity_pandas_grouped_map.py\n",
            "spark-3.4.0-bin-hadoop3/python/pyspark/sql/tests/connect/test_parity_types.py\n",
            "spark-3.4.0-bin-hadoop3/python/pyspark/sql/tests/connect/test_parity_datasources.py\n",
            "spark-3.4.0-bin-hadoop3/python/pyspark/sql/tests/connect/test_parity_column.py\n",
            "spark-3.4.0-bin-hadoop3/python/pyspark/sql/tests/connect/test_connect_basic.py\n",
            "spark-3.4.0-bin-hadoop3/python/pyspark/sql/tests/connect/test_client.py\n",
            "spark-3.4.0-bin-hadoop3/python/pyspark/sql/tests/connect/test_parity_errors.py\n",
            "spark-3.4.0-bin-hadoop3/python/pyspark/sql/tests/connect/test_parity_functions.py\n",
            "spark-3.4.0-bin-hadoop3/python/pyspark/sql/tests/connect/test_parity_serde.py\n",
            "spark-3.4.0-bin-hadoop3/python/pyspark/sql/tests/connect/test_parity_readwriter.py\n",
            "spark-3.4.0-bin-hadoop3/python/pyspark/sql/tests/connect/test_parity_pandas_cogrouped_map.py\n",
            "spark-3.4.0-bin-hadoop3/python/pyspark/sql/tests/test_conf.py\n",
            "spark-3.4.0-bin-hadoop3/python/pyspark/sql/tests/test_errors.py\n",
            "spark-3.4.0-bin-hadoop3/python/pyspark/sql/tests/test_session.py\n",
            "spark-3.4.0-bin-hadoop3/python/pyspark/sql/tests/test_group.py\n",
            "spark-3.4.0-bin-hadoop3/python/pyspark/sql/tests/streaming/\n",
            "spark-3.4.0-bin-hadoop3/python/pyspark/sql/tests/streaming/__init__.py\n",
            "spark-3.4.0-bin-hadoop3/python/pyspark/sql/tests/streaming/test_streaming_listener.py\n",
            "spark-3.4.0-bin-hadoop3/python/pyspark/sql/tests/streaming/test_streaming.py\n",
            "spark-3.4.0-bin-hadoop3/python/pyspark/sql/tests/test_arrow.py\n",
            "spark-3.4.0-bin-hadoop3/python/pyspark/sql/tests/__init__.py\n",
            "spark-3.4.0-bin-hadoop3/python/pyspark/sql/tests/test_dataframe.py\n",
            "spark-3.4.0-bin-hadoop3/python/pyspark/sql/tests/test_catalog.py\n",
            "spark-3.4.0-bin-hadoop3/python/pyspark/sql/tests/test_utils.py\n",
            "spark-3.4.0-bin-hadoop3/python/pyspark/sql/tests/test_arrow_map.py\n",
            "spark-3.4.0-bin-hadoop3/python/pyspark/sql/tests/test_column.py\n",
            "spark-3.4.0-bin-hadoop3/python/pyspark/sql/tests/test_types.py\n",
            "spark-3.4.0-bin-hadoop3/python/pyspark/sql/tests/test_udf_profiler.py\n",
            "spark-3.4.0-bin-hadoop3/python/pyspark/sql/tests/test_datasources.py\n",
            "spark-3.4.0-bin-hadoop3/python/pyspark/sql/tests/pandas/\n",
            "spark-3.4.0-bin-hadoop3/python/pyspark/sql/tests/pandas/test_pandas_map.py\n",
            "spark-3.4.0-bin-hadoop3/python/pyspark/sql/tests/pandas/test_pandas_udf_typehints.py\n",
            "spark-3.4.0-bin-hadoop3/python/pyspark/sql/tests/pandas/test_pandas_grouped_map_with_state.py\n",
            "spark-3.4.0-bin-hadoop3/python/pyspark/sql/tests/pandas/__init__.py\n",
            "spark-3.4.0-bin-hadoop3/python/pyspark/sql/tests/pandas/test_pandas_grouped_map.py\n",
            "spark-3.4.0-bin-hadoop3/python/pyspark/sql/tests/pandas/test_pandas_udf_grouped_agg.py\n",
            "spark-3.4.0-bin-hadoop3/python/pyspark/sql/tests/pandas/test_pandas_udf.py\n",
            "spark-3.4.0-bin-hadoop3/python/pyspark/sql/tests/pandas/test_pandas_udf_window.py\n",
            "spark-3.4.0-bin-hadoop3/python/pyspark/sql/tests/pandas/test_pandas_cogrouped_map.py\n",
            "spark-3.4.0-bin-hadoop3/python/pyspark/sql/tests/pandas/test_pandas_udf_scalar.py\n",
            "spark-3.4.0-bin-hadoop3/python/pyspark/sql/tests/pandas/test_pandas_udf_typehints_with_future_annotations.py\n",
            "spark-3.4.0-bin-hadoop3/python/pyspark/sql/tests/test_functions.py\n",
            "spark-3.4.0-bin-hadoop3/python/pyspark/sql/tests/test_readwriter.py\n",
            "spark-3.4.0-bin-hadoop3/python/pyspark/sql/tests/test_pandas_sqlmetrics.py\n",
            "spark-3.4.0-bin-hadoop3/python/pyspark/sql/tests/test_serde.py\n",
            "spark-3.4.0-bin-hadoop3/python/pyspark/sql/tests/typing/\n",
            "spark-3.4.0-bin-hadoop3/python/pyspark/sql/tests/typing/test_dataframe.yml\n",
            "spark-3.4.0-bin-hadoop3/python/pyspark/sql/tests/typing/test_column.yml\n",
            "spark-3.4.0-bin-hadoop3/python/pyspark/sql/tests/typing/test_udf.yml\n",
            "spark-3.4.0-bin-hadoop3/python/pyspark/sql/tests/typing/test_functions.yml\n",
            "spark-3.4.0-bin-hadoop3/python/pyspark/sql/tests/typing/test_readwriter.yml\n",
            "spark-3.4.0-bin-hadoop3/python/pyspark/sql/tests/typing/test_session.yml\n",
            "spark-3.4.0-bin-hadoop3/python/pyspark/sql/tests/test_arrow_python_udf.py\n",
            "spark-3.4.0-bin-hadoop3/python/pyspark/sql/tests/test_udf.py\n",
            "spark-3.4.0-bin-hadoop3/python/pyspark/sql/tests/test_context.py\n",
            "spark-3.4.0-bin-hadoop3/python/pyspark/sql/context.py\n",
            "spark-3.4.0-bin-hadoop3/python/pyspark/sql/window.py\n",
            "spark-3.4.0-bin-hadoop3/python/pyspark/sql/readwriter.py\n",
            "spark-3.4.0-bin-hadoop3/python/pyspark/sql/column.py\n",
            "spark-3.4.0-bin-hadoop3/python/pyspark/sql/utils.py\n",
            "spark-3.4.0-bin-hadoop3/python/pyspark/sql/_typing.pyi\n",
            "spark-3.4.0-bin-hadoop3/python/pyspark/sql/session.py\n",
            "spark-3.4.0-bin-hadoop3/python/pyspark/sql/protobuf/\n",
            "spark-3.4.0-bin-hadoop3/python/pyspark/sql/protobuf/__init__.py\n",
            "spark-3.4.0-bin-hadoop3/python/pyspark/sql/protobuf/functions.py\n",
            "spark-3.4.0-bin-hadoop3/python/pyspark/sql/pandas/\n",
            "spark-3.4.0-bin-hadoop3/python/pyspark/sql/pandas/serializers.py\n",
            "spark-3.4.0-bin-hadoop3/python/pyspark/sql/pandas/map_ops.py\n",
            "spark-3.4.0-bin-hadoop3/python/pyspark/sql/pandas/__init__.py\n",
            "spark-3.4.0-bin-hadoop3/python/pyspark/sql/pandas/typehints.py\n",
            "spark-3.4.0-bin-hadoop3/python/pyspark/sql/pandas/utils.py\n",
            "spark-3.4.0-bin-hadoop3/python/pyspark/sql/pandas/_typing/\n",
            "spark-3.4.0-bin-hadoop3/python/pyspark/sql/pandas/_typing/__init__.pyi\n",
            "spark-3.4.0-bin-hadoop3/python/pyspark/sql/pandas/_typing/protocols/\n",
            "spark-3.4.0-bin-hadoop3/python/pyspark/sql/pandas/_typing/protocols/__init__.pyi\n",
            "spark-3.4.0-bin-hadoop3/python/pyspark/sql/pandas/_typing/protocols/series.pyi\n",
            "spark-3.4.0-bin-hadoop3/python/pyspark/sql/pandas/_typing/protocols/frame.pyi\n",
            "spark-3.4.0-bin-hadoop3/python/pyspark/sql/pandas/functions.pyi\n",
            "spark-3.4.0-bin-hadoop3/python/pyspark/sql/pandas/functions.py\n",
            "spark-3.4.0-bin-hadoop3/python/pyspark/sql/pandas/types.py\n",
            "spark-3.4.0-bin-hadoop3/python/pyspark/sql/pandas/group_ops.py\n",
            "spark-3.4.0-bin-hadoop3/python/pyspark/sql/pandas/conversion.py\n",
            "spark-3.4.0-bin-hadoop3/python/pyspark/sql/functions.py\n",
            "spark-3.4.0-bin-hadoop3/python/pyspark/sql/udf.py\n",
            "spark-3.4.0-bin-hadoop3/python/pyspark/sql/types.py\n",
            "spark-3.4.0-bin-hadoop3/python/pyspark/sql/conf.py\n",
            "spark-3.4.0-bin-hadoop3/python/pyspark/sql/group.py\n",
            "spark-3.4.0-bin-hadoop3/python/pyspark/sql/catalog.py\n",
            "spark-3.4.0-bin-hadoop3/python/pyspark/serializers.py\n",
            "spark-3.4.0-bin-hadoop3/python/pyspark/testing/\n",
            "spark-3.4.0-bin-hadoop3/python/pyspark/testing/__init__.py\n",
            "spark-3.4.0-bin-hadoop3/python/pyspark/testing/connectutils.py\n",
            "spark-3.4.0-bin-hadoop3/python/pyspark/testing/mllibutils.py\n",
            "spark-3.4.0-bin-hadoop3/python/pyspark/testing/pandasutils.py\n",
            "spark-3.4.0-bin-hadoop3/python/pyspark/testing/mlutils.py\n",
            "spark-3.4.0-bin-hadoop3/python/pyspark/testing/utils.py\n",
            "spark-3.4.0-bin-hadoop3/python/pyspark/testing/streamingutils.py\n",
            "spark-3.4.0-bin-hadoop3/python/pyspark/testing/sqlutils.py\n",
            "spark-3.4.0-bin-hadoop3/python/pyspark/streaming/\n",
            "spark-3.4.0-bin-hadoop3/python/pyspark/streaming/dstream.py\n",
            "spark-3.4.0-bin-hadoop3/python/pyspark/streaming/__init__.py\n",
            "spark-3.4.0-bin-hadoop3/python/pyspark/streaming/kinesis.py\n",
            "spark-3.4.0-bin-hadoop3/python/pyspark/streaming/tests/\n",
            "spark-3.4.0-bin-hadoop3/python/pyspark/streaming/tests/__init__.py\n",
            "spark-3.4.0-bin-hadoop3/python/pyspark/streaming/tests/test_listener.py\n",
            "spark-3.4.0-bin-hadoop3/python/pyspark/streaming/tests/test_context.py\n",
            "spark-3.4.0-bin-hadoop3/python/pyspark/streaming/tests/test_kinesis.py\n",
            "spark-3.4.0-bin-hadoop3/python/pyspark/streaming/tests/test_dstream.py\n",
            "spark-3.4.0-bin-hadoop3/python/pyspark/streaming/listener.py\n",
            "spark-3.4.0-bin-hadoop3/python/pyspark/streaming/context.py\n",
            "spark-3.4.0-bin-hadoop3/python/pyspark/streaming/util.py\n",
            "spark-3.4.0-bin-hadoop3/python/pyspark/resource/\n",
            "spark-3.4.0-bin-hadoop3/python/pyspark/resource/profile.py\n",
            "spark-3.4.0-bin-hadoop3/python/pyspark/resource/__init__.py\n",
            "spark-3.4.0-bin-hadoop3/python/pyspark/resource/tests/\n",
            "spark-3.4.0-bin-hadoop3/python/pyspark/resource/tests/__init__.py\n",
            "spark-3.4.0-bin-hadoop3/python/pyspark/resource/tests/test_resources.py\n",
            "spark-3.4.0-bin-hadoop3/python/pyspark/resource/requests.py\n",
            "spark-3.4.0-bin-hadoop3/python/pyspark/resource/information.py\n",
            "spark-3.4.0-bin-hadoop3/python/pyspark/_globals.py\n",
            "spark-3.4.0-bin-hadoop3/python/pyspark/statcounter.py\n",
            "spark-3.4.0-bin-hadoop3/python/pyspark/__init__.py\n",
            "spark-3.4.0-bin-hadoop3/python/pyspark/cloudpickle/\n",
            "spark-3.4.0-bin-hadoop3/python/pyspark/cloudpickle/compat.py\n",
            "spark-3.4.0-bin-hadoop3/python/pyspark/cloudpickle/cloudpickle.py\n",
            "spark-3.4.0-bin-hadoop3/python/pyspark/cloudpickle/__init__.py\n",
            "spark-3.4.0-bin-hadoop3/python/pyspark/cloudpickle/cloudpickle_fast.py\n",
            "spark-3.4.0-bin-hadoop3/python/pyspark/tests/\n",
            "spark-3.4.0-bin-hadoop3/python/pyspark/tests/test_statcounter.py\n",
            "spark-3.4.0-bin-hadoop3/python/pyspark/tests/test_conf.py\n",
            "spark-3.4.0-bin-hadoop3/python/pyspark/tests/test_taskcontext.py\n",
            "spark-3.4.0-bin-hadoop3/python/pyspark/tests/test_profiler.py\n",
            "spark-3.4.0-bin-hadoop3/python/pyspark/tests/test_rddbarrier.py\n",
            "spark-3.4.0-bin-hadoop3/python/pyspark/tests/test_util.py\n",
            "spark-3.4.0-bin-hadoop3/python/pyspark/tests/test_shuffle.py\n",
            "spark-3.4.0-bin-hadoop3/python/pyspark/tests/__init__.py\n",
            "spark-3.4.0-bin-hadoop3/python/pyspark/tests/test_rdd.py\n",
            "spark-3.4.0-bin-hadoop3/python/pyspark/tests/test_broadcast.py\n",
            "spark-3.4.0-bin-hadoop3/python/pyspark/tests/test_serializers.py\n",
            "spark-3.4.0-bin-hadoop3/python/pyspark/tests/test_memory_profiler.py\n",
            "spark-3.4.0-bin-hadoop3/python/pyspark/tests/test_worker.py\n",
            "spark-3.4.0-bin-hadoop3/python/pyspark/tests/test_readwrite.py\n",
            "spark-3.4.0-bin-hadoop3/python/pyspark/tests/test_pin_thread.py\n",
            "spark-3.4.0-bin-hadoop3/python/pyspark/tests/test_appsubmit.py\n",
            "spark-3.4.0-bin-hadoop3/python/pyspark/tests/test_install_spark.py\n",
            "spark-3.4.0-bin-hadoop3/python/pyspark/tests/typing/\n",
            "spark-3.4.0-bin-hadoop3/python/pyspark/tests/typing/test_rdd.yml\n",
            "spark-3.4.0-bin-hadoop3/python/pyspark/tests/typing/test_core.yml\n",
            "spark-3.4.0-bin-hadoop3/python/pyspark/tests/typing/test_context.yml\n",
            "spark-3.4.0-bin-hadoop3/python/pyspark/tests/typing/test_resultiterable.yml\n",
            "spark-3.4.0-bin-hadoop3/python/pyspark/tests/test_context.py\n",
            "spark-3.4.0-bin-hadoop3/python/pyspark/tests/test_rddsampler.py\n",
            "spark-3.4.0-bin-hadoop3/python/pyspark/tests/test_join.py\n",
            "spark-3.4.0-bin-hadoop3/python/pyspark/tests/test_stage_sched.py\n",
            "spark-3.4.0-bin-hadoop3/python/pyspark/tests/test_daemon.py\n",
            "spark-3.4.0-bin-hadoop3/python/pyspark/taskcontext.py\n",
            "spark-3.4.0-bin-hadoop3/python/pyspark/resultiterable.py\n",
            "spark-3.4.0-bin-hadoop3/python/pyspark/rdd.py\n",
            "spark-3.4.0-bin-hadoop3/python/pyspark/context.py\n",
            "spark-3.4.0-bin-hadoop3/python/pyspark/traceback_utils.py\n",
            "spark-3.4.0-bin-hadoop3/python/pyspark/status.py\n",
            "spark-3.4.0-bin-hadoop3/python/pyspark/daemon.py\n",
            "spark-3.4.0-bin-hadoop3/python/pyspark/files.py\n",
            "spark-3.4.0-bin-hadoop3/python/pyspark/version.py\n",
            "spark-3.4.0-bin-hadoop3/python/pyspark/__pycache__/\n",
            "spark-3.4.0-bin-hadoop3/python/pyspark/__pycache__/install.cpython-38.pyc\n",
            "spark-3.4.0-bin-hadoop3/python/pyspark/shuffle.py\n",
            "spark-3.4.0-bin-hadoop3/python/pyspark/_typing.pyi\n",
            "spark-3.4.0-bin-hadoop3/python/pyspark/py.typed\n",
            "spark-3.4.0-bin-hadoop3/python/pyspark/broadcast.py\n",
            "spark-3.4.0-bin-hadoop3/python/pyspark/find_spark_home.py\n",
            "spark-3.4.0-bin-hadoop3/python/pyspark/pandas/\n",
            "spark-3.4.0-bin-hadoop3/python/pyspark/pandas/resample.py\n",
            "spark-3.4.0-bin-hadoop3/python/pyspark/pandas/_typing.py\n",
            "spark-3.4.0-bin-hadoop3/python/pyspark/pandas/sql_formatter.py\n",
            "spark-3.4.0-bin-hadoop3/python/pyspark/pandas/typedef/\n",
            "spark-3.4.0-bin-hadoop3/python/pyspark/pandas/typedef/__init__.py\n",
            "spark-3.4.0-bin-hadoop3/python/pyspark/pandas/typedef/typehints.py\n",
            "spark-3.4.0-bin-hadoop3/python/pyspark/pandas/plot/\n",
            "spark-3.4.0-bin-hadoop3/python/pyspark/pandas/plot/core.py\n",
            "spark-3.4.0-bin-hadoop3/python/pyspark/pandas/plot/__init__.py\n",
            "spark-3.4.0-bin-hadoop3/python/pyspark/pandas/plot/matplotlib.py\n",
            "spark-3.4.0-bin-hadoop3/python/pyspark/pandas/plot/plotly.py\n",
            "spark-3.4.0-bin-hadoop3/python/pyspark/pandas/series.py\n",
            "spark-3.4.0-bin-hadoop3/python/pyspark/pandas/__init__.py\n",
            "spark-3.4.0-bin-hadoop3/python/pyspark/pandas/supported_api_gen.py\n",
            "spark-3.4.0-bin-hadoop3/python/pyspark/pandas/tests/\n",
            "spark-3.4.0-bin-hadoop3/python/pyspark/pandas/tests/test_indexing.py\n",
            "spark-3.4.0-bin-hadoop3/python/pyspark/pandas/tests/test_config.py\n",
            "spark-3.4.0-bin-hadoop3/python/pyspark/pandas/tests/test_frame_spark.py\n",
            "spark-3.4.0-bin-hadoop3/python/pyspark/pandas/tests/test_window.py\n",
            "spark-3.4.0-bin-hadoop3/python/pyspark/pandas/tests/test_series.py\n",
            "spark-3.4.0-bin-hadoop3/python/pyspark/pandas/tests/test_groupby_slow.py\n",
            "spark-3.4.0-bin-hadoop3/python/pyspark/pandas/tests/plot/\n",
            "spark-3.4.0-bin-hadoop3/python/pyspark/pandas/tests/plot/test_frame_plot_plotly.py\n",
            "spark-3.4.0-bin-hadoop3/python/pyspark/pandas/tests/plot/test_frame_plot.py\n",
            "spark-3.4.0-bin-hadoop3/python/pyspark/pandas/tests/plot/__init__.py\n",
            "spark-3.4.0-bin-hadoop3/python/pyspark/pandas/tests/plot/test_series_plot.py\n",
            "spark-3.4.0-bin-hadoop3/python/pyspark/pandas/tests/plot/test_series_plot_plotly.py\n",
            "spark-3.4.0-bin-hadoop3/python/pyspark/pandas/tests/plot/test_series_plot_matplotlib.py\n",
            "spark-3.4.0-bin-hadoop3/python/pyspark/pandas/tests/plot/test_frame_plot_matplotlib.py\n",
            "spark-3.4.0-bin-hadoop3/python/pyspark/pandas/tests/test_extension.py\n",
            "spark-3.4.0-bin-hadoop3/python/pyspark/pandas/tests/test_scalars.py\n",
            "spark-3.4.0-bin-hadoop3/python/pyspark/pandas/tests/test_dataframe_conversion.py\n",
            "spark-3.4.0-bin-hadoop3/python/pyspark/pandas/tests/__init__.py\n",
            "spark-3.4.0-bin-hadoop3/python/pyspark/pandas/tests/test_dataframe.py\n",
            "spark-3.4.0-bin-hadoop3/python/pyspark/pandas/tests/test_series_string.py\n",
            "spark-3.4.0-bin-hadoop3/python/pyspark/pandas/tests/test_ops_on_diff_frames_groupby.py\n",
            "spark-3.4.0-bin-hadoop3/python/pyspark/pandas/tests/test_sql.py\n",
            "spark-3.4.0-bin-hadoop3/python/pyspark/pandas/tests/test_utils.py\n",
            "spark-3.4.0-bin-hadoop3/python/pyspark/pandas/tests/test_stats.py\n",
            "spark-3.4.0-bin-hadoop3/python/pyspark/pandas/tests/test_dataframe_spark_io.py\n",
            "spark-3.4.0-bin-hadoop3/python/pyspark/pandas/tests/test_repr.py\n",
            "spark-3.4.0-bin-hadoop3/python/pyspark/pandas/tests/test_series_conversion.py\n",
            "spark-3.4.0-bin-hadoop3/python/pyspark/pandas/tests/test_ops_on_diff_frames_slow.py\n",
            "spark-3.4.0-bin-hadoop3/python/pyspark/pandas/tests/data_type_ops/\n",
            "spark-3.4.0-bin-hadoop3/python/pyspark/pandas/tests/data_type_ops/test_date_ops.py\n",
            "spark-3.4.0-bin-hadoop3/python/pyspark/pandas/tests/data_type_ops/test_datetime_ops.py\n",
            "spark-3.4.0-bin-hadoop3/python/pyspark/pandas/tests/data_type_ops/__init__.py\n",
            "spark-3.4.0-bin-hadoop3/python/pyspark/pandas/tests/data_type_ops/test_timedelta_ops.py\n",
            "spark-3.4.0-bin-hadoop3/python/pyspark/pandas/tests/data_type_ops/test_null_ops.py\n",
            "spark-3.4.0-bin-hadoop3/python/pyspark/pandas/tests/data_type_ops/test_udt_ops.py\n",
            "spark-3.4.0-bin-hadoop3/python/pyspark/pandas/tests/data_type_ops/test_string_ops.py\n",
            "spark-3.4.0-bin-hadoop3/python/pyspark/pandas/tests/data_type_ops/test_binary_ops.py\n",
            "spark-3.4.0-bin-hadoop3/python/pyspark/pandas/tests/data_type_ops/test_categorical_ops.py\n",
            "spark-3.4.0-bin-hadoop3/python/pyspark/pandas/tests/data_type_ops/test_boolean_ops.py\n",
            "spark-3.4.0-bin-hadoop3/python/pyspark/pandas/tests/data_type_ops/test_num_ops.py\n",
            "spark-3.4.0-bin-hadoop3/python/pyspark/pandas/tests/data_type_ops/test_complex_ops.py\n",
            "spark-3.4.0-bin-hadoop3/python/pyspark/pandas/tests/data_type_ops/test_base.py\n",
            "spark-3.4.0-bin-hadoop3/python/pyspark/pandas/tests/data_type_ops/testing_utils.py\n",
            "spark-3.4.0-bin-hadoop3/python/pyspark/pandas/tests/test_generic_functions.py\n",
            "spark-3.4.0-bin-hadoop3/python/pyspark/pandas/tests/test_series_datetime.py\n",
            "spark-3.4.0-bin-hadoop3/python/pyspark/pandas/tests/test_ops_on_diff_frames_groupby_rolling.py\n",
            "spark-3.4.0-bin-hadoop3/python/pyspark/pandas/tests/test_groupby.py\n",
            "spark-3.4.0-bin-hadoop3/python/pyspark/pandas/tests/test_dataframe_slow.py\n",
            "spark-3.4.0-bin-hadoop3/python/pyspark/pandas/tests/test_namespace.py\n",
            "spark-3.4.0-bin-hadoop3/python/pyspark/pandas/tests/test_default_index.py\n",
            "spark-3.4.0-bin-hadoop3/python/pyspark/pandas/tests/test_reshape.py\n",
            "spark-3.4.0-bin-hadoop3/python/pyspark/pandas/tests/test_ewm.py\n",
            "spark-3.4.0-bin-hadoop3/python/pyspark/pandas/tests/test_spark_functions.py\n",
            "spark-3.4.0-bin-hadoop3/python/pyspark/pandas/tests/test_ops_on_diff_frames_groupby_expanding.py\n",
            "spark-3.4.0-bin-hadoop3/python/pyspark/pandas/tests/test_typedef.py\n",
            "spark-3.4.0-bin-hadoop3/python/pyspark/pandas/tests/test_csv.py\n",
            "spark-3.4.0-bin-hadoop3/python/pyspark/pandas/tests/test_expanding.py\n",
            "spark-3.4.0-bin-hadoop3/python/pyspark/pandas/tests/indexes/\n",
            "spark-3.4.0-bin-hadoop3/python/pyspark/pandas/tests/indexes/__init__.py\n",
            "spark-3.4.0-bin-hadoop3/python/pyspark/pandas/tests/indexes/test_category.py\n",
            "spark-3.4.0-bin-hadoop3/python/pyspark/pandas/tests/indexes/test_base.py\n",
            "spark-3.4.0-bin-hadoop3/python/pyspark/pandas/tests/indexes/test_timedelta.py\n",
            "spark-3.4.0-bin-hadoop3/python/pyspark/pandas/tests/indexes/test_datetime.py\n",
            "spark-3.4.0-bin-hadoop3/python/pyspark/pandas/tests/test_categorical.py\n",
            "spark-3.4.0-bin-hadoop3/python/pyspark/pandas/tests/test_internal.py\n",
            "spark-3.4.0-bin-hadoop3/python/pyspark/pandas/tests/test_ops_on_diff_frames.py\n",
            "spark-3.4.0-bin-hadoop3/python/pyspark/pandas/tests/test_rolling.py\n",
            "spark-3.4.0-bin-hadoop3/python/pyspark/pandas/tests/test_indexops_spark.py\n",
            "spark-3.4.0-bin-hadoop3/python/pyspark/pandas/tests/test_numpy_compat.py\n",
            "spark-3.4.0-bin-hadoop3/python/pyspark/pandas/tests/test_resample.py\n",
            "spark-3.4.0-bin-hadoop3/python/pyspark/pandas/exceptions.py\n",
            "spark-3.4.0-bin-hadoop3/python/pyspark/pandas/missing/\n",
            "spark-3.4.0-bin-hadoop3/python/pyspark/pandas/missing/resample.py\n",
            "spark-3.4.0-bin-hadoop3/python/pyspark/pandas/missing/series.py\n",
            "spark-3.4.0-bin-hadoop3/python/pyspark/pandas/missing/__init__.py\n",
            "spark-3.4.0-bin-hadoop3/python/pyspark/pandas/missing/scalars.py\n",
            "spark-3.4.0-bin-hadoop3/python/pyspark/pandas/missing/window.py\n",
            "spark-3.4.0-bin-hadoop3/python/pyspark/pandas/missing/frame.py\n",
            "spark-3.4.0-bin-hadoop3/python/pyspark/pandas/missing/common.py\n",
            "spark-3.4.0-bin-hadoop3/python/pyspark/pandas/missing/indexes.py\n",
            "spark-3.4.0-bin-hadoop3/python/pyspark/pandas/missing/groupby.py\n",
            "spark-3.4.0-bin-hadoop3/python/pyspark/pandas/missing/general_functions.py\n",
            "spark-3.4.0-bin-hadoop3/python/pyspark/pandas/window.py\n",
            "spark-3.4.0-bin-hadoop3/python/pyspark/pandas/config.py\n",
            "spark-3.4.0-bin-hadoop3/python/pyspark/pandas/data_type_ops/\n",
            "spark-3.4.0-bin-hadoop3/python/pyspark/pandas/data_type_ops/timedelta_ops.py\n",
            "spark-3.4.0-bin-hadoop3/python/pyspark/pandas/data_type_ops/null_ops.py\n",
            "spark-3.4.0-bin-hadoop3/python/pyspark/pandas/data_type_ops/__init__.py\n",
            "spark-3.4.0-bin-hadoop3/python/pyspark/pandas/data_type_ops/complex_ops.py\n",
            "spark-3.4.0-bin-hadoop3/python/pyspark/pandas/data_type_ops/num_ops.py\n",
            "spark-3.4.0-bin-hadoop3/python/pyspark/pandas/data_type_ops/categorical_ops.py\n",
            "spark-3.4.0-bin-hadoop3/python/pyspark/pandas/data_type_ops/udt_ops.py\n",
            "spark-3.4.0-bin-hadoop3/python/pyspark/pandas/data_type_ops/binary_ops.py\n",
            "spark-3.4.0-bin-hadoop3/python/pyspark/pandas/data_type_ops/base.py\n",
            "spark-3.4.0-bin-hadoop3/python/pyspark/pandas/data_type_ops/boolean_ops.py\n",
            "spark-3.4.0-bin-hadoop3/python/pyspark/pandas/data_type_ops/string_ops.py\n",
            "spark-3.4.0-bin-hadoop3/python/pyspark/pandas/data_type_ops/datetime_ops.py\n",
            "spark-3.4.0-bin-hadoop3/python/pyspark/pandas/data_type_ops/date_ops.py\n",
            "spark-3.4.0-bin-hadoop3/python/pyspark/pandas/frame.py\n",
            "spark-3.4.0-bin-hadoop3/python/pyspark/pandas/categorical.py\n",
            "spark-3.4.0-bin-hadoop3/python/pyspark/pandas/strings.py\n",
            "spark-3.4.0-bin-hadoop3/python/pyspark/pandas/utils.py\n",
            "spark-3.4.0-bin-hadoop3/python/pyspark/pandas/numpy_compat.py\n",
            "spark-3.4.0-bin-hadoop3/python/pyspark/pandas/datetimes.py\n",
            "spark-3.4.0-bin-hadoop3/python/pyspark/pandas/sql_processor.py\n",
            "spark-3.4.0-bin-hadoop3/python/pyspark/pandas/usage_logging/\n",
            "spark-3.4.0-bin-hadoop3/python/pyspark/pandas/usage_logging/usage_logger.py\n",
            "spark-3.4.0-bin-hadoop3/python/pyspark/pandas/usage_logging/__init__.py\n",
            "spark-3.4.0-bin-hadoop3/python/pyspark/pandas/correlation.py\n",
            "spark-3.4.0-bin-hadoop3/python/pyspark/pandas/accessors.py\n",
            "spark-3.4.0-bin-hadoop3/python/pyspark/pandas/extensions.py\n",
            "spark-3.4.0-bin-hadoop3/python/pyspark/pandas/indexes/\n",
            "spark-3.4.0-bin-hadoop3/python/pyspark/pandas/indexes/__init__.py\n",
            "spark-3.4.0-bin-hadoop3/python/pyspark/pandas/indexes/multi.py\n",
            "spark-3.4.0-bin-hadoop3/python/pyspark/pandas/indexes/timedelta.py\n",
            "spark-3.4.0-bin-hadoop3/python/pyspark/pandas/indexes/datetimes.py\n",
            "spark-3.4.0-bin-hadoop3/python/pyspark/pandas/indexes/numeric.py\n",
            "spark-3.4.0-bin-hadoop3/python/pyspark/pandas/indexes/base.py\n",
            "spark-3.4.0-bin-hadoop3/python/pyspark/pandas/indexes/category.py\n",
            "spark-3.4.0-bin-hadoop3/python/pyspark/pandas/internal.py\n",
            "spark-3.4.0-bin-hadoop3/python/pyspark/pandas/base.py\n",
            "spark-3.4.0-bin-hadoop3/python/pyspark/pandas/generic.py\n",
            "spark-3.4.0-bin-hadoop3/python/pyspark/pandas/groupby.py\n",
            "spark-3.4.0-bin-hadoop3/python/pyspark/pandas/namespace.py\n",
            "spark-3.4.0-bin-hadoop3/python/pyspark/pandas/spark/\n",
            "spark-3.4.0-bin-hadoop3/python/pyspark/pandas/spark/__init__.py\n",
            "spark-3.4.0-bin-hadoop3/python/pyspark/pandas/spark/utils.py\n",
            "spark-3.4.0-bin-hadoop3/python/pyspark/pandas/spark/accessors.py\n",
            "spark-3.4.0-bin-hadoop3/python/pyspark/pandas/spark/functions.py\n",
            "spark-3.4.0-bin-hadoop3/python/pyspark/pandas/indexing.py\n",
            "spark-3.4.0-bin-hadoop3/python/pyspark/pandas/mlflow.py\n",
            "spark-3.4.0-bin-hadoop3/python/pyspark/join.py\n",
            "spark-3.4.0-bin-hadoop3/python/pyspark/python/\n",
            "spark-3.4.0-bin-hadoop3/python/pyspark/python/pyspark/\n",
            "spark-3.4.0-bin-hadoop3/python/pyspark/python/pyspark/shell.py\n",
            "spark-3.4.0-bin-hadoop3/python/pyspark/storagelevel.py\n",
            "spark-3.4.0-bin-hadoop3/python/pyspark/errors/\n",
            "spark-3.4.0-bin-hadoop3/python/pyspark/errors/__init__.py\n",
            "spark-3.4.0-bin-hadoop3/python/pyspark/errors/tests/\n",
            "spark-3.4.0-bin-hadoop3/python/pyspark/errors/tests/test_errors.py\n",
            "spark-3.4.0-bin-hadoop3/python/pyspark/errors/tests/__init__.py\n",
            "spark-3.4.0-bin-hadoop3/python/pyspark/errors/utils.py\n",
            "spark-3.4.0-bin-hadoop3/python/pyspark/errors/exceptions/\n",
            "spark-3.4.0-bin-hadoop3/python/pyspark/errors/exceptions/__init__.py\n",
            "spark-3.4.0-bin-hadoop3/python/pyspark/errors/exceptions/captured.py\n",
            "spark-3.4.0-bin-hadoop3/python/pyspark/errors/exceptions/connect.py\n",
            "spark-3.4.0-bin-hadoop3/python/pyspark/errors/exceptions/base.py\n",
            "spark-3.4.0-bin-hadoop3/python/pyspark/errors/error_classes.py\n",
            "spark-3.4.0-bin-hadoop3/python/pyspark/profiler.py\n",
            "spark-3.4.0-bin-hadoop3/python/pyspark/worker.py\n",
            "spark-3.4.0-bin-hadoop3/python/pyspark/conf.py\n",
            "spark-3.4.0-bin-hadoop3/python/pyspark/ml/\n",
            "spark-3.4.0-bin-hadoop3/python/pyspark/ml/pipeline.py\n",
            "spark-3.4.0-bin-hadoop3/python/pyspark/ml/tuning.py\n",
            "spark-3.4.0-bin-hadoop3/python/pyspark/ml/clustering.py\n",
            "spark-3.4.0-bin-hadoop3/python/pyspark/ml/param/\n",
            "spark-3.4.0-bin-hadoop3/python/pyspark/ml/param/__init__.py\n",
            "spark-3.4.0-bin-hadoop3/python/pyspark/ml/param/shared.py\n",
            "spark-3.4.0-bin-hadoop3/python/pyspark/ml/param/_shared_params_code_gen.py\n",
            "spark-3.4.0-bin-hadoop3/python/pyspark/ml/__init__.py\n",
            "spark-3.4.0-bin-hadoop3/python/pyspark/ml/stat.py\n",
            "spark-3.4.0-bin-hadoop3/python/pyspark/ml/regression.py\n",
            "spark-3.4.0-bin-hadoop3/python/pyspark/ml/tests/\n",
            "spark-3.4.0-bin-hadoop3/python/pyspark/ml/tests/test_tuning.py\n",
            "spark-3.4.0-bin-hadoop3/python/pyspark/ml/tests/test_persistence.py\n",
            "spark-3.4.0-bin-hadoop3/python/pyspark/ml/tests/test_util.py\n",
            "spark-3.4.0-bin-hadoop3/python/pyspark/ml/tests/__init__.py\n",
            "spark-3.4.0-bin-hadoop3/python/pyspark/ml/tests/test_stat.py\n",
            "spark-3.4.0-bin-hadoop3/python/pyspark/ml/tests/test_algorithms.py\n",
            "spark-3.4.0-bin-hadoop3/python/pyspark/ml/tests/test_image.py\n",
            "spark-3.4.0-bin-hadoop3/python/pyspark/ml/tests/test_model_cache.py\n",
            "spark-3.4.0-bin-hadoop3/python/pyspark/ml/tests/test_evaluation.py\n",
            "spark-3.4.0-bin-hadoop3/python/pyspark/ml/tests/test_param.py\n",
            "spark-3.4.0-bin-hadoop3/python/pyspark/ml/tests/test_functions.py\n",
            "spark-3.4.0-bin-hadoop3/python/pyspark/ml/tests/test_feature.py\n",
            "spark-3.4.0-bin-hadoop3/python/pyspark/ml/tests/test_pipeline.py\n",
            "spark-3.4.0-bin-hadoop3/python/pyspark/ml/tests/test_training_summary.py\n",
            "spark-3.4.0-bin-hadoop3/python/pyspark/ml/tests/typing/\n",
            "spark-3.4.0-bin-hadoop3/python/pyspark/ml/tests/typing/test_clustering.yaml\n",
            "spark-3.4.0-bin-hadoop3/python/pyspark/ml/tests/typing/test_regression.yml\n",
            "spark-3.4.0-bin-hadoop3/python/pyspark/ml/tests/typing/test_readable.yml\n",
            "spark-3.4.0-bin-hadoop3/python/pyspark/ml/tests/typing/test_classification.yml\n",
            "spark-3.4.0-bin-hadoop3/python/pyspark/ml/tests/typing/test_feature.yml\n",
            "spark-3.4.0-bin-hadoop3/python/pyspark/ml/tests/typing/test_param.yml\n",
            "spark-3.4.0-bin-hadoop3/python/pyspark/ml/tests/typing/test_evaluation.yml\n",
            "spark-3.4.0-bin-hadoop3/python/pyspark/ml/tests/test_base.py\n",
            "spark-3.4.0-bin-hadoop3/python/pyspark/ml/tests/test_linalg.py\n",
            "spark-3.4.0-bin-hadoop3/python/pyspark/ml/tests/test_wrapper.py\n",
            "spark-3.4.0-bin-hadoop3/python/pyspark/ml/recommendation.py\n",
            "spark-3.4.0-bin-hadoop3/python/pyspark/ml/feature.py\n",
            "spark-3.4.0-bin-hadoop3/python/pyspark/ml/linalg/\n",
            "spark-3.4.0-bin-hadoop3/python/pyspark/ml/linalg/__init__.py\n",
            "spark-3.4.0-bin-hadoop3/python/pyspark/ml/common.py\n",
            "spark-3.4.0-bin-hadoop3/python/pyspark/ml/_typing.pyi\n",
            "spark-3.4.0-bin-hadoop3/python/pyspark/ml/wrapper.py\n",
            "spark-3.4.0-bin-hadoop3/python/pyspark/ml/tree.py\n",
            "spark-3.4.0-bin-hadoop3/python/pyspark/ml/image.py\n",
            "spark-3.4.0-bin-hadoop3/python/pyspark/ml/model_cache.py\n",
            "spark-3.4.0-bin-hadoop3/python/pyspark/ml/evaluation.py\n",
            "spark-3.4.0-bin-hadoop3/python/pyspark/ml/torch/\n",
            "spark-3.4.0-bin-hadoop3/python/pyspark/ml/torch/distributor.py\n",
            "spark-3.4.0-bin-hadoop3/python/pyspark/ml/torch/torch_run_process_wrapper.py\n",
            "spark-3.4.0-bin-hadoop3/python/pyspark/ml/torch/__init__.py\n",
            "spark-3.4.0-bin-hadoop3/python/pyspark/ml/torch/tests/\n",
            "spark-3.4.0-bin-hadoop3/python/pyspark/ml/torch/tests/__init__.py\n",
            "spark-3.4.0-bin-hadoop3/python/pyspark/ml/torch/tests/test_distributor.py\n",
            "spark-3.4.0-bin-hadoop3/python/pyspark/ml/torch/tests/test_log_communication.py\n",
            "spark-3.4.0-bin-hadoop3/python/pyspark/ml/torch/log_communication.py\n",
            "spark-3.4.0-bin-hadoop3/python/pyspark/ml/classification.py\n",
            "spark-3.4.0-bin-hadoop3/python/pyspark/ml/functions.py\n",
            "spark-3.4.0-bin-hadoop3/python/pyspark/ml/base.py\n",
            "spark-3.4.0-bin-hadoop3/python/pyspark/ml/util.py\n",
            "spark-3.4.0-bin-hadoop3/python/pyspark/ml/fpm.py\n",
            "spark-3.4.0-bin-hadoop3/python/pyspark/instrumentation_utils.py\n",
            "spark-3.4.0-bin-hadoop3/python/pyspark/util.py\n",
            "spark-3.4.0-bin-hadoop3/python/pyspark/java_gateway.py\n",
            "spark-3.4.0-bin-hadoop3/python/pyspark/accumulators.py\n",
            "spark-3.4.0-bin-hadoop3/python/pyspark/mllib/\n",
            "spark-3.4.0-bin-hadoop3/python/pyspark/mllib/clustering.py\n",
            "spark-3.4.0-bin-hadoop3/python/pyspark/mllib/__init__.py\n",
            "spark-3.4.0-bin-hadoop3/python/pyspark/mllib/stat/\n",
            "spark-3.4.0-bin-hadoop3/python/pyspark/mllib/stat/__init__.py\n",
            "spark-3.4.0-bin-hadoop3/python/pyspark/mllib/stat/test.py\n",
            "spark-3.4.0-bin-hadoop3/python/pyspark/mllib/stat/KernelDensity.py\n",
            "spark-3.4.0-bin-hadoop3/python/pyspark/mllib/stat/_statistics.py\n",
            "spark-3.4.0-bin-hadoop3/python/pyspark/mllib/stat/distribution.py\n",
            "spark-3.4.0-bin-hadoop3/python/pyspark/mllib/regression.py\n",
            "spark-3.4.0-bin-hadoop3/python/pyspark/mllib/tests/\n",
            "spark-3.4.0-bin-hadoop3/python/pyspark/mllib/tests/test_util.py\n",
            "spark-3.4.0-bin-hadoop3/python/pyspark/mllib/tests/__init__.py\n",
            "spark-3.4.0-bin-hadoop3/python/pyspark/mllib/tests/test_stat.py\n",
            "spark-3.4.0-bin-hadoop3/python/pyspark/mllib/tests/test_algorithms.py\n",
            "spark-3.4.0-bin-hadoop3/python/pyspark/mllib/tests/test_feature.py\n",
            "spark-3.4.0-bin-hadoop3/python/pyspark/mllib/tests/test_streaming_algorithms.py\n",
            "spark-3.4.0-bin-hadoop3/python/pyspark/mllib/tests/test_linalg.py\n",
            "spark-3.4.0-bin-hadoop3/python/pyspark/mllib/recommendation.py\n",
            "spark-3.4.0-bin-hadoop3/python/pyspark/mllib/feature.py\n",
            "spark-3.4.0-bin-hadoop3/python/pyspark/mllib/linalg/\n",
            "spark-3.4.0-bin-hadoop3/python/pyspark/mllib/linalg/__init__.py\n",
            "spark-3.4.0-bin-hadoop3/python/pyspark/mllib/linalg/distributed.py\n",
            "spark-3.4.0-bin-hadoop3/python/pyspark/mllib/common.py\n",
            "spark-3.4.0-bin-hadoop3/python/pyspark/mllib/_typing.pyi\n",
            "spark-3.4.0-bin-hadoop3/python/pyspark/mllib/tree.py\n",
            "spark-3.4.0-bin-hadoop3/python/pyspark/mllib/evaluation.py\n",
            "spark-3.4.0-bin-hadoop3/python/pyspark/mllib/classification.py\n",
            "spark-3.4.0-bin-hadoop3/python/pyspark/mllib/util.py\n",
            "spark-3.4.0-bin-hadoop3/python/pyspark/mllib/fpm.py\n",
            "spark-3.4.0-bin-hadoop3/python/pyspark/mllib/random.py\n",
            "spark-3.4.0-bin-hadoop3/python/pyspark/shell.py\n",
            "spark-3.4.0-bin-hadoop3/python/pyspark/rddsampler.py\n",
            "spark-3.4.0-bin-hadoop3/python/.coveragerc\n",
            "spark-3.4.0-bin-hadoop3/python/MANIFEST.in\n",
            "spark-3.4.0-bin-hadoop3/python/pyspark.egg-info/\n",
            "spark-3.4.0-bin-hadoop3/python/pyspark.egg-info/PKG-INFO\n",
            "spark-3.4.0-bin-hadoop3/python/pyspark.egg-info/SOURCES.txt\n",
            "spark-3.4.0-bin-hadoop3/python/pyspark.egg-info/top_level.txt\n",
            "spark-3.4.0-bin-hadoop3/python/pyspark.egg-info/requires.txt\n",
            "spark-3.4.0-bin-hadoop3/python/pyspark.egg-info/dependency_links.txt\n",
            "spark-3.4.0-bin-hadoop3/python/run-tests.py\n",
            "spark-3.4.0-bin-hadoop3/python/run-tests\n",
            "spark-3.4.0-bin-hadoop3/python/lib/\n",
            "spark-3.4.0-bin-hadoop3/python/lib/py4j-0.10.9.7-src.zip\n",
            "spark-3.4.0-bin-hadoop3/python/lib/PY4J_LICENSE.txt\n",
            "spark-3.4.0-bin-hadoop3/python/lib/pyspark.zip\n",
            "spark-3.4.0-bin-hadoop3/python/test_support/\n",
            "spark-3.4.0-bin-hadoop3/python/test_support/sql/\n",
            "spark-3.4.0-bin-hadoop3/python/test_support/sql/people_array_utf16le.json\n",
            "spark-3.4.0-bin-hadoop3/python/test_support/sql/streaming/\n",
            "spark-3.4.0-bin-hadoop3/python/test_support/sql/streaming/text-test.txt\n",
            "spark-3.4.0-bin-hadoop3/python/test_support/sql/people1.json\n",
            "spark-3.4.0-bin-hadoop3/python/test_support/sql/people_array.json\n",
            "spark-3.4.0-bin-hadoop3/python/test_support/sql/people.json\n",
            "spark-3.4.0-bin-hadoop3/python/test_support/sql/text-test.txt\n",
            "spark-3.4.0-bin-hadoop3/python/test_support/sql/orc_partitioned/\n",
            "spark-3.4.0-bin-hadoop3/python/test_support/sql/orc_partitioned/b=1/\n",
            "spark-3.4.0-bin-hadoop3/python/test_support/sql/orc_partitioned/b=1/c=1/\n",
            "spark-3.4.0-bin-hadoop3/python/test_support/sql/orc_partitioned/b=1/c=1/.part-r-00000-829af031-b970-49d6-ad39-30460a0be2c8.orc.crc\n",
            "spark-3.4.0-bin-hadoop3/python/test_support/sql/orc_partitioned/b=1/c=1/part-r-00000-829af031-b970-49d6-ad39-30460a0be2c8.orc\n",
            "spark-3.4.0-bin-hadoop3/python/test_support/sql/orc_partitioned/b=0/\n",
            "spark-3.4.0-bin-hadoop3/python/test_support/sql/orc_partitioned/b=0/c=0/\n",
            "spark-3.4.0-bin-hadoop3/python/test_support/sql/orc_partitioned/b=0/c=0/.part-r-00000-829af031-b970-49d6-ad39-30460a0be2c8.orc.crc\n",
            "spark-3.4.0-bin-hadoop3/python/test_support/sql/orc_partitioned/b=0/c=0/part-r-00000-829af031-b970-49d6-ad39-30460a0be2c8.orc\n",
            "spark-3.4.0-bin-hadoop3/python/test_support/sql/orc_partitioned/_SUCCESS\n",
            "spark-3.4.0-bin-hadoop3/python/test_support/sql/ages_newlines.csv\n",
            "spark-3.4.0-bin-hadoop3/python/test_support/userlib-0.1.zip\n",
            "spark-3.4.0-bin-hadoop3/python/test_support/hello/\n",
            "spark-3.4.0-bin-hadoop3/python/test_support/hello/sub_hello/\n",
            "spark-3.4.0-bin-hadoop3/python/test_support/hello/sub_hello/sub_hello.txt\n",
            "spark-3.4.0-bin-hadoop3/python/test_support/hello/hello.txt\n",
            "spark-3.4.0-bin-hadoop3/python/test_support/test_pytorch_training_file.py\n",
            "spark-3.4.0-bin-hadoop3/python/test_support/SimpleHTTPServer.py\n",
            "spark-3.4.0-bin-hadoop3/python/test_support/userlibrary.py\n",
            "spark-3.4.0-bin-hadoop3/python/mypy.ini\n",
            "spark-3.4.0-bin-hadoop3/python/docs/\n",
            "spark-3.4.0-bin-hadoop3/python/docs/Makefile\n",
            "spark-3.4.0-bin-hadoop3/python/docs/source/\n",
            "spark-3.4.0-bin-hadoop3/python/docs/source/_static/\n",
            "spark-3.4.0-bin-hadoop3/python/docs/source/_static/css/\n",
            "spark-3.4.0-bin-hadoop3/python/docs/source/_static/css/pyspark.css\n",
            "spark-3.4.0-bin-hadoop3/python/docs/source/_static/copybutton.js\n",
            "spark-3.4.0-bin-hadoop3/python/docs/source/reference/\n",
            "spark-3.4.0-bin-hadoop3/python/docs/source/reference/pyspark.ss/\n",
            "spark-3.4.0-bin-hadoop3/python/docs/source/reference/pyspark.ss/query_management.rst\n",
            "spark-3.4.0-bin-hadoop3/python/docs/source/reference/pyspark.ss/io.rst\n",
            "spark-3.4.0-bin-hadoop3/python/docs/source/reference/pyspark.ss/core_classes.rst\n",
            "spark-3.4.0-bin-hadoop3/python/docs/source/reference/pyspark.ss/index.rst\n",
            "spark-3.4.0-bin-hadoop3/python/docs/source/reference/pyspark.mllib.rst\n",
            "spark-3.4.0-bin-hadoop3/python/docs/source/reference/pyspark.ml.rst\n",
            "spark-3.4.0-bin-hadoop3/python/docs/source/reference/pyspark.pandas/\n",
            "spark-3.4.0-bin-hadoop3/python/docs/source/reference/pyspark.pandas/groupby.rst\n",
            "spark-3.4.0-bin-hadoop3/python/docs/source/reference/pyspark.pandas/resampling.rst\n",
            "spark-3.4.0-bin-hadoop3/python/docs/source/reference/pyspark.pandas/extensions.rst\n",
            "spark-3.4.0-bin-hadoop3/python/docs/source/reference/pyspark.pandas/series.rst\n",
            "spark-3.4.0-bin-hadoop3/python/docs/source/reference/pyspark.pandas/window.rst\n",
            "spark-3.4.0-bin-hadoop3/python/docs/source/reference/pyspark.pandas/io.rst\n",
            "spark-3.4.0-bin-hadoop3/python/docs/source/reference/pyspark.pandas/indexing.rst\n",
            "spark-3.4.0-bin-hadoop3/python/docs/source/reference/pyspark.pandas/general_functions.rst\n",
            "spark-3.4.0-bin-hadoop3/python/docs/source/reference/pyspark.pandas/index.rst\n",
            "spark-3.4.0-bin-hadoop3/python/docs/source/reference/pyspark.pandas/frame.rst\n",
            "spark-3.4.0-bin-hadoop3/python/docs/source/reference/pyspark.pandas/ml.rst\n",
            "spark-3.4.0-bin-hadoop3/python/docs/source/reference/pyspark.rst\n",
            "spark-3.4.0-bin-hadoop3/python/docs/source/reference/pyspark.sql/\n",
            "spark-3.4.0-bin-hadoop3/python/docs/source/reference/pyspark.sql/spark_session.rst\n",
            "spark-3.4.0-bin-hadoop3/python/docs/source/reference/pyspark.sql/protobuf.rst\n",
            "spark-3.4.0-bin-hadoop3/python/docs/source/reference/pyspark.sql/row.rst\n",
            "spark-3.4.0-bin-hadoop3/python/docs/source/reference/pyspark.sql/avro.rst\n",
            "spark-3.4.0-bin-hadoop3/python/docs/source/reference/pyspark.sql/configuration.rst\n",
            "spark-3.4.0-bin-hadoop3/python/docs/source/reference/pyspark.sql/window.rst\n",
            "spark-3.4.0-bin-hadoop3/python/docs/source/reference/pyspark.sql/grouping.rst\n",
            "spark-3.4.0-bin-hadoop3/python/docs/source/reference/pyspark.sql/observation.rst\n",
            "spark-3.4.0-bin-hadoop3/python/docs/source/reference/pyspark.sql/functions.rst\n",
            "spark-3.4.0-bin-hadoop3/python/docs/source/reference/pyspark.sql/udf.rst\n",
            "spark-3.4.0-bin-hadoop3/python/docs/source/reference/pyspark.sql/io.rst\n",
            "spark-3.4.0-bin-hadoop3/python/docs/source/reference/pyspark.sql/column.rst\n",
            "spark-3.4.0-bin-hadoop3/python/docs/source/reference/pyspark.sql/catalog.rst\n",
            "spark-3.4.0-bin-hadoop3/python/docs/source/reference/pyspark.sql/core_classes.rst\n",
            "spark-3.4.0-bin-hadoop3/python/docs/source/reference/pyspark.sql/data_types.rst\n",
            "spark-3.4.0-bin-hadoop3/python/docs/source/reference/pyspark.sql/index.rst\n",
            "spark-3.4.0-bin-hadoop3/python/docs/source/reference/pyspark.sql/dataframe.rst\n",
            "spark-3.4.0-bin-hadoop3/python/docs/source/reference/pyspark.streaming.rst\n",
            "spark-3.4.0-bin-hadoop3/python/docs/source/reference/index.rst\n",
            "spark-3.4.0-bin-hadoop3/python/docs/source/reference/pyspark.resource.rst\n",
            "spark-3.4.0-bin-hadoop3/python/docs/source/reference/pyspark.errors.rst\n",
            "spark-3.4.0-bin-hadoop3/python/docs/source/getting_started/\n",
            "spark-3.4.0-bin-hadoop3/python/docs/source/getting_started/quickstart_connect.ipynb\n",
            "spark-3.4.0-bin-hadoop3/python/docs/source/getting_started/install.rst\n",
            "spark-3.4.0-bin-hadoop3/python/docs/source/getting_started/quickstart_df.ipynb\n",
            "spark-3.4.0-bin-hadoop3/python/docs/source/getting_started/index.rst\n",
            "spark-3.4.0-bin-hadoop3/python/docs/source/getting_started/quickstart_ps.ipynb\n",
            "spark-3.4.0-bin-hadoop3/python/docs/source/user_guide/\n",
            "spark-3.4.0-bin-hadoop3/python/docs/source/user_guide/sql/\n",
            "spark-3.4.0-bin-hadoop3/python/docs/source/user_guide/sql/index.rst\n",
            "spark-3.4.0-bin-hadoop3/python/docs/source/user_guide/sql/arrow_pandas.rst\n",
            "spark-3.4.0-bin-hadoop3/python/docs/source/user_guide/pandas_on_spark/\n",
            "spark-3.4.0-bin-hadoop3/python/docs/source/user_guide/pandas_on_spark/best_practices.rst\n",
            "spark-3.4.0-bin-hadoop3/python/docs/source/user_guide/pandas_on_spark/from_to_dbms.rst\n",
            "spark-3.4.0-bin-hadoop3/python/docs/source/user_guide/pandas_on_spark/faq.rst\n",
            "spark-3.4.0-bin-hadoop3/python/docs/source/user_guide/pandas_on_spark/typehints.rst\n",
            "spark-3.4.0-bin-hadoop3/python/docs/source/user_guide/pandas_on_spark/options.rst\n",
            "spark-3.4.0-bin-hadoop3/python/docs/source/user_guide/pandas_on_spark/types.rst\n",
            "spark-3.4.0-bin-hadoop3/python/docs/source/user_guide/pandas_on_spark/transform_apply.rst\n",
            "spark-3.4.0-bin-hadoop3/python/docs/source/user_guide/pandas_on_spark/pandas_pyspark.rst\n",
            "spark-3.4.0-bin-hadoop3/python/docs/source/user_guide/pandas_on_spark/index.rst\n",
            "spark-3.4.0-bin-hadoop3/python/docs/source/user_guide/index.rst\n",
            "spark-3.4.0-bin-hadoop3/python/docs/source/user_guide/python_packaging.rst\n",
            "spark-3.4.0-bin-hadoop3/python/docs/source/user_guide/arrow_pandas.rst\n",
            "spark-3.4.0-bin-hadoop3/python/docs/source/_templates/\n",
            "spark-3.4.0-bin-hadoop3/python/docs/source/_templates/autosummary/\n",
            "spark-3.4.0-bin-hadoop3/python/docs/source/_templates/autosummary/class_with_docs.rst\n",
            "spark-3.4.0-bin-hadoop3/python/docs/source/_templates/autosummary/class.rst\n",
            "spark-3.4.0-bin-hadoop3/python/docs/source/conf.py\n",
            "spark-3.4.0-bin-hadoop3/python/docs/source/migration_guide/\n",
            "spark-3.4.0-bin-hadoop3/python/docs/source/migration_guide/koalas_to_pyspark.rst\n",
            "spark-3.4.0-bin-hadoop3/python/docs/source/migration_guide/pyspark_upgrade.rst\n",
            "spark-3.4.0-bin-hadoop3/python/docs/source/migration_guide/index.rst\n",
            "spark-3.4.0-bin-hadoop3/python/docs/source/index.rst\n",
            "spark-3.4.0-bin-hadoop3/python/docs/source/development/\n",
            "spark-3.4.0-bin-hadoop3/python/docs/source/development/debugging.rst\n",
            "spark-3.4.0-bin-hadoop3/python/docs/source/development/contributing.rst\n",
            "spark-3.4.0-bin-hadoop3/python/docs/source/development/setting_ide.rst\n",
            "spark-3.4.0-bin-hadoop3/python/docs/source/development/index.rst\n",
            "spark-3.4.0-bin-hadoop3/python/docs/source/development/testing.rst\n",
            "spark-3.4.0-bin-hadoop3/python/docs/make.bat\n",
            "spark-3.4.0-bin-hadoop3/python/docs/make2.bat\n",
            "spark-3.4.0-bin-hadoop3/python/setup.py\n",
            "spark-3.4.0-bin-hadoop3/python/run-tests-with-coverage\n",
            "spark-3.4.0-bin-hadoop3/python/test_coverage/\n",
            "spark-3.4.0-bin-hadoop3/python/test_coverage/conf/\n",
            "spark-3.4.0-bin-hadoop3/python/test_coverage/conf/spark-defaults.conf\n",
            "spark-3.4.0-bin-hadoop3/python/test_coverage/sitecustomize.py\n",
            "spark-3.4.0-bin-hadoop3/python/test_coverage/coverage_daemon.py\n",
            "spark-3.4.0-bin-hadoop3/python/dist/\n",
            "spark-3.4.0-bin-hadoop3/python/README.md\n",
            "spark-3.4.0-bin-hadoop3/licenses/\n",
            "spark-3.4.0-bin-hadoop3/licenses/LICENSE-istack-commons-runtime.txt\n",
            "spark-3.4.0-bin-hadoop3/licenses/LICENSE-machinist.txt\n",
            "spark-3.4.0-bin-hadoop3/licenses/LICENSE-AnchorJS.txt\n",
            "spark-3.4.0-bin-hadoop3/licenses/LICENSE-jaxb-runtime.txt\n",
            "spark-3.4.0-bin-hadoop3/licenses/LICENSE-arpack.txt\n",
            "spark-3.4.0-bin-hadoop3/licenses/LICENSE-pyrolite.txt\n",
            "spark-3.4.0-bin-hadoop3/licenses/LICENSE-leveldbjni.txt\n",
            "spark-3.4.0-bin-hadoop3/licenses/LICENSE-zstd.txt\n",
            "spark-3.4.0-bin-hadoop3/licenses/LICENSE-jsp-api.txt\n",
            "spark-3.4.0-bin-hadoop3/licenses/LICENSE-modernizr.txt\n",
            "spark-3.4.0-bin-hadoop3/licenses/LICENSE-jakarta.activation-api.txt\n",
            "spark-3.4.0-bin-hadoop3/licenses/LICENSE-jakarta.xml.bind-api.txt\n",
            "spark-3.4.0-bin-hadoop3/licenses/LICENSE-vis-timeline.txt\n",
            "spark-3.4.0-bin-hadoop3/licenses/LICENSE-xmlenc.txt\n",
            "spark-3.4.0-bin-hadoop3/licenses/LICENSE-reflectasm.txt\n",
            "spark-3.4.0-bin-hadoop3/licenses/LICENSE-pmml-model.txt\n",
            "spark-3.4.0-bin-hadoop3/licenses/LICENSE-jodd.txt\n",
            "spark-3.4.0-bin-hadoop3/licenses/LICENSE-bootstrap.txt\n",
            "spark-3.4.0-bin-hadoop3/licenses/LICENSE-mustache.txt\n",
            "spark-3.4.0-bin-hadoop3/licenses/LICENSE-slf4j.txt\n",
            "spark-3.4.0-bin-hadoop3/licenses/LICENSE-JTransforms.txt\n",
            "spark-3.4.0-bin-hadoop3/licenses/LICENSE-javassist.html\n",
            "spark-3.4.0-bin-hadoop3/licenses/LICENSE-f2j.txt\n",
            "spark-3.4.0-bin-hadoop3/licenses/LICENSE-paranamer.txt\n",
            "spark-3.4.0-bin-hadoop3/licenses/LICENSE-d3.min.js.txt\n",
            "spark-3.4.0-bin-hadoop3/licenses/LICENSE-jakarta-ws-rs-api\n",
            "spark-3.4.0-bin-hadoop3/licenses/LICENSE-matchMedia-polyfill.txt\n",
            "spark-3.4.0-bin-hadoop3/licenses/LICENSE-join.txt\n",
            "spark-3.4.0-bin-hadoop3/licenses/LICENSE-jline.txt\n",
            "spark-3.4.0-bin-hadoop3/licenses/LICENSE-blas.txt\n",
            "spark-3.4.0-bin-hadoop3/licenses/LICENSE-minlog.txt\n",
            "spark-3.4.0-bin-hadoop3/licenses/LICENSE-zstd-jni.txt\n",
            "spark-3.4.0-bin-hadoop3/licenses/LICENSE-spire.txt\n",
            "spark-3.4.0-bin-hadoop3/licenses/LICENSE-janino.txt\n",
            "spark-3.4.0-bin-hadoop3/licenses/LICENSE-sorttable.js.txt\n",
            "spark-3.4.0-bin-hadoop3/licenses/LICENSE-jquery.txt\n",
            "spark-3.4.0-bin-hadoop3/licenses/LICENSE-cloudpickle.txt\n",
            "spark-3.4.0-bin-hadoop3/licenses/LICENSE-kryo.txt\n",
            "spark-3.4.0-bin-hadoop3/licenses/LICENSE-javolution.txt\n",
            "spark-3.4.0-bin-hadoop3/licenses/LICENSE-datatables.txt\n",
            "spark-3.4.0-bin-hadoop3/licenses/LICENSE-graphlib-dot.txt\n",
            "spark-3.4.0-bin-hadoop3/licenses/LICENSE-dagre-d3.txt\n",
            "spark-3.4.0-bin-hadoop3/licenses/LICENSE-re2j.txt\n",
            "spark-3.4.0-bin-hadoop3/licenses/LICENSE-JLargeArrays.txt\n",
            "spark-3.4.0-bin-hadoop3/licenses/LICENSE-jakarta-annotation-api\n",
            "spark-3.4.0-bin-hadoop3/licenses/LICENSE-sbt-launch-lib.txt\n",
            "spark-3.4.0-bin-hadoop3/licenses/LICENSE-antlr.txt\n",
            "spark-3.4.0-bin-hadoop3/licenses/LICENSE-protobuf.txt\n",
            "spark-3.4.0-bin-hadoop3/licenses/LICENSE-json-formatter.txt\n",
            "spark-3.4.0-bin-hadoop3/licenses/LICENSE-dnsjava.txt\n",
            "spark-3.4.0-bin-hadoop3/licenses/LICENSE-javax-transaction-transaction-api.txt\n",
            "spark-3.4.0-bin-hadoop3/licenses/LICENSE-CC0.txt\n",
            "spark-3.4.0-bin-hadoop3/licenses/LICENSE-respond.txt\n",
            "spark-3.4.0-bin-hadoop3/licenses/LICENSE-scopt.txt\n",
            "spark-3.4.0-bin-hadoop3/licenses/LICENSE-py4j.txt\n",
            "spark-3.4.0-bin-hadoop3/licenses/LICENSE-automaton.txt\n",
            "spark-3.4.0-bin-hadoop3/RELEASE\n",
            "spark-3.4.0-bin-hadoop3/sbin/\n",
            "spark-3.4.0-bin-hadoop3/sbin/stop-history-server.sh\n",
            "spark-3.4.0-bin-hadoop3/sbin/start-thriftserver.sh\n",
            "spark-3.4.0-bin-hadoop3/sbin/spark-daemons.sh\n",
            "spark-3.4.0-bin-hadoop3/sbin/stop-thriftserver.sh\n",
            "spark-3.4.0-bin-hadoop3/sbin/stop-mesos-dispatcher.sh\n",
            "spark-3.4.0-bin-hadoop3/sbin/decommission-slave.sh\n",
            "spark-3.4.0-bin-hadoop3/sbin/stop-workers.sh\n",
            "spark-3.4.0-bin-hadoop3/sbin/stop-mesos-shuffle-service.sh\n",
            "spark-3.4.0-bin-hadoop3/sbin/decommission-worker.sh\n",
            "spark-3.4.0-bin-hadoop3/sbin/stop-slave.sh\n",
            "spark-3.4.0-bin-hadoop3/sbin/start-slave.sh\n",
            "spark-3.4.0-bin-hadoop3/sbin/start-workers.sh\n",
            "spark-3.4.0-bin-hadoop3/sbin/start-mesos-shuffle-service.sh\n",
            "spark-3.4.0-bin-hadoop3/sbin/start-connect-server.sh\n",
            "spark-3.4.0-bin-hadoop3/sbin/stop-master.sh\n",
            "spark-3.4.0-bin-hadoop3/sbin/slaves.sh\n",
            "spark-3.4.0-bin-hadoop3/sbin/start-mesos-dispatcher.sh\n",
            "spark-3.4.0-bin-hadoop3/sbin/stop-worker.sh\n",
            "spark-3.4.0-bin-hadoop3/sbin/stop-slaves.sh\n",
            "spark-3.4.0-bin-hadoop3/sbin/workers.sh\n",
            "spark-3.4.0-bin-hadoop3/sbin/start-all.sh\n",
            "spark-3.4.0-bin-hadoop3/sbin/spark-config.sh\n",
            "spark-3.4.0-bin-hadoop3/sbin/start-master.sh\n",
            "spark-3.4.0-bin-hadoop3/sbin/spark-daemon.sh\n",
            "spark-3.4.0-bin-hadoop3/sbin/start-worker.sh\n",
            "spark-3.4.0-bin-hadoop3/sbin/stop-all.sh\n",
            "spark-3.4.0-bin-hadoop3/sbin/start-slaves.sh\n",
            "spark-3.4.0-bin-hadoop3/sbin/start-history-server.sh\n",
            "spark-3.4.0-bin-hadoop3/sbin/stop-connect-server.sh\n",
            "spark-3.4.0-bin-hadoop3/README.md\n",
            "spark-3.4.0-bin-hadoop3/bin/\n",
            "spark-3.4.0-bin-hadoop3/bin/spark-sql2.cmd\n",
            "spark-3.4.0-bin-hadoop3/bin/sparkR\n",
            "spark-3.4.0-bin-hadoop3/bin/spark-class2.cmd\n",
            "spark-3.4.0-bin-hadoop3/bin/pyspark\n",
            "spark-3.4.0-bin-hadoop3/bin/run-example\n",
            "spark-3.4.0-bin-hadoop3/bin/sparkR2.cmd\n",
            "spark-3.4.0-bin-hadoop3/bin/docker-image-tool.sh\n",
            "spark-3.4.0-bin-hadoop3/bin/pyspark.cmd\n",
            "spark-3.4.0-bin-hadoop3/bin/spark-class\n",
            "spark-3.4.0-bin-hadoop3/bin/spark-submit\n",
            "spark-3.4.0-bin-hadoop3/bin/spark-sql\n",
            "spark-3.4.0-bin-hadoop3/bin/spark-shell\n",
            "spark-3.4.0-bin-hadoop3/bin/spark-sql.cmd\n",
            "spark-3.4.0-bin-hadoop3/bin/find-spark-home\n",
            "spark-3.4.0-bin-hadoop3/bin/run-example.cmd\n",
            "spark-3.4.0-bin-hadoop3/bin/find-spark-home.cmd\n",
            "spark-3.4.0-bin-hadoop3/bin/load-spark-env.cmd\n",
            "spark-3.4.0-bin-hadoop3/bin/beeline.cmd\n",
            "spark-3.4.0-bin-hadoop3/bin/spark-class.cmd\n",
            "spark-3.4.0-bin-hadoop3/bin/spark-shell.cmd\n",
            "spark-3.4.0-bin-hadoop3/bin/load-spark-env.sh\n",
            "spark-3.4.0-bin-hadoop3/bin/beeline\n",
            "spark-3.4.0-bin-hadoop3/bin/sparkR.cmd\n",
            "spark-3.4.0-bin-hadoop3/bin/spark-connect-shell\n",
            "spark-3.4.0-bin-hadoop3/bin/spark-shell2.cmd\n",
            "spark-3.4.0-bin-hadoop3/bin/pyspark2.cmd\n",
            "spark-3.4.0-bin-hadoop3/bin/spark-submit.cmd\n",
            "spark-3.4.0-bin-hadoop3/bin/spark-submit2.cmd\n"
          ]
        }
      ]
    },
    {
      "cell_type": "code",
      "source": [
        "# Install findspark: Adds Pyspark to sys.path at runtime\n",
        "!pip install -q findspark\n",
        "\n",
        "# Install pyspark\n",
        "!pip install pyspark"
      ],
      "metadata": {
        "colab": {
          "base_uri": "https://localhost:8080/"
        },
        "id": "Q6qHMH_GcHCL",
        "outputId": "b6853cef-2aac-4d58-fbc7-f1d9f3f55441"
      },
      "execution_count": 6,
      "outputs": [
        {
          "output_type": "stream",
          "name": "stdout",
          "text": [
            "Looking in indexes: https://pypi.org/simple, https://us-python.pkg.dev/colab-wheels/public/simple/\n",
            "Collecting pyspark\n",
            "  Downloading pyspark-3.4.0.tar.gz (310.8 MB)\n",
            "\u001b[2K     \u001b[90m━━━━━━━━━━━━━━━━━━━━━━━━━━━━━━━━━━━━━━━\u001b[0m \u001b[32m310.8/310.8 MB\u001b[0m \u001b[31m3.7 MB/s\u001b[0m eta \u001b[36m0:00:00\u001b[0m\n",
            "\u001b[?25h  Preparing metadata (setup.py) ... \u001b[?25l\u001b[?25hdone\n",
            "Requirement already satisfied: py4j==0.10.9.7 in /usr/local/lib/python3.10/dist-packages (from pyspark) (0.10.9.7)\n",
            "Building wheels for collected packages: pyspark\n",
            "  Building wheel for pyspark (setup.py) ... \u001b[?25l\u001b[?25hdone\n",
            "  Created wheel for pyspark: filename=pyspark-3.4.0-py2.py3-none-any.whl size=311317130 sha256=0cc04f7ddaa2733ba3b5c3fe94105be031230c079bd2c2f8149b654a589206ed\n",
            "  Stored in directory: /root/.cache/pip/wheels/7b/1b/4b/3363a1d04368e7ff0d408e57ff57966fcdf00583774e761327\n",
            "Successfully built pyspark\n",
            "Installing collected packages: pyspark\n",
            "Successfully installed pyspark-3.4.0\n"
          ]
        }
      ]
    },
    {
      "cell_type": "code",
      "source": [
        "# Add environmental variables\n",
        "import os\n",
        "os.environ[\"JAVA_HOME\"] = \"/usr/lib/jvm/java-8-openjdk-amd64\"\n",
        "os.environ[\"SPARK_HOME\"] = \"/content/spark-3.4.0-bin-hadoop3\"\n",
        "\n",
        "# findspark will locate spark in the system\n",
        "import findspark\n",
        "findspark.init()"
      ],
      "metadata": {
        "id": "vH2vHCntcdj3"
      },
      "execution_count": 8,
      "outputs": []
    },
    {
      "cell_type": "code",
      "source": [
        "from pyspark.sql import SparkSession\n",
        "\n",
        "spark = SparkSession.builder \\\n",
        "        .master(\"local\") \\\n",
        "        .appName(\"Hands-on PySpark on Google Colab\") \\\n",
        "        .getOrCreate()"
      ],
      "metadata": {
        "id": "QZURb9wvcyH6"
      },
      "execution_count": 9,
      "outputs": []
    },
    {
      "cell_type": "code",
      "source": [
        "spark"
      ],
      "metadata": {
        "colab": {
          "base_uri": "https://localhost:8080/",
          "height": 219
        },
        "id": "4Rqpy2K5c4b0",
        "outputId": "5a908ec6-aa5f-49be-cf79-49d8a77ae333"
      },
      "execution_count": 10,
      "outputs": [
        {
          "output_type": "execute_result",
          "data": {
            "text/plain": [
              "<pyspark.sql.session.SparkSession at 0x7f729d3e3c40>"
            ],
            "text/html": [
              "\n",
              "            <div>\n",
              "                <p><b>SparkSession - in-memory</b></p>\n",
              "                \n",
              "        <div>\n",
              "            <p><b>SparkContext</b></p>\n",
              "\n",
              "            <p><a href=\"http://29f93bc137c5:4040\">Spark UI</a></p>\n",
              "\n",
              "            <dl>\n",
              "              <dt>Version</dt>\n",
              "                <dd><code>v3.4.0</code></dd>\n",
              "              <dt>Master</dt>\n",
              "                <dd><code>local</code></dd>\n",
              "              <dt>AppName</dt>\n",
              "                <dd><code>Hands-on PySpark on Google Colab</code></dd>\n",
              "            </dl>\n",
              "        </div>\n",
              "        \n",
              "            </div>\n",
              "        "
            ]
          },
          "metadata": {},
          "execution_count": 10
        }
      ]
    },
    {
      "cell_type": "code",
      "source": [
        "\n",
        "# Load data\n",
        "df_pyspark = spark.read.format('csv').load(\"/content/drive/MyDrive/data/Salary_Data.csv\")"
      ],
      "metadata": {
        "id": "Ox7eO9H6dI8p"
      },
      "execution_count": 17,
      "outputs": []
    },
    {
      "cell_type": "code",
      "source": [
        "# Print the top 5 rows using .show() function\n",
        "df_pyspark.show(5)"
      ],
      "metadata": {
        "colab": {
          "base_uri": "https://localhost:8080/"
        },
        "id": "0Sa92PxfeGYN",
        "outputId": "5cb1a0ed-b8ad-4147-f475-5cec15c6eabd"
      },
      "execution_count": 18,
      "outputs": [
        {
          "output_type": "stream",
          "name": "stdout",
          "text": [
            "+---------------+----+------+\n",
            "|            _c0| _c1|   _c2|\n",
            "+---------------+----+------+\n",
            "|YearsExperience| Age|Salary|\n",
            "|            1.1|  21| 39343|\n",
            "|            1.3|21.5| 46205|\n",
            "|            1.5|21.7| 37731|\n",
            "|              2|  22| 43525|\n",
            "+---------------+----+------+\n",
            "only showing top 5 rows\n",
            "\n"
          ]
        }
      ]
    },
    {
      "cell_type": "code",
      "source": [
        "### Check the schema\n",
        "df_pyspark.printSchema()"
      ],
      "metadata": {
        "colab": {
          "base_uri": "https://localhost:8080/"
        },
        "id": "JE5lfL6EeKwz",
        "outputId": "37b3608b-baf9-4410-a80a-fe38b57150b3"
      },
      "execution_count": 19,
      "outputs": [
        {
          "output_type": "stream",
          "name": "stdout",
          "text": [
            "root\n",
            " |-- _c0: string (nullable = true)\n",
            " |-- _c1: string (nullable = true)\n",
            " |-- _c2: string (nullable = true)\n",
            "\n"
          ]
        }
      ]
    },
    {
      "cell_type": "code",
      "source": [
        "type(df_pyspark)"
      ],
      "metadata": {
        "colab": {
          "base_uri": "https://localhost:8080/"
        },
        "id": "FG0XGx4YfyfA",
        "outputId": "184dc208-c440-49fb-9ddc-62b8aba157ef"
      },
      "execution_count": 20,
      "outputs": [
        {
          "output_type": "execute_result",
          "data": {
            "text/plain": [
              "pyspark.sql.dataframe.DataFrame"
            ]
          },
          "metadata": {},
          "execution_count": 20
        }
      ]
    },
    {
      "cell_type": "code",
      "source": [
        "df_pyspark.head(3)"
      ],
      "metadata": {
        "colab": {
          "base_uri": "https://localhost:8080/"
        },
        "id": "9rVFG_Gof3O2",
        "outputId": "1ee50745-2c72-4dd2-96b9-56d1e129f513"
      },
      "execution_count": 21,
      "outputs": [
        {
          "output_type": "execute_result",
          "data": {
            "text/plain": [
              "[Row(_c0='YearsExperience', _c1='Age', _c2='Salary'),\n",
              " Row(_c0='1.1', _c1='21', _c2='39343'),\n",
              " Row(_c0='1.3', _c1='21.5', _c2='46205')]"
            ]
          },
          "metadata": {},
          "execution_count": 21
        }
      ]
    },
    {
      "cell_type": "code",
      "source": [
        "df_pyspark.show()"
      ],
      "metadata": {
        "colab": {
          "base_uri": "https://localhost:8080/"
        },
        "id": "hVlyPcV6f7HD",
        "outputId": "7f31cbfb-ece7-4de0-eac4-1567db87601b"
      },
      "execution_count": 22,
      "outputs": [
        {
          "output_type": "stream",
          "name": "stdout",
          "text": [
            "+---------------+----+------+\n",
            "|            _c0| _c1|   _c2|\n",
            "+---------------+----+------+\n",
            "|YearsExperience| Age|Salary|\n",
            "|            1.1|  21| 39343|\n",
            "|            1.3|21.5| 46205|\n",
            "|            1.5|21.7| 37731|\n",
            "|              2|  22| 43525|\n",
            "|            2.2|22.2| 39891|\n",
            "|            2.9|  23| 56642|\n",
            "|              3|  23| 60150|\n",
            "|            3.2|23.3| 54445|\n",
            "|            3.2|23.3| 64445|\n",
            "|            3.7|23.6| 57189|\n",
            "|            3.9|23.9| 63218|\n",
            "|              4|  24| 55794|\n",
            "|              4|  24| 56957|\n",
            "|            4.1|  24| 57081|\n",
            "|            4.5|  25| 61111|\n",
            "|            4.9|  25| 67938|\n",
            "|            5.1|  26| 66029|\n",
            "|            5.3|  27| 83088|\n",
            "|            5.9|  28| 81363|\n",
            "+---------------+----+------+\n",
            "only showing top 20 rows\n",
            "\n"
          ]
        }
      ]
    },
    {
      "cell_type": "code",
      "source": [
        "df_pyspark.select(['_c0','_c2']).show()"
      ],
      "metadata": {
        "colab": {
          "base_uri": "https://localhost:8080/"
        },
        "id": "W3Iz_aXsgFh7",
        "outputId": "d0b2fcc6-a94d-43ae-ac54-a20855927c47"
      },
      "execution_count": 25,
      "outputs": [
        {
          "output_type": "stream",
          "name": "stdout",
          "text": [
            "+---------------+------+\n",
            "|            _c0|   _c2|\n",
            "+---------------+------+\n",
            "|YearsExperience|Salary|\n",
            "|            1.1| 39343|\n",
            "|            1.3| 46205|\n",
            "|            1.5| 37731|\n",
            "|              2| 43525|\n",
            "|            2.2| 39891|\n",
            "|            2.9| 56642|\n",
            "|              3| 60150|\n",
            "|            3.2| 54445|\n",
            "|            3.2| 64445|\n",
            "|            3.7| 57189|\n",
            "|            3.9| 63218|\n",
            "|              4| 55794|\n",
            "|              4| 56957|\n",
            "|            4.1| 57081|\n",
            "|            4.5| 61111|\n",
            "|            4.9| 67938|\n",
            "|            5.1| 66029|\n",
            "|            5.3| 83088|\n",
            "|            5.9| 81363|\n",
            "+---------------+------+\n",
            "only showing top 20 rows\n",
            "\n"
          ]
        }
      ]
    },
    {
      "cell_type": "code",
      "source": [
        "df_pyspark.dtypes"
      ],
      "metadata": {
        "colab": {
          "base_uri": "https://localhost:8080/"
        },
        "id": "U3cUR-sUgghK",
        "outputId": "2a992973-097f-4e83-c3d6-bd163b515e80"
      },
      "execution_count": 26,
      "outputs": [
        {
          "output_type": "execute_result",
          "data": {
            "text/plain": [
              "[('_c0', 'string'), ('_c1', 'string'), ('_c2', 'string')]"
            ]
          },
          "metadata": {},
          "execution_count": 26
        }
      ]
    },
    {
      "cell_type": "code",
      "source": [
        "df_pyspark.describe().show()"
      ],
      "metadata": {
        "colab": {
          "base_uri": "https://localhost:8080/"
        },
        "id": "Urrl64oOgmEU",
        "outputId": "0b7ba9f7-4823-4774-be07-1b76cff7a3ab"
      },
      "execution_count": 27,
      "outputs": [
        {
          "output_type": "stream",
          "name": "stdout",
          "text": [
            "+-------+------------------+------------------+------------------+\n",
            "|summary|               _c0|               _c1|               _c2|\n",
            "+-------+------------------+------------------+------------------+\n",
            "|  count|                31|                31|                31|\n",
            "|   mean|5.3133333333333335|27.216666666666665|           76003.0|\n",
            "| stddev| 2.837888157662718| 5.161267108077197|27414.429784582302|\n",
            "|    min|               1.1|                21|            101302|\n",
            "|    max|   YearsExperience|               Age|            Salary|\n",
            "+-------+------------------+------------------+------------------+\n",
            "\n"
          ]
        }
      ]
    },
    {
      "cell_type": "code",
      "source": [
        "### Adding Columns in data frame\n",
        "df_pyspark=df_pyspark.withColumn('Experience After 2 year',df_pyspark['_c0']+2)"
      ],
      "metadata": {
        "id": "PBpS-msOgr1F"
      },
      "execution_count": 28,
      "outputs": []
    },
    {
      "cell_type": "code",
      "source": [
        "df_pyspark.show()"
      ],
      "metadata": {
        "colab": {
          "base_uri": "https://localhost:8080/"
        },
        "id": "KtKCFw29g7Ni",
        "outputId": "01ad0fc8-026b-4a3d-eea7-5d83033e3778"
      },
      "execution_count": 29,
      "outputs": [
        {
          "output_type": "stream",
          "name": "stdout",
          "text": [
            "+---------------+----+------+-----------------------+\n",
            "|            _c0| _c1|   _c2|Experience After 2 year|\n",
            "+---------------+----+------+-----------------------+\n",
            "|YearsExperience| Age|Salary|                   null|\n",
            "|            1.1|  21| 39343|                    3.1|\n",
            "|            1.3|21.5| 46205|                    3.3|\n",
            "|            1.5|21.7| 37731|                    3.5|\n",
            "|              2|  22| 43525|                    4.0|\n",
            "|            2.2|22.2| 39891|                    4.2|\n",
            "|            2.9|  23| 56642|                    4.9|\n",
            "|              3|  23| 60150|                    5.0|\n",
            "|            3.2|23.3| 54445|                    5.2|\n",
            "|            3.2|23.3| 64445|                    5.2|\n",
            "|            3.7|23.6| 57189|                    5.7|\n",
            "|            3.9|23.9| 63218|                    5.9|\n",
            "|              4|  24| 55794|                    6.0|\n",
            "|              4|  24| 56957|                    6.0|\n",
            "|            4.1|  24| 57081|                    6.1|\n",
            "|            4.5|  25| 61111|                    6.5|\n",
            "|            4.9|  25| 67938|                    6.9|\n",
            "|            5.1|  26| 66029|                    7.1|\n",
            "|            5.3|  27| 83088|                    7.3|\n",
            "|            5.9|  28| 81363|                    7.9|\n",
            "+---------------+----+------+-----------------------+\n",
            "only showing top 20 rows\n",
            "\n"
          ]
        }
      ]
    },
    {
      "cell_type": "code",
      "source": [
        "### Drop the columns\n",
        "df_pyspark=df_pyspark.drop('Experience After 2 year')"
      ],
      "metadata": {
        "id": "owsqp0sog_qR"
      },
      "execution_count": 30,
      "outputs": []
    },
    {
      "cell_type": "code",
      "source": [
        "df_pyspark.show()"
      ],
      "metadata": {
        "colab": {
          "base_uri": "https://localhost:8080/"
        },
        "id": "aHU5-Y3bhFYd",
        "outputId": "1289ca1c-84c7-4538-ef87-99efb92c9a91"
      },
      "execution_count": 32,
      "outputs": [
        {
          "output_type": "stream",
          "name": "stdout",
          "text": [
            "+---------------+----+------+\n",
            "|            _c0| _c1|   _c2|\n",
            "+---------------+----+------+\n",
            "|YearsExperience| Age|Salary|\n",
            "|            1.1|  21| 39343|\n",
            "|            1.3|21.5| 46205|\n",
            "|            1.5|21.7| 37731|\n",
            "|              2|  22| 43525|\n",
            "|            2.2|22.2| 39891|\n",
            "|            2.9|  23| 56642|\n",
            "|              3|  23| 60150|\n",
            "|            3.2|23.3| 54445|\n",
            "|            3.2|23.3| 64445|\n",
            "|            3.7|23.6| 57189|\n",
            "|            3.9|23.9| 63218|\n",
            "|              4|  24| 55794|\n",
            "|              4|  24| 56957|\n",
            "|            4.1|  24| 57081|\n",
            "|            4.5|  25| 61111|\n",
            "|            4.9|  25| 67938|\n",
            "|            5.1|  26| 66029|\n",
            "|            5.3|  27| 83088|\n",
            "|            5.9|  28| 81363|\n",
            "+---------------+----+------+\n",
            "only showing top 20 rows\n",
            "\n"
          ]
        }
      ]
    },
    {
      "cell_type": "code",
      "source": [
        "### Rename the columns\n",
        "df_pyspark.withColumnRenamed('_c0','Experience').show()"
      ],
      "metadata": {
        "colab": {
          "base_uri": "https://localhost:8080/"
        },
        "id": "o7ct7J2AhMof",
        "outputId": "137a1526-2f90-4f22-9839-596be89bb3d7"
      },
      "execution_count": 33,
      "outputs": [
        {
          "output_type": "stream",
          "name": "stdout",
          "text": [
            "+---------------+----+------+\n",
            "|     Experience| _c1|   _c2|\n",
            "+---------------+----+------+\n",
            "|YearsExperience| Age|Salary|\n",
            "|            1.1|  21| 39343|\n",
            "|            1.3|21.5| 46205|\n",
            "|            1.5|21.7| 37731|\n",
            "|              2|  22| 43525|\n",
            "|            2.2|22.2| 39891|\n",
            "|            2.9|  23| 56642|\n",
            "|              3|  23| 60150|\n",
            "|            3.2|23.3| 54445|\n",
            "|            3.2|23.3| 64445|\n",
            "|            3.7|23.6| 57189|\n",
            "|            3.9|23.9| 63218|\n",
            "|              4|  24| 55794|\n",
            "|              4|  24| 56957|\n",
            "|            4.1|  24| 57081|\n",
            "|            4.5|  25| 61111|\n",
            "|            4.9|  25| 67938|\n",
            "|            5.1|  26| 66029|\n",
            "|            5.3|  27| 83088|\n",
            "|            5.9|  28| 81363|\n",
            "+---------------+----+------+\n",
            "only showing top 20 rows\n",
            "\n"
          ]
        }
      ]
    },
    {
      "cell_type": "code",
      "source": [
        "### Rename the columns\n",
        "df_pyspark.withColumnRenamed('_c1','age').show()"
      ],
      "metadata": {
        "colab": {
          "base_uri": "https://localhost:8080/"
        },
        "id": "CGE9WDechdNS",
        "outputId": "5a759f2a-7e85-443a-e416-4064235582aa"
      },
      "execution_count": 34,
      "outputs": [
        {
          "output_type": "stream",
          "name": "stdout",
          "text": [
            "+---------------+----+------+\n",
            "|            _c0| age|   _c2|\n",
            "+---------------+----+------+\n",
            "|YearsExperience| Age|Salary|\n",
            "|            1.1|  21| 39343|\n",
            "|            1.3|21.5| 46205|\n",
            "|            1.5|21.7| 37731|\n",
            "|              2|  22| 43525|\n",
            "|            2.2|22.2| 39891|\n",
            "|            2.9|  23| 56642|\n",
            "|              3|  23| 60150|\n",
            "|            3.2|23.3| 54445|\n",
            "|            3.2|23.3| 64445|\n",
            "|            3.7|23.6| 57189|\n",
            "|            3.9|23.9| 63218|\n",
            "|              4|  24| 55794|\n",
            "|              4|  24| 56957|\n",
            "|            4.1|  24| 57081|\n",
            "|            4.5|  25| 61111|\n",
            "|            4.9|  25| 67938|\n",
            "|            5.1|  26| 66029|\n",
            "|            5.3|  27| 83088|\n",
            "|            5.9|  28| 81363|\n",
            "+---------------+----+------+\n",
            "only showing top 20 rows\n",
            "\n"
          ]
        }
      ]
    },
    {
      "cell_type": "code",
      "source": [
        "##Subset\n",
        "df_pyspark.na.drop(how=\"any\",subset=['_c1']).show()"
      ],
      "metadata": {
        "colab": {
          "base_uri": "https://localhost:8080/"
        },
        "id": "ebH4C0WTiCvR",
        "outputId": "58398dcb-e322-428e-f27e-648298029437"
      },
      "execution_count": 35,
      "outputs": [
        {
          "output_type": "stream",
          "name": "stdout",
          "text": [
            "+---------------+----+------+\n",
            "|            _c0| _c1|   _c2|\n",
            "+---------------+----+------+\n",
            "|YearsExperience| Age|Salary|\n",
            "|            1.1|  21| 39343|\n",
            "|            1.3|21.5| 46205|\n",
            "|            1.5|21.7| 37731|\n",
            "|              2|  22| 43525|\n",
            "|            2.2|22.2| 39891|\n",
            "|            2.9|  23| 56642|\n",
            "|              3|  23| 60150|\n",
            "|            3.2|23.3| 54445|\n",
            "|            3.2|23.3| 64445|\n",
            "|            3.7|23.6| 57189|\n",
            "|            3.9|23.9| 63218|\n",
            "|              4|  24| 55794|\n",
            "|              4|  24| 56957|\n",
            "|            4.1|  24| 57081|\n",
            "|            4.5|  25| 61111|\n",
            "|            4.9|  25| 67938|\n",
            "|            5.1|  26| 66029|\n",
            "|            5.3|  27| 83088|\n",
            "|            5.9|  28| 81363|\n",
            "+---------------+----+------+\n",
            "only showing top 20 rows\n",
            "\n"
          ]
        }
      ]
    },
    {
      "cell_type": "code",
      "source": [
        "### Filling the Missing Value\n",
        "df_pyspark.na.fill('Missing Values',['_c0','_c1']).show()"
      ],
      "metadata": {
        "colab": {
          "base_uri": "https://localhost:8080/"
        },
        "id": "2beCIId8iHPc",
        "outputId": "717aa459-67f4-4217-f9c7-a31f49fbb7c2"
      },
      "execution_count": 36,
      "outputs": [
        {
          "output_type": "stream",
          "name": "stdout",
          "text": [
            "+---------------+----+------+\n",
            "|            _c0| _c1|   _c2|\n",
            "+---------------+----+------+\n",
            "|YearsExperience| Age|Salary|\n",
            "|            1.1|  21| 39343|\n",
            "|            1.3|21.5| 46205|\n",
            "|            1.5|21.7| 37731|\n",
            "|              2|  22| 43525|\n",
            "|            2.2|22.2| 39891|\n",
            "|            2.9|  23| 56642|\n",
            "|              3|  23| 60150|\n",
            "|            3.2|23.3| 54445|\n",
            "|            3.2|23.3| 64445|\n",
            "|            3.7|23.6| 57189|\n",
            "|            3.9|23.9| 63218|\n",
            "|              4|  24| 55794|\n",
            "|              4|  24| 56957|\n",
            "|            4.1|  24| 57081|\n",
            "|            4.5|  25| 61111|\n",
            "|            4.9|  25| 67938|\n",
            "|            5.1|  26| 66029|\n",
            "|            5.3|  27| 83088|\n",
            "|            5.9|  28| 81363|\n",
            "+---------------+----+------+\n",
            "only showing top 20 rows\n",
            "\n"
          ]
        }
      ]
    },
    {
      "cell_type": "code",
      "source": [
        "\n",
        "from pyspark.ml.feature import Imputer\n",
        "\n",
        "imputer = Imputer(\n",
        "    inputCols=['_c1', '_c0', '_c2'], \n",
        "    outputCols=[\"{}_imputed\".format(c) for c in ['_c1', '_c0', '_c2']]\n",
        "    ).setStrategy(\"median\")"
      ],
      "metadata": {
        "id": "Btig2TdJiwGJ"
      },
      "execution_count": 37,
      "outputs": []
    },
    {
      "cell_type": "code",
      "source": [
        "### Salary of the people less than or equal to 20000\n",
        "df_pyspark.filter(\"_c2<=50000\").show()"
      ],
      "metadata": {
        "colab": {
          "base_uri": "https://localhost:8080/"
        },
        "id": "xf8Xdpm3joh9",
        "outputId": "eb464e0d-8f72-4cb4-c130-b787e6f81254"
      },
      "execution_count": 40,
      "outputs": [
        {
          "output_type": "stream",
          "name": "stdout",
          "text": [
            "+---+----+-----+\n",
            "|_c0| _c1|  _c2|\n",
            "+---+----+-----+\n",
            "|1.1|  21|39343|\n",
            "|1.3|21.5|46205|\n",
            "|1.5|21.7|37731|\n",
            "|  2|  22|43525|\n",
            "|2.2|22.2|39891|\n",
            "+---+----+-----+\n",
            "\n"
          ]
        }
      ]
    },
    {
      "cell_type": "code",
      "source": [
        "df_pyspark.filter((df_pyspark['_c2']<=20000) | \n",
        "                  (df_pyspark['_c2']>=15000)).show()"
      ],
      "metadata": {
        "colab": {
          "base_uri": "https://localhost:8080/"
        },
        "id": "CFYre5wZj0iA",
        "outputId": "aced6c35-521c-43ca-a428-55e24e8cea7c"
      },
      "execution_count": 41,
      "outputs": [
        {
          "output_type": "stream",
          "name": "stdout",
          "text": [
            "+---+----+-----+\n",
            "|_c0| _c1|  _c2|\n",
            "+---+----+-----+\n",
            "|1.1|  21|39343|\n",
            "|1.3|21.5|46205|\n",
            "|1.5|21.7|37731|\n",
            "|  2|  22|43525|\n",
            "|2.2|22.2|39891|\n",
            "|2.9|  23|56642|\n",
            "|  3|  23|60150|\n",
            "|3.2|23.3|54445|\n",
            "|3.2|23.3|64445|\n",
            "|3.7|23.6|57189|\n",
            "|3.9|23.9|63218|\n",
            "|  4|  24|55794|\n",
            "|  4|  24|56957|\n",
            "|4.1|  24|57081|\n",
            "|4.5|  25|61111|\n",
            "|4.9|  25|67938|\n",
            "|5.1|  26|66029|\n",
            "|5.3|  27|83088|\n",
            "|5.9|  28|81363|\n",
            "|  6|  29|93940|\n",
            "+---+----+-----+\n",
            "only showing top 20 rows\n",
            "\n"
          ]
        }
      ]
    },
    {
      "cell_type": "code",
      "source": [
        "df_pyspark.filter(~(df_pyspark['_c2']<=20000)).show()"
      ],
      "metadata": {
        "colab": {
          "base_uri": "https://localhost:8080/"
        },
        "id": "yJ05HuQjkDMm",
        "outputId": "899898bd-6598-40c2-f32d-3e172f68d76e"
      },
      "execution_count": 42,
      "outputs": [
        {
          "output_type": "stream",
          "name": "stdout",
          "text": [
            "+---+----+-----+\n",
            "|_c0| _c1|  _c2|\n",
            "+---+----+-----+\n",
            "|1.1|  21|39343|\n",
            "|1.3|21.5|46205|\n",
            "|1.5|21.7|37731|\n",
            "|  2|  22|43525|\n",
            "|2.2|22.2|39891|\n",
            "|2.9|  23|56642|\n",
            "|  3|  23|60150|\n",
            "|3.2|23.3|54445|\n",
            "|3.2|23.3|64445|\n",
            "|3.7|23.6|57189|\n",
            "|3.9|23.9|63218|\n",
            "|  4|  24|55794|\n",
            "|  4|  24|56957|\n",
            "|4.1|  24|57081|\n",
            "|4.5|  25|61111|\n",
            "|4.9|  25|67938|\n",
            "|5.1|  26|66029|\n",
            "|5.3|  27|83088|\n",
            "|5.9|  28|81363|\n",
            "|  6|  29|93940|\n",
            "+---+----+-----+\n",
            "only showing top 20 rows\n",
            "\n"
          ]
        }
      ]
    },
    {
      "cell_type": "code",
      "source": [
        "spark=SparkSession.builder.appName('Agg').getOrCreate()"
      ],
      "metadata": {
        "id": "MB6C8Mq6kJ5t"
      },
      "execution_count": 43,
      "outputs": []
    },
    {
      "cell_type": "code",
      "source": [
        "df_pyspark.show()"
      ],
      "metadata": {
        "colab": {
          "base_uri": "https://localhost:8080/"
        },
        "id": "LIqPas32kTpo",
        "outputId": "74047f51-26d7-46fe-8b13-f9dfd06004d9"
      },
      "execution_count": 44,
      "outputs": [
        {
          "output_type": "stream",
          "name": "stdout",
          "text": [
            "+---------------+----+------+\n",
            "|            _c0| _c1|   _c2|\n",
            "+---------------+----+------+\n",
            "|YearsExperience| Age|Salary|\n",
            "|            1.1|  21| 39343|\n",
            "|            1.3|21.5| 46205|\n",
            "|            1.5|21.7| 37731|\n",
            "|              2|  22| 43525|\n",
            "|            2.2|22.2| 39891|\n",
            "|            2.9|  23| 56642|\n",
            "|              3|  23| 60150|\n",
            "|            3.2|23.3| 54445|\n",
            "|            3.2|23.3| 64445|\n",
            "|            3.7|23.6| 57189|\n",
            "|            3.9|23.9| 63218|\n",
            "|              4|  24| 55794|\n",
            "|              4|  24| 56957|\n",
            "|            4.1|  24| 57081|\n",
            "|            4.5|  25| 61111|\n",
            "|            4.9|  25| 67938|\n",
            "|            5.1|  26| 66029|\n",
            "|            5.3|  27| 83088|\n",
            "|            5.9|  28| 81363|\n",
            "+---------------+----+------+\n",
            "only showing top 20 rows\n",
            "\n"
          ]
        }
      ]
    },
    {
      "cell_type": "code",
      "source": [
        "## Groupby\n",
        "### Grouped to find the maximum salary\n",
        "df_pyspark.groupBy('_c2').sum().show(5)"
      ],
      "metadata": {
        "colab": {
          "base_uri": "https://localhost:8080/"
        },
        "id": "1JoRTcvVkdiV",
        "outputId": "96b8f5a3-84c2-4542-aab0-fc6162826763"
      },
      "execution_count": 46,
      "outputs": [
        {
          "output_type": "stream",
          "name": "stdout",
          "text": [
            "+------+\n",
            "|   _c2|\n",
            "+------+\n",
            "|112635|\n",
            "|121872|\n",
            "| 55794|\n",
            "| 60150|\n",
            "| 83088|\n",
            "+------+\n",
            "only showing top 5 rows\n",
            "\n"
          ]
        }
      ]
    },
    {
      "cell_type": "code",
      "source": [
        "df_pyspark.groupBy('_c1').avg().show(5)"
      ],
      "metadata": {
        "colab": {
          "base_uri": "https://localhost:8080/"
        },
        "id": "YtJKx2rEkw_O",
        "outputId": "a55e27c8-9caa-44b9-e5ef-db7c10eca576"
      },
      "execution_count": 47,
      "outputs": [
        {
          "output_type": "stream",
          "name": "stdout",
          "text": [
            "+----+\n",
            "| _c1|\n",
            "+----+\n",
            "|  29|\n",
            "|  30|\n",
            "|  34|\n",
            "|21.5|\n",
            "|  22|\n",
            "+----+\n",
            "only showing top 5 rows\n",
            "\n"
          ]
        }
      ]
    },
    {
      "cell_type": "code",
      "source": [
        "df_pyspark.groupBy('_c1').count().show()"
      ],
      "metadata": {
        "colab": {
          "base_uri": "https://localhost:8080/"
        },
        "id": "4ME2xDX4lKRc",
        "outputId": "270b1b21-fb0d-4daf-af7b-2e206950a141"
      },
      "execution_count": 48,
      "outputs": [
        {
          "output_type": "stream",
          "name": "stdout",
          "text": [
            "+----+-----+\n",
            "| _c1|count|\n",
            "+----+-----+\n",
            "|  29|    1|\n",
            "|  30|    2|\n",
            "|  34|    1|\n",
            "|21.5|    1|\n",
            "|  22|    1|\n",
            "|  28|    1|\n",
            "|  35|    1|\n",
            "|  31|    1|\n",
            "|  27|    1|\n",
            "|  26|    1|\n",
            "| Age|    1|\n",
            "|23.3|    2|\n",
            "|21.7|    1|\n",
            "|23.6|    1|\n",
            "|  23|    2|\n",
            "|23.9|    1|\n",
            "|  38|    1|\n",
            "|  25|    2|\n",
            "|  33|    1|\n",
            "|  24|    3|\n",
            "+----+-----+\n",
            "only showing top 20 rows\n",
            "\n"
          ]
        }
      ]
    },
    {
      "cell_type": "code",
      "source": [
        "df_pyspark.agg({'_c2':'sum'}).show()"
      ],
      "metadata": {
        "colab": {
          "base_uri": "https://localhost:8080/"
        },
        "id": "4ZToGpQhlaCg",
        "outputId": "5a05861b-4f0e-46f4-d177-bb350982c579"
      },
      "execution_count": 49,
      "outputs": [
        {
          "output_type": "stream",
          "name": "stdout",
          "text": [
            "+---------+\n",
            "| sum(_c2)|\n",
            "+---------+\n",
            "|2280090.0|\n",
            "+---------+\n",
            "\n"
          ]
        }
      ]
    },
    {
      "cell_type": "code",
      "source": [
        "from __future__ import print_function\n",
        "import pyspark\n",
        "from pyspark.sql import SparkSession\n",
        "from pyspark.ml.feature import VectorAssembler,VectorIndexer\n",
        "from pyspark.ml.feature import VectorAssembler\n",
        "from pyspark.ml.regression import LinearRegression\n",
        "from pyspark.ml.regression import RandomForestRegressor\n",
        "from pyspark.ml.evaluation import RegressionEvaluator"
      ],
      "metadata": {
        "id": "2jO51IIyl9_D"
      },
      "execution_count": 209,
      "outputs": []
    },
    {
      "cell_type": "code",
      "source": [
        "dataframe=spark.read.csv('/content/drive/MyDrive/data/Admission_Predict_Ver1.1.csv',header=True)"
      ],
      "metadata": {
        "id": "SVuiOm4QtSJW"
      },
      "execution_count": 210,
      "outputs": []
    },
    {
      "cell_type": "code",
      "source": [
        "type (dataframe)"
      ],
      "metadata": {
        "colab": {
          "base_uri": "https://localhost:8080/"
        },
        "id": "-qAt2BfIv3WV",
        "outputId": "4a9ffe32-71da-4774-99aa-70551c8b25d7"
      },
      "execution_count": 211,
      "outputs": [
        {
          "output_type": "execute_result",
          "data": {
            "text/plain": [
              "pyspark.sql.dataframe.DataFrame"
            ]
          },
          "metadata": {},
          "execution_count": 211
        }
      ]
    },
    {
      "cell_type": "code",
      "source": [
        "dataframe.show()"
      ],
      "metadata": {
        "colab": {
          "base_uri": "https://localhost:8080/"
        },
        "id": "YAJYPFjGl_m_",
        "outputId": "f4dd4385-6f73-4ccf-b55d-056902108c03"
      },
      "execution_count": 212,
      "outputs": [
        {
          "output_type": "stream",
          "name": "stdout",
          "text": [
            "+---------+---------+-----------+-----------------+---+----+----+----+--------+\n",
            "|Serial No|GRE Score|TOEFL Score|University Rating|SOP|LOR |CGPA| COA|Research|\n",
            "+---------+---------+-----------+-----------------+---+----+----+----+--------+\n",
            "|        1|      337|        118|                4|4.5| 4.5|9.65|0.92|       1|\n",
            "|        2|      324|        107|                4|  4| 4.5|8.87|0.76|       1|\n",
            "|        3|      316|        104|                3|  3| 3.5|   8|0.72|       1|\n",
            "|        4|      322|        110|                3|3.5| 2.5|8.67| 0.8|       1|\n",
            "|        5|      314|        103|                2|  2|   3|8.21|0.65|       0|\n",
            "|        6|      330|        115|                5|4.5|   3|9.34| 0.9|       1|\n",
            "|        7|      321|        109|                3|  3|   4| 8.2|0.75|       1|\n",
            "|        8|      308|        101|                2|  3|   4| 7.9|0.68|       0|\n",
            "|        9|      302|        102|                1|  2| 1.5|   8| 0.5|       0|\n",
            "|       10|      323|        108|                3|3.5|   3| 8.6|0.45|       0|\n",
            "|       11|      325|        106|                3|3.5|   4| 8.4|0.52|       1|\n",
            "|       12|      327|        111|                4|  4| 4.5|   9|0.84|       1|\n",
            "|       13|      328|        112|                4|  4| 4.5| 9.1|0.78|       1|\n",
            "|       14|      307|        109|                3|  4|   3|   8|0.62|       1|\n",
            "|       15|      311|        104|                3|3.5|   2| 8.2|0.61|       1|\n",
            "|       16|      314|        105|                3|3.5| 2.5| 8.3|0.54|       0|\n",
            "|       17|      317|        107|                3|  4|   3| 8.7|0.66|       0|\n",
            "|       18|      319|        106|                3|  4|   3|   8|0.65|       1|\n",
            "|       19|      318|        110|                3|  4|   3| 8.8|0.63|       0|\n",
            "|       20|      303|        102|                3|3.5|   3| 8.5|0.62|       0|\n",
            "+---------+---------+-----------+-----------------+---+----+----+----+--------+\n",
            "only showing top 20 rows\n",
            "\n"
          ]
        }
      ]
    },
    {
      "cell_type": "code",
      "source": [
        "dataframe.printSchema()"
      ],
      "metadata": {
        "colab": {
          "base_uri": "https://localhost:8080/"
        },
        "id": "0gvjyy58v82R",
        "outputId": "009d15af-3669-4a56-b628-f12802c1e908"
      },
      "execution_count": 213,
      "outputs": [
        {
          "output_type": "stream",
          "name": "stdout",
          "text": [
            "root\n",
            " |-- Serial No: string (nullable = true)\n",
            " |-- GRE Score: string (nullable = true)\n",
            " |-- TOEFL Score: string (nullable = true)\n",
            " |-- University Rating: string (nullable = true)\n",
            " |-- SOP: string (nullable = true)\n",
            " |-- LOR : string (nullable = true)\n",
            " |-- CGPA: string (nullable = true)\n",
            " |-- COA: string (nullable = true)\n",
            " |-- Research: string (nullable = true)\n",
            "\n"
          ]
        }
      ]
    },
    {
      "cell_type": "code",
      "source": [
        "from pyspark.sql.functions import col\n",
        "new_dataframe = dataframe.select(*(col(c).cast(\"float\").alias(c) for c in dataframe.columns))"
      ],
      "metadata": {
        "id": "KhaXD0bMmN2R"
      },
      "execution_count": 214,
      "outputs": []
    },
    {
      "cell_type": "code",
      "source": [
        "new_dataframe.printSchema()"
      ],
      "metadata": {
        "colab": {
          "base_uri": "https://localhost:8080/"
        },
        "id": "y87auquVmdC4",
        "outputId": "811c1541-dd4b-47c5-ca19-d522840a6ba5"
      },
      "execution_count": 215,
      "outputs": [
        {
          "output_type": "stream",
          "name": "stdout",
          "text": [
            "root\n",
            " |-- Serial No: float (nullable = true)\n",
            " |-- GRE Score: float (nullable = true)\n",
            " |-- TOEFL Score: float (nullable = true)\n",
            " |-- University Rating: float (nullable = true)\n",
            " |-- SOP: float (nullable = true)\n",
            " |-- LOR : float (nullable = true)\n",
            " |-- CGPA: float (nullable = true)\n",
            " |-- COA: float (nullable = true)\n",
            " |-- Research: float (nullable = true)\n",
            "\n"
          ]
        }
      ]
    },
    {
      "cell_type": "code",
      "source": [
        "from pyspark.sql.functions import col, count, isnan, when"
      ],
      "metadata": {
        "id": "cCIkND-_mgcM"
      },
      "execution_count": 216,
      "outputs": []
    },
    {
      "cell_type": "code",
      "source": [
        "for c in new_dataframe.columns:\n",
        "    print(c)"
      ],
      "metadata": {
        "colab": {
          "base_uri": "https://localhost:8080/"
        },
        "id": "b3qinNlZmj3_",
        "outputId": "6858069e-72a3-4f0c-c152-021791e185db"
      },
      "execution_count": 217,
      "outputs": [
        {
          "output_type": "stream",
          "name": "stdout",
          "text": [
            "Serial No\n",
            "GRE Score\n",
            "TOEFL Score\n",
            "University Rating\n",
            "SOP\n",
            "LOR \n",
            "CGPA\n",
            "COA\n",
            "Research\n"
          ]
        }
      ]
    },
    {
      "cell_type": "code",
      "source": [
        "#checking for null ir nan type values in our columns\n",
        "new_dataframe.select([count(when(col(c).isNull(), c)).alias(c) for c in new_dataframe.columns]).show()"
      ],
      "metadata": {
        "colab": {
          "base_uri": "https://localhost:8080/"
        },
        "id": "Bvfnq8WPmpRU",
        "outputId": "1bd49cb5-1329-4853-c6bd-016660f2c7a0"
      },
      "execution_count": 218,
      "outputs": [
        {
          "output_type": "stream",
          "name": "stdout",
          "text": [
            "+---------+---------+-----------+-----------------+---+----+----+---+--------+\n",
            "|Serial No|GRE Score|TOEFL Score|University Rating|SOP|LOR |CGPA|COA|Research|\n",
            "+---------+---------+-----------+-----------------+---+----+----+---+--------+\n",
            "|        0|        0|          0|                0|  0|   0|   0|  0|       0|\n",
            "+---------+---------+-----------+-----------------+---+----+----+---+--------+\n",
            "\n"
          ]
        }
      ]
    },
    {
      "cell_type": "code",
      "source": [
        "from pyspark.ml.feature import Imputer"
      ],
      "metadata": {
        "id": "sug78Tr7mrvP"
      },
      "execution_count": 219,
      "outputs": []
    },
    {
      "cell_type": "code",
      "source": [
        "imputer = Imputer(inputCols=[\"GRE Score\", \"TOEFL Score\",\"University Rating\"], \n",
        "                  outputCols=[\"GRE Score\", \"TOEFL Score\",\"University Rating\"])\n",
        "model = imputer.fit(new_dataframe)\n",
        "\n",
        "imputed_data = model.transform(new_dataframe)"
      ],
      "metadata": {
        "id": "xSvNfSeWmyuH"
      },
      "execution_count": 220,
      "outputs": []
    },
    {
      "cell_type": "code",
      "source": [
        "imputed_data"
      ],
      "metadata": {
        "colab": {
          "base_uri": "https://localhost:8080/"
        },
        "id": "jhTOVfhhnXpt",
        "outputId": "a2fa5f0a-1cce-42b6-c460-8ee790583056"
      },
      "execution_count": 221,
      "outputs": [
        {
          "output_type": "execute_result",
          "data": {
            "text/plain": [
              "DataFrame[Serial No: float, GRE Score: float, TOEFL Score: float, University Rating: float, SOP: float, LOR : float, CGPA: float, COA: float, Research: float]"
            ]
          },
          "metadata": {},
          "execution_count": 221
        }
      ]
    },
    {
      "cell_type": "code",
      "source": [
        "#checking for null ir nan type values in our columns\n",
        "imputed_data.select([count(when(col(c).isNull(), c)).alias(c) for c in imputed_data.columns]).show()"
      ],
      "metadata": {
        "colab": {
          "base_uri": "https://localhost:8080/"
        },
        "id": "70t_h2HDnevy",
        "outputId": "7fd2256c-209a-4ca4-f544-6acbda89d005"
      },
      "execution_count": 222,
      "outputs": [
        {
          "output_type": "stream",
          "name": "stdout",
          "text": [
            "+---------+---------+-----------+-----------------+---+----+----+---+--------+\n",
            "|Serial No|GRE Score|TOEFL Score|University Rating|SOP|LOR |CGPA|COA|Research|\n",
            "+---------+---------+-----------+-----------------+---+----+----+---+--------+\n",
            "|        0|        0|          0|                0|  0|   0|   0|  0|       0|\n",
            "+---------+---------+-----------+-----------------+---+----+----+---+--------+\n",
            "\n"
          ]
        }
      ]
    },
    {
      "cell_type": "code",
      "source": [
        "\n",
        "pip install --upgrade pandas\n"
      ],
      "metadata": {
        "colab": {
          "base_uri": "https://localhost:8080/",
          "height": 436
        },
        "id": "4gha8jWd0ew6",
        "outputId": "4d7bccc7-4fbd-4488-b8c8-0d8d08beab29"
      },
      "execution_count": 169,
      "outputs": [
        {
          "output_type": "stream",
          "name": "stdout",
          "text": [
            "Looking in indexes: https://pypi.org/simple, https://us-python.pkg.dev/colab-wheels/public/simple/\n",
            "Requirement already satisfied: pandas in /usr/local/lib/python3.10/dist-packages (1.5.3)\n",
            "Collecting pandas\n",
            "  Downloading pandas-2.0.1-cp310-cp310-manylinux_2_17_x86_64.manylinux2014_x86_64.whl (12.3 MB)\n",
            "\u001b[2K     \u001b[90m━━━━━━━━━━━━━━━━━━━━━━━━━━━━━━━━━━━━━━━━\u001b[0m \u001b[32m12.3/12.3 MB\u001b[0m \u001b[31m80.3 MB/s\u001b[0m eta \u001b[36m0:00:00\u001b[0m\n",
            "\u001b[?25hRequirement already satisfied: python-dateutil>=2.8.2 in /usr/local/lib/python3.10/dist-packages (from pandas) (2.8.2)\n",
            "Requirement already satisfied: pytz>=2020.1 in /usr/local/lib/python3.10/dist-packages (from pandas) (2022.7.1)\n",
            "Requirement already satisfied: tzdata>=2022.1 in /usr/local/lib/python3.10/dist-packages (from pandas) (2023.3)\n",
            "Requirement already satisfied: numpy>=1.21.0 in /usr/local/lib/python3.10/dist-packages (from pandas) (1.22.4)\n",
            "Requirement already satisfied: six>=1.5 in /usr/local/lib/python3.10/dist-packages (from python-dateutil>=2.8.2->pandas) (1.16.0)\n",
            "Installing collected packages: pandas\n",
            "  Attempting uninstall: pandas\n",
            "    Found existing installation: pandas 1.5.3\n",
            "    Uninstalling pandas-1.5.3:\n",
            "      Successfully uninstalled pandas-1.5.3\n",
            "\u001b[31mERROR: pip's dependency resolver does not currently take into account all the packages that are installed. This behaviour is the source of the following dependency conflicts.\n",
            "google-colab 1.0.0 requires pandas==1.5.3, but you have pandas 2.0.1 which is incompatible.\u001b[0m\u001b[31m\n",
            "\u001b[0mSuccessfully installed pandas-2.0.1\n"
          ]
        },
        {
          "output_type": "display_data",
          "data": {
            "application/vnd.colab-display-data+json": {
              "pip_warning": {
                "packages": [
                  "pandas"
                ]
              }
            }
          },
          "metadata": {}
        }
      ]
    },
    {
      "cell_type": "code",
      "source": [
        "features = imputed_data.drop('CGPA')\n"
      ],
      "metadata": {
        "id": "stzdaRp-nhKT"
      },
      "execution_count": 225,
      "outputs": []
    },
    {
      "cell_type": "code",
      "source": [
        "features"
      ],
      "metadata": {
        "colab": {
          "base_uri": "https://localhost:8080/"
        },
        "id": "vuUlOm3JxVqv",
        "outputId": "8f15f1f0-d8c4-4cc6-cc9c-a3ce6ce57d98"
      },
      "execution_count": 226,
      "outputs": [
        {
          "output_type": "execute_result",
          "data": {
            "text/plain": [
              "DataFrame[Serial No: float, GRE Score: float, TOEFL Score: float, University Rating: float, SOP: float, LOR : float, COA: float, Research: float]"
            ]
          },
          "metadata": {},
          "execution_count": 226
        }
      ]
    },
    {
      "cell_type": "code",
      "source": [
        "#let's assemble our features together using vectorAssembler\n",
        "assembler = VectorAssembler( inputCols=features.columns,outputCol=\"features\")"
      ],
      "metadata": {
        "id": "AKkKp0wJoawU"
      },
      "execution_count": 227,
      "outputs": []
    },
    {
      "cell_type": "code",
      "source": [
        "output = assembler.transform(imputed_data)"
      ],
      "metadata": {
        "id": "9rJ8P6pcocqD"
      },
      "execution_count": 228,
      "outputs": []
    },
    {
      "cell_type": "code",
      "source": [
        "output= output.select('features', 'CGPA')"
      ],
      "metadata": {
        "id": "MK0QVvvtogqt"
      },
      "execution_count": 229,
      "outputs": []
    },
    {
      "cell_type": "code",
      "source": [
        "output = assembler.transform(imputed_data)"
      ],
      "metadata": {
        "id": "_ni0fGP0oyBB"
      },
      "execution_count": 230,
      "outputs": []
    },
    {
      "cell_type": "code",
      "source": [
        "output= output.select(\"features\", \"CGPA\")"
      ],
      "metadata": {
        "id": "BdMxV6jAo2J1"
      },
      "execution_count": 231,
      "outputs": []
    },
    {
      "cell_type": "code",
      "source": [
        "train_df,test_df = output.randomSplit([0.7, 0.3])"
      ],
      "metadata": {
        "id": "8sXX9Rxpo7x1"
      },
      "execution_count": 232,
      "outputs": []
    },
    {
      "cell_type": "code",
      "source": [
        "train_df.show()\n",
        "test_df.show()"
      ],
      "metadata": {
        "colab": {
          "base_uri": "https://localhost:8080/"
        },
        "id": "yZFjkkz3o_J3",
        "outputId": "9bbe0190-0791-466e-ce42-095a52d6d026"
      },
      "execution_count": 233,
      "outputs": [
        {
          "output_type": "stream",
          "name": "stdout",
          "text": [
            "+--------------------+----+\n",
            "|            features|CGPA|\n",
            "+--------------------+----+\n",
            "|[4.0,322.0,110.0,...|8.67|\n",
            "|[5.0,314.0,103.0,...|8.21|\n",
            "|[6.0,330.0,115.0,...|9.34|\n",
            "|[7.0,321.0,109.0,...| 8.2|\n",
            "|[8.0,308.0,101.0,...| 7.9|\n",
            "|[9.0,302.0,102.0,...| 8.0|\n",
            "|[10.0,323.0,108.0...| 8.6|\n",
            "|[11.0,325.0,106.0...| 8.4|\n",
            "|[12.0,327.0,111.0...| 9.0|\n",
            "|[14.0,307.0,109.0...| 8.0|\n",
            "|[15.0,311.0,104.0...| 8.2|\n",
            "|[18.0,319.0,106.0...| 8.0|\n",
            "|[20.0,303.0,102.0...| 8.5|\n",
            "|[22.0,325.0,114.0...| 8.4|\n",
            "|[23.0,328.0,116.0...| 9.5|\n",
            "|[25.0,336.0,119.0...| 9.8|\n",
            "|[28.0,298.0,98.0,...| 7.5|\n",
            "|[29.0,295.0,93.0,...| 7.2|\n",
            "|[30.0,310.0,99.0,...| 7.3|\n",
            "|[32.0,327.0,103.0...| 8.3|\n",
            "+--------------------+----+\n",
            "only showing top 20 rows\n",
            "\n",
            "+--------------------+----+\n",
            "|            features|CGPA|\n",
            "+--------------------+----+\n",
            "|[1.0,337.0,118.0,...|9.65|\n",
            "|[2.0,324.0,107.0,...|8.87|\n",
            "|[3.0,316.0,104.0,...| 8.0|\n",
            "|[13.0,328.0,112.0...| 9.1|\n",
            "|[16.0,314.0,105.0...| 8.3|\n",
            "|[17.0,317.0,107.0...| 8.7|\n",
            "|[19.0,318.0,110.0...| 8.8|\n",
            "|[21.0,312.0,107.0...| 7.9|\n",
            "|[24.0,334.0,119.0...| 9.7|\n",
            "|[26.0,340.0,120.0...| 9.6|\n",
            "|[27.0,322.0,109.0...| 8.8|\n",
            "|[31.0,300.0,97.0,...| 8.1|\n",
            "|[33.0,338.0,118.0...| 9.4|\n",
            "|[35.0,331.0,112.0...| 9.8|\n",
            "|[37.0,299.0,106.0...| 8.4|\n",
            "|[39.0,304.0,105.0...| 7.5|\n",
            "|[40.0,307.0,108.0...| 7.7|\n",
            "|[43.0,313.0,107.0...| 8.5|\n",
            "|[47.0,329.0,114.0...| 9.3|\n",
            "|[51.0,313.0,98.0,...| 8.3|\n",
            "+--------------------+----+\n",
            "only showing top 20 rows\n",
            "\n"
          ]
        }
      ]
    },
    {
      "cell_type": "code",
      "source": [
        "lin_reg = LinearRegression(featuresCol = 'features', labelCol='CGPA')\n",
        "linear_model = lin_reg.fit(train_df)\n"
      ],
      "metadata": {
        "id": "oiacB7Tbyim0"
      },
      "execution_count": 234,
      "outputs": []
    },
    {
      "cell_type": "code",
      "source": [
        "print(\"Coefficients: \" + str(linear_model.coefficients))\n",
        "print(\"Intercept: \" + str(linear_model.intercept))"
      ],
      "metadata": {
        "colab": {
          "base_uri": "https://localhost:8080/"
        },
        "id": "jZrfY6TGra7S",
        "outputId": "51a303d9-deb1-433b-c31e-c5c79251e878"
      },
      "execution_count": 235,
      "outputs": [
        {
          "output_type": "stream",
          "name": "stdout",
          "text": [
            "Coefficients: [-9.173886668350436e-05,0.009763279577773934,0.01576014816776347,0.029328923796170733,0.06594457926405052,0.02866660957571529,2.0019356772767414,-0.02781340768736839]\n",
            "Intercept: 1.9833059935666588\n"
          ]
        }
      ]
    },
    {
      "cell_type": "code",
      "source": [
        "trainSummary = linear_model.summary\n",
        "print(\"RMSE: %f\" % trainSummary.rootMeanSquaredError)\n",
        "print(\"r2: %f\" % trainSummary.r2)"
      ],
      "metadata": {
        "colab": {
          "base_uri": "https://localhost:8080/"
        },
        "id": "fRAjNI_Ly13W",
        "outputId": "f7b9791d-bd64-4f06-942d-4c6d24f3233f"
      },
      "execution_count": 236,
      "outputs": [
        {
          "output_type": "stream",
          "name": "stdout",
          "text": [
            "RMSE: 0.246966\n",
            "r2: 0.830775\n"
          ]
        }
      ]
    },
    {
      "cell_type": "code",
      "source": [
        "# prediction\n",
        "\n",
        "predictions = linear_model.transform(test_df)\n",
        "predictions.select(\"prediction\",\"CGPA\",\"features\").show()"
      ],
      "metadata": {
        "colab": {
          "base_uri": "https://localhost:8080/"
        },
        "id": "9YEnZYIXy5lc",
        "outputId": "cca09f29-7d8a-4f6a-89b1-022f73f1729e"
      },
      "execution_count": 237,
      "outputs": [
        {
          "output_type": "stream",
          "name": "stdout",
          "text": [
            "+-----------------+----+--------------------+\n",
            "|       prediction|CGPA|            features|\n",
            "+-----------------+----+--------------------+\n",
            "| 9.49017044998765|9.65|[1.0,337.0,118.0,...|\n",
            "|8.836512396265352|8.87|[2.0,324.0,107.0,...|\n",
            "|8.507016512913964| 8.0|[3.0,316.0,104.0,...|\n",
            "|8.993395803243388| 9.1|[13.0,328.0,112.0...|\n",
            "|8.173828148174199| 8.3|[16.0,314.0,105.0...|\n",
            "|8.522084429615429| 8.7|[17.0,317.0,107.0...|\n",
            "|   8.518886543596| 8.8|[19.0,318.0,110.0...|\n",
            "|8.310437685046384| 7.9|[21.0,312.0,107.0...|\n",
            "| 9.59688999195903| 9.7|[24.0,334.0,119.0...|\n",
            "|9.618054712547224| 9.6|[26.0,340.0,120.0...|\n",
            "|8.907660673318091| 8.8|[27.0,322.0,109.0...|\n",
            "|8.054116483228995| 8.1|[31.0,300.0,97.0,...|\n",
            "|9.378061879254656| 9.4|[33.0,338.0,118.0...|\n",
            "| 9.38463937636083| 9.8|[35.0,331.0,112.0...|\n",
            "|8.288049362807303| 8.4|[37.0,299.0,106.0...|\n",
            "|7.913749816976351| 7.5|[39.0,304.0,105.0...|\n",
            "|8.062757673172314| 7.7|[40.0,307.0,108.0...|\n",
            "|8.035668542990564| 8.5|[43.0,313.0,107.0...|\n",
            "|9.235377426369375| 9.3|[47.0,329.0,114.0...|\n",
            "|8.454533990240227| 8.3|[51.0,313.0,98.0,...|\n",
            "+-----------------+----+--------------------+\n",
            "only showing top 20 rows\n",
            "\n"
          ]
        }
      ]
    },
    {
      "cell_type": "code",
      "source": [
        "from pyspark.ml.evaluation import RegressionEvaluator\n",
        "pred_evaluator = RegressionEvaluator(predictionCol=\"prediction\", \\\n",
        "                 labelCol=\"CGPA\",metricName=\"r2\")\n",
        "print(\"R Squared (R2) on test data =\", pred_evaluator.evaluate(predictions))"
      ],
      "metadata": {
        "colab": {
          "base_uri": "https://localhost:8080/"
        },
        "id": "G5Ed3y4VzCoj",
        "outputId": "41a0695e-c666-4515-e1a9-83607bea9507"
      },
      "execution_count": 238,
      "outputs": [
        {
          "output_type": "stream",
          "name": "stdout",
          "text": [
            "R Squared (R2) on test data = 0.8595701404453849\n"
          ]
        }
      ]
    },
    {
      "cell_type": "code",
      "source": [
        "featureIndexer =VectorIndexer(inputCol=\"features\", outputCol=\"indexedFeatures\", maxCategories=4).fit(output)"
      ],
      "metadata": {
        "id": "gGyGq-nN5Kgy"
      },
      "execution_count": 240,
      "outputs": []
    },
    {
      "cell_type": "code",
      "source": [
        "featureIndexer = featureIndexer.transform(output)"
      ],
      "metadata": {
        "id": "n7XFJDtH5YEu"
      },
      "execution_count": 241,
      "outputs": []
    },
    {
      "cell_type": "code",
      "source": [
        "new_indexed_data = featureIndexer.select(\"indexedFeatures\", \"CGPA\")"
      ],
      "metadata": {
        "id": "QAJU9zWW5b6m"
      },
      "execution_count": 243,
      "outputs": []
    },
    {
      "cell_type": "code",
      "source": [
        "training, test = new_indexed_data.randomSplit([0.7, 0.3])"
      ],
      "metadata": {
        "id": "tej3Fbgy5iyI"
      },
      "execution_count": 244,
      "outputs": []
    },
    {
      "cell_type": "code",
      "source": [
        "training.show()"
      ],
      "metadata": {
        "colab": {
          "base_uri": "https://localhost:8080/"
        },
        "id": "LLvc3WVz5mHN",
        "outputId": "a9cb4991-1d6c-4742-f00d-5b7e4277ef0e"
      },
      "execution_count": 245,
      "outputs": [
        {
          "output_type": "stream",
          "name": "stdout",
          "text": [
            "+--------------------+----+\n",
            "|     indexedFeatures|CGPA|\n",
            "+--------------------+----+\n",
            "|[1.0,337.0,118.0,...|9.65|\n",
            "|[2.0,324.0,107.0,...|8.87|\n",
            "|[3.0,316.0,104.0,...| 8.0|\n",
            "|[4.0,322.0,110.0,...|8.67|\n",
            "|[5.0,314.0,103.0,...|8.21|\n",
            "|[7.0,321.0,109.0,...| 8.2|\n",
            "|[8.0,308.0,101.0,...| 7.9|\n",
            "|[11.0,325.0,106.0...| 8.4|\n",
            "|[15.0,311.0,104.0...| 8.2|\n",
            "|[17.0,317.0,107.0...| 8.7|\n",
            "|[19.0,318.0,110.0...| 8.8|\n",
            "|[20.0,303.0,102.0...| 8.5|\n",
            "|[24.0,334.0,119.0...| 9.7|\n",
            "|[25.0,336.0,119.0...| 9.8|\n",
            "|[26.0,340.0,120.0...| 9.6|\n",
            "|[28.0,298.0,98.0,...| 7.5|\n",
            "|[29.0,295.0,93.0,...| 7.2|\n",
            "|[30.0,310.0,99.0,...| 7.3|\n",
            "|[31.0,300.0,97.0,...| 8.1|\n",
            "|[32.0,327.0,103.0...| 8.3|\n",
            "+--------------------+----+\n",
            "only showing top 20 rows\n",
            "\n"
          ]
        }
      ]
    },
    {
      "cell_type": "code",
      "source": [
        "test.show()"
      ],
      "metadata": {
        "colab": {
          "base_uri": "https://localhost:8080/"
        },
        "id": "ixyHBqVs5qbi",
        "outputId": "8822e033-1370-44ac-aa15-317ac41112cb"
      },
      "execution_count": 246,
      "outputs": [
        {
          "output_type": "stream",
          "name": "stdout",
          "text": [
            "+--------------------+----+\n",
            "|     indexedFeatures|CGPA|\n",
            "+--------------------+----+\n",
            "|[6.0,330.0,115.0,...|9.34|\n",
            "|[9.0,302.0,102.0,...| 8.0|\n",
            "|[10.0,323.0,108.0...| 8.6|\n",
            "|[12.0,327.0,111.0...| 9.0|\n",
            "|[13.0,328.0,112.0...| 9.1|\n",
            "|[14.0,307.0,109.0...| 8.0|\n",
            "|[16.0,314.0,105.0...| 8.3|\n",
            "|[18.0,319.0,106.0...| 8.0|\n",
            "|[21.0,312.0,107.0...| 7.9|\n",
            "|[22.0,325.0,114.0...| 8.4|\n",
            "|[23.0,328.0,116.0...| 9.5|\n",
            "|[27.0,322.0,109.0...| 8.8|\n",
            "|[34.0,340.0,114.0...| 9.6|\n",
            "|[41.0,308.0,110.0...| 8.0|\n",
            "|[42.0,316.0,105.0...| 8.2|\n",
            "|[47.0,329.0,114.0...| 9.3|\n",
            "|[50.0,327.0,111.0...| 8.4|\n",
            "|[54.0,324.0,112.0...| 8.1|\n",
            "|[64.0,315.0,107.0...| 8.5|\n",
            "|[66.0,325.0,112.0...|8.92|\n",
            "+--------------------+----+\n",
            "only showing top 20 rows\n",
            "\n"
          ]
        }
      ]
    },
    {
      "cell_type": "code",
      "source": [
        "random_forest_reg = RandomForestRegressor(featuresCol=\"indexedFeatures\",labelCol=\"CGPA\" )"
      ],
      "metadata": {
        "id": "WCr0b_gj5ujN"
      },
      "execution_count": 247,
      "outputs": []
    },
    {
      "cell_type": "code",
      "source": [
        "# Train model\n",
        "model = random_forest_reg.fit(training)"
      ],
      "metadata": {
        "id": "PPV3dj_F52v8"
      },
      "execution_count": 252,
      "outputs": []
    },
    {
      "cell_type": "code",
      "source": [
        "# Make predictions.\n",
        "predictions = model.transform(test)"
      ],
      "metadata": {
        "id": "iL9HZ6HS6HfN"
      },
      "execution_count": 253,
      "outputs": []
    },
    {
      "cell_type": "code",
      "source": [
        "predictions.show()"
      ],
      "metadata": {
        "colab": {
          "base_uri": "https://localhost:8080/"
        },
        "id": "EdusuBli7Ax-",
        "outputId": "7e9b812a-2b2d-45ef-a4aa-a782d23a5297"
      },
      "execution_count": 254,
      "outputs": [
        {
          "output_type": "stream",
          "name": "stdout",
          "text": [
            "+--------------------+----+-----------------+\n",
            "|     indexedFeatures|CGPA|       prediction|\n",
            "+--------------------+----+-----------------+\n",
            "|[6.0,330.0,115.0,...|9.34|9.227347896801028|\n",
            "|[9.0,302.0,102.0,...| 8.0|7.788102248968157|\n",
            "|[10.0,323.0,108.0...| 8.6|8.382005845818453|\n",
            "|[12.0,327.0,111.0...| 9.0|9.047606595266469|\n",
            "|[13.0,328.0,112.0...| 9.1|8.871615651446733|\n",
            "|[14.0,307.0,109.0...| 8.0| 8.44895524109065|\n",
            "|[16.0,314.0,105.0...| 8.3|8.138515941776834|\n",
            "|[18.0,319.0,106.0...| 8.0|8.352543491670506|\n",
            "|[21.0,312.0,107.0...| 7.9|8.287206975562459|\n",
            "|[22.0,325.0,114.0...| 8.4|8.662249556820763|\n",
            "|[23.0,328.0,116.0...| 9.5|9.420910111932473|\n",
            "|[27.0,322.0,109.0...| 8.8|8.739921693812844|\n",
            "|[34.0,340.0,114.0...| 9.6| 9.43803062221526|\n",
            "|[41.0,308.0,110.0...| 8.0|  8.0981782468484|\n",
            "|[42.0,316.0,105.0...| 8.2|8.142168232832308|\n",
            "|[47.0,329.0,114.0...| 9.3|9.116547688057974|\n",
            "|[50.0,327.0,111.0...| 8.4|8.816699302987049|\n",
            "|[54.0,324.0,112.0...| 8.1|8.643195866891276|\n",
            "|[64.0,315.0,107.0...| 8.5|8.193730045005452|\n",
            "|[66.0,325.0,112.0...|8.92|8.638773161787872|\n",
            "+--------------------+----+-----------------+\n",
            "only showing top 20 rows\n",
            "\n"
          ]
        }
      ]
    },
    {
      "cell_type": "code",
      "source": [
        "evaluator = RegressionEvaluator(labelCol=\"CGPA\", predictionCol=\"prediction\", metricName=\"rmse\")\n",
        "print (\"Root Mean Squared Error (RMSE) on test data = \",evaluator.evaluate(predictions))"
      ],
      "metadata": {
        "colab": {
          "base_uri": "https://localhost:8080/"
        },
        "id": "n4-QvGCs7DOQ",
        "outputId": "dd3cb8e1-750d-4150-97eb-e90092f66703"
      },
      "execution_count": 255,
      "outputs": [
        {
          "output_type": "stream",
          "name": "stdout",
          "text": [
            "Root Mean Squared Error (RMSE) on test data =  0.23043043510715572\n"
          ]
        }
      ]
    },
    {
      "cell_type": "code",
      "source": [
        "evaluator = RegressionEvaluator(labelCol=\"CGPA\", predictionCol=\"prediction\", metricName=\"r2\")\n",
        "print(\"R Squared (R2) on test data =\", evaluator.evaluate(predictions))"
      ],
      "metadata": {
        "colab": {
          "base_uri": "https://localhost:8080/"
        },
        "id": "4ZAxk7ZV7Mlq",
        "outputId": "6575efe3-ba5a-4237-a19e-8b86ad445998"
      },
      "execution_count": 257,
      "outputs": [
        {
          "output_type": "stream",
          "name": "stdout",
          "text": [
            "R Squared (R2) on test data = 0.8430780874273733\n"
          ]
        }
      ]
    }
  ]
}